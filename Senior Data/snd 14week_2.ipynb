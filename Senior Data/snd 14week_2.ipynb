{
  "nbformat": 4,
  "nbformat_minor": 0,
  "metadata": {
    "colab": {
      "name": "14주차_02_교차검증과 그리드 서치",
      "provenance": [],
      "collapsed_sections": []
    },
    "kernelspec": {
      "display_name": "TensorFlow 2.3 on Python 3.6 (CUDA 10.1)",
      "language": "python",
      "name": "python3"
    },
    "language_info": {
      "codemirror_mode": {
        "name": "ipython",
        "version": 3
      },
      "file_extension": ".py",
      "mimetype": "text/x-python",
      "name": "python",
      "nbconvert_exporter": "python",
      "pygments_lexer": "ipython3",
      "version": "3.6.9"
    }
  },
  "cells": [
    {
      "cell_type": "markdown",
      "metadata": {
        "id": "rOafwFRXG7fb"
      },
      "source": [
        "# 14-2 교차 검증과 그리드 서치"
      ]
    },
    {
      "cell_type": "markdown",
      "metadata": {
        "id": "dVNF7yZjyvoO"
      },
      "source": [
        "# 1. 검증 세트\n",
        "\n",
        "- 인공지능 모델의 훈련 과정 : 훈련용 세트로 모형 도출 -> 테스트 세트로 평가\n",
        "\n",
        "- 그런데 훈련용 세트에 집중하다 보면, 테스트 세트에 적용 시 모형의 정확도가 감소\n",
        "\n",
        "- 즉, 과적합(Overfitting)의 문제에 직면하기 때문에 결국은 \"테스트용 세트\"로 \n",
        "모형을 평가\n",
        "\n",
        "  **\"이런 저런 값으로 모델을 많이 만들어서 테스트 세트로 평가하면 결국 테스트 세트에 잘 맞는 모델이 만들어진다\"**\n",
        "\n",
        "\n",
        "- 무엇이 문제인가?\n",
        "\n",
        "  **테스트 세트에 데이터를 적용해 정확도를 평가하는 것은 가장 마지막에 진행하며 자주 하기 어려움** \n",
        "\n",
        "- 이를 위해서 테스트 세트 외에 **검증용세트**를 만든다.\n"
      ]
    },
    {
      "cell_type": "markdown",
      "metadata": {
        "id": "mXNhwzHz01bP"
      },
      "source": [
        "![image.png](data:image/png;base64,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)"
      ]
    },
    {
      "cell_type": "markdown",
      "metadata": {
        "id": "Qqya3I373O1L"
      },
      "source": [
        "훈련세트에서 일부를 **\"검증용 세트\"** 를 만들어서 훈련을 수행함 "
      ]
    },
    {
      "cell_type": "code",
      "metadata": {
        "id": "banlvMA6RfnM"
      },
      "source": [
        "#pandas로 데이터 불러오기\n",
        "\n",
        "import pandas as pd\n",
        "\n",
        "wine = pd.read_csv('https://bit.ly/wine_csv_data')"
      ],
      "execution_count": null,
      "outputs": []
    },
    {
      "cell_type": "code",
      "metadata": {
        "colab": {
          "base_uri": "https://localhost:8080/"
        },
        "id": "c9pzyyU66Zig",
        "outputId": "9e238301-0e92-4fbb-f2b0-ab35bec1b078"
      },
      "source": [
        "#데이터 보기 \n",
        "\n",
        "print(wine)"
      ],
      "execution_count": null,
      "outputs": [
        {
          "output_type": "stream",
          "name": "stdout",
          "text": [
            "      alcohol  sugar    pH  class\n",
            "0         9.4    1.9  3.51    0.0\n",
            "1         9.8    2.6  3.20    0.0\n",
            "2         9.8    2.3  3.26    0.0\n",
            "3         9.8    1.9  3.16    0.0\n",
            "4         9.4    1.9  3.51    0.0\n",
            "...       ...    ...   ...    ...\n",
            "6492     11.2    1.6  3.27    1.0\n",
            "6493      9.6    8.0  3.15    1.0\n",
            "6494      9.4    1.2  2.99    1.0\n",
            "6495     12.8    1.1  3.34    1.0\n",
            "6496     11.8    0.8  3.26    1.0\n",
            "\n",
            "[6497 rows x 4 columns]\n"
          ]
        }
      ]
    },
    {
      "cell_type": "markdown",
      "metadata": {
        "id": "9r76dILX3imD"
      },
      "source": [
        ""
      ]
    },
    {
      "cell_type": "code",
      "metadata": {
        "id": "abR6QA7qRoKl"
      },
      "source": [
        "#data값으로 알콜농도, 설탕량, ph(산도)\n",
        "#타겟갓은 와인의 종류 : 화이트/레드\n",
        "\n",
        "data = wine[['alcohol', 'sugar', 'pH']].to_numpy()\n",
        "target = wine['class'].to_numpy()"
      ],
      "execution_count": null,
      "outputs": []
    },
    {
      "cell_type": "code",
      "metadata": {
        "id": "3Z2vaU9b6oLS",
        "colab": {
          "base_uri": "https://localhost:8080/"
        },
        "outputId": "30d88014-a11c-46e5-944e-f399e38d8520"
      },
      "source": [
        "#데이터 확인\n",
        "print(data)\n",
        "print(target)\n"
      ],
      "execution_count": null,
      "outputs": [
        {
          "output_type": "stream",
          "name": "stdout",
          "text": [
            "[[ 9.4   1.9   3.51]\n",
            " [ 9.8   2.6   3.2 ]\n",
            " [ 9.8   2.3   3.26]\n",
            " ...\n",
            " [ 9.4   1.2   2.99]\n",
            " [12.8   1.1   3.34]\n",
            " [11.8   0.8   3.26]]\n",
            "[0. 0. 0. ... 1. 1. 1.]\n"
          ]
        }
      ]
    },
    {
      "cell_type": "code",
      "metadata": {
        "id": "auLnVXyMRoeb"
      },
      "source": [
        "#데이터를 훈련세트(80%)와 테스트세트(20%)로 나눔 \n",
        "\n",
        "from sklearn.model_selection import train_test_split\n",
        "\n",
        "train_input, test_input, train_target, test_target = train_test_split(\n",
        "    data, target, test_size=0.2, random_state=42)"
      ],
      "execution_count": null,
      "outputs": []
    },
    {
      "cell_type": "code",
      "metadata": {
        "id": "E-yV4cCXRqNK"
      },
      "source": [
        "#훈련세트(train_input)을 sub_input(진짜 훈련)과 검증용(val_input)으로 나눔 \n",
        "sub_input, val_input, sub_target, val_target = train_test_split(\n",
        "    train_input, train_target, test_size=0.2, random_state=42)"
      ],
      "execution_count": null,
      "outputs": []
    },
    {
      "cell_type": "code",
      "metadata": {
        "colab": {
          "base_uri": "https://localhost:8080/"
        },
        "id": "LVUotAsI7G-J",
        "outputId": "714a83a9-11ba-4601-a6a0-ce5e27c7101e"
      },
      "source": [
        "#데이터 확인\n",
        "\n",
        "print(sub_input)"
      ],
      "execution_count": null,
      "outputs": [
        {
          "output_type": "stream",
          "name": "stdout",
          "text": [
            "[[11.4   1.25  2.95]\n",
            " [ 9.1   8.    3.23]\n",
            " [ 9.1  13.4   3.06]\n",
            " ...\n",
            " [11.5   3.    3.16]\n",
            " [12.3   9.    3.13]\n",
            " [11.1   1.4   3.34]]\n"
          ]
        }
      ]
    },
    {
      "cell_type": "code",
      "metadata": {
        "colab": {
          "base_uri": "https://localhost:8080/"
        },
        "id": "k29hKbw4R7Ki",
        "outputId": "03e9c6a4-1be5-4cd3-af25-850cdf440f43"
      },
      "source": [
        "#데이터의 배열 확인(총 숫자)\n",
        "#기존의 훈련용 데이터 셑-< 훈련용 / 검증용 \n",
        "print(sub_input.shape, val_input.shape)"
      ],
      "execution_count": null,
      "outputs": [
        {
          "output_type": "stream",
          "name": "stdout",
          "text": [
            "(4157, 3) (1040, 3)\n"
          ]
        }
      ]
    },
    {
      "cell_type": "code",
      "metadata": {
        "colab": {
          "base_uri": "https://localhost:8080/"
        },
        "id": "4VQz-UZ2SeLq",
        "outputId": "a6d8e685-fc4b-430f-a126-18665b8e6861"
      },
      "source": [
        "#의사결정나무로 데이터 검정 \n",
        "#훈련세트->모델도출->검증용 데이터 대입 -> 확인\n",
        "\n",
        "from sklearn.tree import DecisionTreeClassifier\n",
        "\n",
        "dt = DecisionTreeClassifier(random_state=42)\n",
        "dt.fit(sub_input, sub_target)\n",
        "\n",
        "print(dt.score(sub_input, sub_target))\n",
        "print(dt.score(val_input, val_target))"
      ],
      "execution_count": null,
      "outputs": [
        {
          "output_type": "stream",
          "name": "stdout",
          "text": [
            "0.9971133028626413\n",
            "0.864423076923077\n"
          ]
        }
      ]
    },
    {
      "cell_type": "markdown",
      "metadata": {
        "id": "SrbgbL877vEe"
      },
      "source": [
        "훈련세트 99% 정확도\n",
        "\n",
        "검증세트 86% 정확도\n",
        "\n",
        ": 훈련용 세트에 과대적합"
      ]
    },
    {
      "cell_type": "markdown",
      "metadata": {
        "id": "Z4gRXnK6y2Pt"
      },
      "source": [
        "#2.  교차 검증"
      ]
    },
    {
      "cell_type": "markdown",
      "metadata": {
        "id": "1LSApTP58KWf"
      },
      "source": [
        "- 검증세트를 만들었지만 훈련세트에 사용할 데이터 수가 줄어듦 \n",
        "\n",
        "- 그렇다고 검증용 데이터 세트를 줄이면, 과대적합이 발생 \n",
        "\n",
        "- 어떻게 하면 안정적으로 검증이 가능할까? : **교차검증**을 활용 "
      ]
    },
    {
      "cell_type": "markdown",
      "metadata": {
        "id": "edICFWsu8nYu"
      },
      "source": [
        "**3폴드 교차검증**\n",
        "\n",
        "- 훈련세트를 3부분으로 나눠서 수행하는 검증 방식 \n",
        "\n",
        "- 아래는 3폴드 예시"
      ]
    },
    {
      "cell_type": "markdown",
      "metadata": {
        "id": "qqw24v9n74QU"
      },
      "source": [
        "![image.png](data:image/png;base64,iVBORw0KGgoAAAANSUhEUgAAAroAAAF8CAYAAAAgpBgtAAAgAElEQVR4Aezd1bMtx5E18O/PcMw8zLzNw8TAg2NMY2aQLbMs20cW2bIsZmZmZmaLmZmZmZmZ0f3FryLyTqnVe+/e+5yjq3NuVkRrU3dV1srMlauq+x79vyZbIpAIJAKJQCKQCCQCiUAiMA8R+H/zcE45pUQgEUgEEoFEIBFIBBKBRKBJoZtBkAgkAolAIpAIJAKJQCIwLxFIoTsv3ZqTSgQSgUQgEUgEEoFEIBFIoZsxkAgkAolAIpAIJAKJQCIwLxFIoTsv3ZqTSgQSgUQgEUgEEoFEIBFIoZsxkAgkAolAIpAIJAKJQCIwLxFIoTsv3ZqTSgQSgUQgEUgEEoFEIBFIoZsxkAgkAolAIpAIJAKJQCIwLxFIoTsv3ZqTSgQSgUQgEUgEEoFEIBFIoZsxkAgkAolAIpAIJAKJQCIwLxFIoTsv3ZqTSgQSgUQgEUgEEoFEIBFIoZsxkAgkAolAIpAIJAKJQCIwLxGYc0L3ww8/bJ566qnmvvvua5599tnmo48+mhHHPP30080DDzxQ+v7HP/4xI322O9Hve++917zzzjvtn2bk8wcffNDcc889zYMPPti89dZbM9LndDp56KGHCqavvPLKdLpZaNfC0xwc5tA3Llz30ksvNbfcckvz3HPPNT5Pt+lDzD/yyCPNa6+91ru7t99+u1wjLl599dVp54v4NafbbrutefHFFxv52KcZ++GHHy5zePfdd3tjqe/nn3++XPf444/PCJZ97O06h/+ffPLJ5o477ihzH5d74HbvvfcWjhkVE/Ayjjwed5wu2+vvzAOW+hfX4/QvnvjRPLzvmxP1+PV784v+8OJ0+3v00Ueb+++/v3nhhRd692VMMema119/vfd15iH+w6/PPPNM73xwrRio7e3rB7aqV7fffnvhmb45WOM+m+/feOONkq/qkPd9fCqv4Dgbc4Ez/hNnuLOPPcPwif7UBXk6qD/f48uXX365efPNN4d1+an/NimPT8fQhcnjn1mhK0Huvvvu5vLLL2+uvfbaIpgEKTJASIcddlhz4IEHNjfccMN0sF9wrT5POumkZtdddy19CoRoigEbzj333Oacc85Z8HrmmWc2f//734sdV199dSHLuKb9KugR8D777NNssskmpT8kPyhJ2tf3+Qyba665ptl9992bgw466GOXSDbi5Kyzzir2x1zM4cQTT2z222+/cq3zJm1I6rHHHis4Xnnllc1NN93U7L///s1uu+1WEn66c0UwCuzpp5/eHHfccc0FF1zQXHTRRc2FF17YnH/++Y257LvvvkVgTodYFJHLLrus4CIG4Xnsscc2ClmfBgdC98gjj2z22GOPgmuf69rnEJJXXHFFc/bZZzdPPPFEyYGddtqpxFxfPymKCHn77bcvc1B8ptP4wAKTX8XMzTff3Ks7/rj++uubbbbZpjn11FNLUWtfCDN9m5v8i3jxPV9vsMEGpQ9iRPO7HLr44ovL7wrZbDcCUSysvvrqZQ59xQm7ED1frrPOOkWksL3dxI55yMlNN920OeSQQ5o777xzRgsl3MTEEUcc0ay11lpF7LbtGPT5/fffL/zI93vvvXcRMoPO7fre/MRkiGR+vu6660re6hPvj9PYQyCLS/PiH7Vhl112KTljvGjiBgfiCbkc8eVVH+LyhBNOaO666664ZMEru1zL97gHv+mD/8XrMcccU3LiqquuWnDNqDdswzVyKfw86hq/m7PNHrXk4IMPLnb1ue7TOkdci9nNNtuscLU5drXAXQ3fYYcdCjfgdhxQ+63r2nG+Exs2CYxx9NFHd3LPuP2p5TvuuGPpj72DmrHlsrhRS4Y1OF166aWF39VpvKa+4T6fxSaN0rcODRtrGI/ziznZVLEQswgxplffqcEWWbfeemvnpkvN43I98mwQjw+zc6Z+m1WhG7tJiiHRY4cLWTiA5Hsk5wAe8KMhFjsOgsRBwFnxAQ14SHHjjTcujo9rBr06n5OIVWMany1EhMQico2HrFZdddUSUGyPRugSsoLsjDPOKELxtNNOKzYsscQSzQorrFDI0zhdTV8CFpESHOuuu24JfPNiV99iyU6YmEfgyK5LLrmk4IsA7Urr/89//vPHTEHG5i5ZED3Bbu6K1VJLLdX88Y9/LMkkGPs2xYEAc3iPnAgpYhPJsXPzzTdvpqamFggXOEt42IsJceDgD4Qn0YkBhQSZ1y0Iqxa6yCCELv8svvji5XrjTNL4wrgWMMsvv3zZCVh77bWb7bbbrixU6j7Zo3gihdqHYpSwY4/YQHKTNEL3+OOPb7bddtsivAmllVZaqXxuYyPG+Li9a8sn8ma99dZrttxyy6Gim93mg8QsMPlAzNx4443FX4q4gmHBaZG52mqrlZgeNjd9OmClrzXXXLPY3yW4CTwLDP4XH2LRdWKLj3/+8583J598chGMxgycnU8UKgbTabHLQQSyBckjdnOGieLm81FHHdX853/+Z1nUhd9dq1DJR3wmtnGWPMMZYoQAYOv3v//9Mh+80m6ul6NEqNw89NBDi5iB/bgxDR8x07Vri0uIq//+7/9eUDjFCv/LZ4UtihscYKIfHEMIEpK4T4wOauyFo9wWn+zBkXyPP3EVTGBLNOCgYfzDZjtzrhMXWohXmLFFDlhcyl39sjeac3HSX/7yl8KZ+nPIDzxsEbnFFlsUYRHXxKu54CmL18MPP7ycYx5ywdz4a6ONNiqvcc2oV3iYv3FtfhA0wxr/OMQcX+y1115l0STGJm1shwE+4W9YiBnxCpPYcfbaFa/1uHzCPq8WHMsss0zxBZ91NeOpiXjSZoJNpgMOOKBg6Ho5NU7DE5FnkZeu915c4U7+FcvDGg5Vo+Qc7sNb6gx+sVjXnzhbZZVVSn3DC12Nf+GL89QQuT2swSOELp6oha74VoPUVVppWDNuHx43zy4ed70xbB6ptWwKnWYOvpcDO++8c8nlti3j8nj7+tn4PKtCV3AReHvuuWc5gIoQFApAIdqtttqqFGGEThwIIsHBCYhLsVUogC1A/cYRCh9BJVFGNWQkQCWTFTCyUkSI2h/96EdFPEoSRRaBSzzj1E3ySiI2sg2J6kvxRTiDgh3RKo5LL710mTNyFNCC5Ze//GUphPoc1SL4iCbzMAdY2h2amppasLviPPasuOKKn+hSkUFiga9ktvP761//uogPBcT1fZtkhxm/Cm7XKgiS4re//W0pKny08sorL+jX3PmeSFLc7L6Yh1fnIiIEYkHAZ3VDokjZWIpxkLI5OfjAuESScwc1dsIcmTqQvNjiGxjws7j9yU9+UhJeTCDgmiD17zxj8YU+amIWL/qzC2kHaFBjC3+EHe1YgC+c+F1RtCNqkWfsaGKMGLNLf9555xVSr+fvOhjLQ4V+UHONefAPPyBWvjW+HUyx5jfzQsQKOyI0hxB6iiPBxz59iTGYKpLmKGfs8AeW8l3uOfgPoZujsflff2KKWLL7aFwxEC2Kzl//+teCS3w/yaviYBz571DYiAgLUqQOCwtMC8tvfvObJf5iHNcqiM6Ds3iBIVH7+9//vvzmXOcQWvyKR+oGR3O0IIGxz3BR3OQDLPs2vsSfFgZiQt75Dl5ik79w0Ne+9rUF8/CdvBL77MO9eFcfOIXAFUv41GLZvIYJU2PibiKO78Vp8KzFtY0F5+iD8PXdsP4IJrmG/8SEJq4sSr/+9a8X3+if7yx82FsLXefjDL6zixrFW04o4Hb8xJ3aEs1cxTGhB5t6N4svLc5xj4WhHVa1LZq8Fr9iXXzwZ1eDL+4jbLSoNTGm/tlgbH3hXVzOR+yV95M2fRNzYl2cmIcFGpEnzvWNb/CPXVpziHmxT67D1J088elVjJgv2/BFlzATi+xfbLHFyrzlAl8Z909/+lOJhzrPR80PHviDnew3LzjWjX/VffV4WBOrfIL3xIkaKTZ/8YtfFH0Q18p1eSFX2w1OcBAj5iOv2WWe5t7VxLSx9cf++hDLONwiTv0b1vQ/CY/XfYozMSHfxAAukC/mIz/41kLGZ20cHif82zxejz0b72dV6HK2AIwdO05ERECJppAomAAVGH6XUL6PXVAiCLkJOH1JCL/1FbrGYks9LnJTUBTwWKlKcqtKhU0ydzXFACEQrnZDkBMyHNQkq4D529/+VmyP81xj3gp/FxHEee3Xeh6wtRuw5JJLluSIxB4kdKMvfShgEvC73/1up7CPc4e9whNp/Ou//mvpAzbhvz/84Q8lMZAk4VpjL1HsUp5yyikDce4aF3laHOnbDiVBIQYUGIfPdvkRNzsGNXZKWgKcX1xD7Fu0KN7ITfH83e9+VwoLYUa41ITGFkXcrtbnPve5QqDiG7YaXyCkUUJXLIt3tmy44YafEPfIETkTgGISbjAlEKIhNT7/9re/3fzP//xPIRHFMJq8UoCdM0zoxvlEquIlvuAofmEAa4e7BYSlXTMCBZ6KnkWruwkEniIB16985SsFW+fBh/9qoYvcCRhCXSzpx2cLCD5QKJGsw65ImyDhDUO7NWybTlMgCC1jKHQKMbvYQ6wRnDhC7nzrW99aIBC7xmSTAvGlL32p7NSFqCWkLUL1EbzjevOAo5zEQXWzq0/o9lnUu06u4ReCD/4h7NggFhRQOBOaX/3qVxfMgw3iRm7wOR+wF/9+8YtfLHnlen37fZTQZYt4k1sWLbGIs/ARH8YXu8a0YLJgHyZ05RTu/d///d8FNhuDvWyx+SBH+I6vuoSuuf/whz8s45sDsY/D+RrGDgIvmt/FsVi30MMX7tLgNJ8JaueIGfGnjkWT1/LB4luf8qmr4UHXqml8J/eIqGWXXbZZY401CrfhBjxvXLmkL7E4XaErBnGM8dRYsWY+fI9HzSHmKgfFtRpsXsstt1zBmfhyzm9+85vCAWJmlNCV9+JZHvFJNHGJy90J7FsXxS2uZcd//dd/Nd/73vdKbWnHkpjrI3TDFq/6xoEWp7hc7EaTp/qrv4vf+If9UavE49Zbb13iXP7U9TCuIfL5W76IB0fUNr5hP//U3B/Xdr2Oy+NdfXR9x0dsswEUGxbT5fGucWbyu1kVugwVKMgHQSLytoORMdEiiQSH3wGJGJBH3AJ0DnGpGCK8ELpIYtyGcIkZBRvJCVQH4hWQCix7o7FLkbaistsk+Ihhq0fiyjUCVCBa1SKDaIIaaVgN1rcuJKGihhjtFEzSLAaICiSlIBNiXtmDjOsGM6ttiYJE2G2ePntP9BNbhHPf554VKKQYojZIQYFReBQgONs5r1exMCfY4I3UkS2ykzTIm4C0UmwTlT74naAi9sSJ6yU+/ylW/IJoaxFR4+A9O8WAXWWiC5m7o4DIxJ3FCZ/FAiKErjGiECkwiFWRME/FlS/4RP9sFaujhG7khzgwTr2bxNYQuhGTIXTtpMgnAsJ3BCTMomjBXUHSxDKs+wpdMQRn8zIPYkRRE2fI0+/8rvgqVubAFjbFjq5r2PaFL3yhxIDP4hzOCkQQpF1Ht2wRp/yCg0O/xI9Y4E9FQHElTto7PXxCePNHzS8KFJ/xaSxI698LONV/zEOeEITiB3nrw3j8CFP5TaR+5zvfKVi4pqux1w4SThCX8Hc9YfTTn/60zLkdo/qCqfg2js/ilNASb74b1cwPXoSH3GaHA+6EE5Fk0cMefRLCcigafxsTBuYvdvjHgphv9U/E8IOFIP8Na7iE0MM5cpZohgtRJKYUf36z6B/16AI82OKxEbFsEaQ/i5BvfOMbJd7VGjXBeB7zqrmYnXz54x//uNiPv/Cz+Thggtv5K5rfxS5M/U7w2skSw3LNb87xPmI4rmWLOGYLvMRSV3OOayP3xaAFQghv3GgcYk4dEjdqEo6artANf4coCkzC9+agLohJ+csHvoN7LL7ED7vkNA4QM/D0+7AdXXlJlBLUrhFb6r3ahe/Y1KfhCNxpLJyHd9QzvqzFstpGmI7aEa3HlAt8I04932vxqg+5rMb5Hh9GM4e488A36pk6wH/qIr2j7shFGNa5B3M2+i12ymGgzsHFPNvPl8e4Xa/j8nhXH13f2TmXw+yJRco4PG6B2MXjXWPN1HezLnQ5PpJHMSRekALiQBCKmp0aJCrpNMHF0YSZaxE2shdggkGyKVwCcFyhawzBxlF26SQbkaJwI2LjxG1itnAgAUHAOMe4bl8KXEEosRCjokyYK6yIKhqiRRCIAjkiS2JMoihqCE2Sj9P0KYElkgQ3rvElAVssChT+aIiRzXZDzIGIYTfMiUQ7IRJSEdQX4denSSSJrogiK8TrNr2dd49lmBuMJXaNCaEQO2TGY48C5j1fiwkFku/bDaGahzHDH3yCgPgVGRm3LYba/fhsccI+ZGPu5sIOpOI2tYJojlbTzpPgSN65ipfYE6vmJlYJMfGDANjIlr7P6PIfYnZd3eSKoh4xyefiPgos4cQ++MsvxRR2ihPhDVv2iDWCWH+jGjz4UI6INQXMnQ+FRO4psnLC2IPyT1wpVnYv+SPyALnXQpe9sNMf/7OZmLBbIC6RPM7wu7geRJDiTkzwH8HgkLPiySIg/hFKHYddOJgfm9gMKzjLH8LRXOW8HCP8vHd+u8kf+e12Jczlnr4ITn50G5SdXfFtcYEjYC2evRd7xiQeRjVx77p6hxO/yE2+ECvyhWhmS/3ogvNwgt/4xHuH2PzZz35WeAwWhAK7Rj2jy1Zxab7wt9DHO/qz+MWJuJCvQji0F7ft+bLdLjne1pcDX7gFTtjyHeEoXtULnG4MuavhcwtYvzlPzBAXcpqv2KGfuoll/oKdmDK26xx8qMaZp9zEdWJc/qgFrtO/OeOOrmZsue/caHhH3suVrhZCl824T+uKxa5rx/lOn3YzzQG20WDKvhDn8X28ilX8IY5DbLbtUxctbt3VFIv4Qq7iN5s29XjRb/tVPce7uJuPfXYdTMWX/qJZqPN7LLLj+0GvYlGNWX/99Qv3sE+8yUV5alx9ErbmphbgXtfARc7TOKFr+F/u4HjxgU/ESN30zUbXi3WxJi7ED46T23JSzI1qM8HjXWOYb+AdPvLaxePwGYfHu8abie9mXehysmLl1quVFvAVK6QgMJEFhS9x24ngWsKGeFD4gqxMXADYCVAEAIlokNigANA3Z9g5lrSCVn+KkIByve+sQiWxoBWkktRYCE5QGsP3sesTq23nCWzCgj11USJA9C9QkbKkRobO1d84DU5WiIQYcowVowRRSBRZ5IfozZkdSMPvEkyQIud6DoqjhQU89AEPuMQqu8s+WBrb6hNRSXCfzc1njwHUQpfQCf8SunadQ4gRAMaFn2uQCBJEDPzJF+aMJMzFWAQMkkSksIzCg9gUsPCp+Amiac/Ds0JwrIUuseVaO3GELr/WQtdCS9yJR7bWLXb22SPe+VqRIApGNWIUwbeFrjEUDDsU8HWL3tjIDhETGzAnuqIRc1NTU2WxY/Ej7uxIuhsB51GNr+CCyGEv/hVcO4HsEbdyhZCzSGw3scGXFhIKTqz6+ZSfCFY2I3CLCnGmgPAbkpef/MhufjcfcY0nxJbCLo+jgBofHuJCgagPtvKnecvZQbEQcwieUIQUI5jLF34Ut2JSLnkcIBaN5irO2EmgKEaxO20+xJb5yUULfGKIjXwm9hRe89SHV/bCn5CwkBUbhL7c9Wru8OgShbhW/Nl1rH+X24qTWJJDGr/aCQ3/8LX+3eHhV3OXi/xiYWpHiv/FqHPsyo7iL/61c+u64ES24H8xYO76kHcE6Kj++MAjOmGzebDRtQQ6fhRzYg9+hCt/GFMzR5xhfsY3r1/96leF88WbObcXyXwnN2GHN8WIPtUlXC9f4OZ3vtV/CF1+VuxhOEjoEjG4XDxFU2vEzjChKw4sYJ0jZsS6hcioGI8xRr2aJzw9rmH+dYNfCLL6+3jP1/CQy/gPDnge/uzTt3yBNT0AT5yOr/jRebCWI2pTbHBF/171AXtch6/r2q8PddCGRDS8yeaI//i+61V8WRziG1zHn3yEF/zGdvElt+U8W9iszosFeT2s6UM9k+8W097LXbEmF9QOceSo6xtegSXOMUfawthdbVwe5zOLPDlg7sbAqeaDt+Q/XQADm5N42CEnxavx/D4dHu+ax0x896kIXQSOFAW9ogZMt+8AyqF1MMakJAOiFmR2IhB/BJhzkLREQlSCUUHgeGC3mwSQNIqDYs8Rim67cahijjTYiRw53GdJytkcyX6H9wicLchKQEomwa8vCRrFjO2CHxaC2i6B3xVoKyHJJ1gQlSTqaohSYUDkRKL5dJEawlBI9ON8hGgOXs0BOddzUCgEq4IqsQg5c2BvV/9sk6DGsdp1KH5BSASI25UShd+I7johYWYM5KEfWDgkvM+IAx4EBn/CEBkaT5JJLsmuMBjXIsTvcEHA/KC4GEOMIeuu1ha6dgD4jT/EneJpLvqxoGIXH/gtdlKIOhixlZg0rjhEWrAn6iYVujATW/D1mIsY91clCBbxS7jFHCL2XWNs4oLd7BJvbPB5mNCNPBGjcgoexBVximD5UkERe+ZvlxPmdUO65u18QphwCSIW6/olwthtXvrk+1jMEkb8BWsxxN94AMnqj01Ev0WFa8ULf8FD/ETORb7pO3JMfslpxbUuirX98Z6YVciIITjzrbzRxJRnW/naLXev4hFuxJKiLW5wiHhyiz/moQ9zl2/O97uFtZiSf2JarvrdOPwvxuHMh4otvsRTId7CZq9yVp54DEAOwdIBVwsXMaB4wYSd9TO6MLEZYQcWf8gr3ODwPb5jB1uJK88SjhKm5meHXl/s4Q8xGHcD2EvEKO59HoXgF4+NiAd9OeDj8Sn9i39cLEaM7TMBIi7EpVxwiBeiQmyLY1gGH4spn8Ug38OOYIZdcDeM5QCOMwa/innf1429agJeCqErH/Cavs1fDZTb5hFtmNDF67E4UBvdNYKnHGIfe2ai4TXcK8blQd0GCV1zE2/wlaMEkQWqXMdbMMdVsMVTcpYPo05671rzF6chppzfVRfZ6O6ADSp9+Gz+cBfDhG00MTtK6LpeDVbv5Ruf4Hh8Quybj9hgi/rFd+ZhTHOR0w755YiYCm7yan4RY2IrahseIPRxSdQ385cbuAGH8INFpvl637UAmJTH2apP/O7AazjQK91krviHLy0kfYeT8ZH8Fs/0mHgPHofVMB7nI3psttusC92YgFWhIBMQJm/HTxAhWyTSboSpYCOSFEck43oJzpEKQawYiTfCLVbb7b4EA8GqWBFZzutqiBBxCUaBLCkJPoVJgHM6MhOQgtMK2iEo7U45zEmx42xOjOSSJA6Boh+/CxTk5DEDz/C6/YZAJFW7IRBztNOFFAVVCIj2ufBgkzkgCIIA2TiMTczacTQH57Xn4DMcJHjXGPBnpwQgQhRCc+BHJKHIK4K10EV+0ZdEN76YUCwkrQNZE2gKmaIXIioKtTgQAwot/yuYEgouCh/hr+AoyDBAqBEvbYx8DpGo2BiLiGK7prBPTU19TOj6zdzNEbkicmPwhfkoOMjRPBEmoiN03bYd1RCZ2EBsmj7gxHd2iQgbwknMOw+ZyiV2ekyBXxUJsSvOEZX80RRY9smh+K780PoPfxNaSAw52a3XFyIzJsKVI+KKqNBfXZx1p4DLEdexBw7R4OE3C16FLBr83UJHlrFQlaPmIP/Cv/qEJT/EYkm8mL/8lEtySs6x1068HFSoxZpFwg9+8IOCKfEzrFkUyle5LP7gFqKOAPUPmsxHPMBX3LHVeeIjGqzwHf6BnRg1D9yCl4h0eSin5SUM9CGuxbT8dVhwRIzDw9jiod3EjXy0sRALSUVVHPmHP8aAKxvsUn/+858vAiH6Ec9wxMuEQ1cLYWonNDDpOs93ctE4IXTkuZywcCNG5I7+zFvMjeoPNp7rNAd98a/+LJ7wpvnLJblsd02O4CHC190PCwD5ZI7iwh0SC1px4xp9iSl/jQcPsUu/eNJ8jYez5L9c1L8xCUwLlPZCUqzgejUjhK6ckBtyXd4Sq/CJ3IfbIKEr3tgjT/Gl+igvZ6PJRXEqNo1Xt0FCV67AgmCCK44QU77HGTBW+210+TcyhBE8jUHAyVn8AFv+9RuM1Fb81NVgy5fyVTzhRhxGWAefu84Y6kfNPXV/we3mRlS2z1Pr4GHxaT7GZZfNBHmMJ8UFn4gjNkWuiTcxaL4WnOIVh6j7+MrmDKy84lT8Q+jjFZzhkPfyiQ0OeS322m06PC428bH5mJc4hUfURvkgB/Cv2K9bXx4X68HjuHKQX+u+p/v+UxO6CEXxAQ7i52AJisAlQt2AK4AEPnK3A4P4BYQAQfJIRQKEAEAidVGN/gQvp7leAgoW1+lLMlqBEycKsEAUrEGQ+jQ2weFAMA6BKInsbkkqyWXbX3F2SAgBaX4EFKI1D4nufCsnc4zVHbsUM0kpuBTHdjOuc2ClHwlhDooZEWMusJDskgrWkkAQmQPMHPpRTBAwcjcP9phD2G8uhADs2k2fCpS5sYWtzhW4CN1uCjs9o4v02Yd02BFJiUDNExZwUFC9ssPqWHzAJASD6xR189CnuZsf4Uv4e7Xj6jtzIoL1acwuLGNOij2BZFcHAflzYoqHIk8QELrmiID0L1Y1cWaO5grvECkERhRq5/AvwusjdBEbW+DGBkRP0Jsf4reahoGYM084wQX28VgMEneIB3YTEJo49p0iQigMavwtBuCPYM1RzPCLueiDuCf+4GsxwY5org+bkTQ/h8+doy/zMLe6iMgXec2vctU14tQundw0vvkoHAqQz+atP3Pnb/kV8YRwXe818sxv8sa44qgrtmMeXkPoyilxiDeQO8GjAPtHXAoNPzvYo1+vPkfzng1sjxgiGvTpN3wYxVlBwUMOOIlB/idScaE4MqYxYDtoDvzOXn6KmMBz/MXG8Kfx6md02Qxn/MHX7NaMh5twLr+H0MXhEe8x3/arc12LP/Xn4Dfz8Ftgh1P77OjiJnloDsEb+hOHket2xSVwxlQAACAASURBVPAazocv+/mfOBCXxhbPDt/jmto2fYkTeSAf9OsVp8dixHvX8IHfxSUeESN1E5/EDqw8ZqC+EG94UYyxnV9xORERDV7mYMNAvzhA3OEivrTANU/9WSjNRsMbuJCgqwWjsfA//iTqxDXxg5ss9tgl1nCFecpNOU0c8ps8DI7nAzjK1Th8Jw5xgd/kMvxrLqnnq5bAQ67CBz+qu2yuRRT+85uxu5r+xYv+5Kf4UrvlAq7XpzqLp7zyB3zMyXXs5VP1UXzwrd/gYGxzMreIVzEGC/OWR+w1Bn0i5/ld/sNQnTE3tc51fGPMriYmp8PjuIWvxDUMaqEr1tRYeLfHn4TH5f8gHuua26TffWpC166LIAOOQFPQFSjEJagEl4DmeIJBsEiWAJPjfI+4JQ5S0J/COqwJXtcKJKAah6C1QrFzWa+UJKrEFXBBmtE3ZygSgl4QSiqBSORwujHqhsQFNjsRk90cc9WvvthVH76L7+t+4j2RoyAibUGuWLptIAHgobARJxIF+SHOdjOePtjNfqTteolkx4kfhjXXm4Ox+Ikd0SS5IuJ2oURE7ESpxLRz6lzXT7dJJvNUdMUHWxyIBcm47cqvXbtd7bGdh8SJF9cSF97DE5Hry3siA5nzZzR+RGJsEJdEIZ/HHMWa363eYT2qITuLD/bYMSBIFXQCQMwTP+ak4Il7xTqamPBZYXco3jXBwx4hI1vzHNXMTd55NQ9Fl+AMHMQ/O8xb3Itbr2LSOIq7OGk3JA8Lhb4uNkjVwlaRROwwUEwUT/iaC+wtRtzmgpXGNjHLZ64RA76bpMFWXMGWfcZSyN21MC++iR0WwsRzonI6xHz4vR4bnykMfGcRiCvkGs7is7rBmuDiH3nDlpqbYE8wiX94j2rsYl/EhPgIW+NaceZZY3ZGI/IUWrfzxQu/4xR24UUxzna8ZmcOJw5rcDEuH+J7ffFp3fyG790Vws/DWvQnlhRgu6CEQ93YBm8cBVcNZrATs/gPL4kZ+SX2vBIz4s5ruxnX3C0e+AIeckTsih27yIRI+zYsfGJxbgyYu5boFsfilTCU47VghbG40yd7xLgYZD9eIED0q465ftxmPuw2jjlE7fG993wGLzFrbmJfLOF314gtc8UFuDLm5Ry/mZvckc/iuN3ks7zAI3iY//VhnmKEXsCBNY+1+6g/4xv+VovZiHvNq24hgnH1oGb+0YyN/90F4Hc+wzHi1xg2cNTPWOzBTX0Vw3VtlLf8G7wV/bdfjWcO5k1gR23DBeqzuCUya+5s91F/HsXjalrN4641f77nB1zFfxZxfKmuizW8zCbn1a0vj1tI1zxe9zFb72dF6CIApC1wBa2E9ZyWAiIRgOi2KNEocYkW5yEuySygFOt2EzwEld/0qSgJwHEbEhT0sUMX1yO5eK5Q0NZNECIiIlmhE2zsVBAVBgnQboowDKzoBKokmImGHOHAVuKsbpIDLkRDuyFqIiT+fAuy8dn5xGgXIdV9SAJ9IJVYgNS/+47gQXRunUpWicJO14kJ/lWIFBe/I6YgUbZ4LyYQnyImVmLhYXwFDsHrA+GwGRk59GcHBOZd9tW2em8eCFGhhyn/SFbjsMPtVWMjKYTejpd2f/Vn/dmNsKPbR+i61jXIw/jRYIKQCA6FSewi11roxrmDXuWN3OordOt+jMl+BdWCTczwjRiSe0QGm82Vv2DE112N7+ROm6zNl436JZQdxsIVsYDUr53uNkHys/MsKGDUx+9dtplnCF1ELifMm8gQs/LKXBV5nz1mpCi1yT765kux7ba9gu69uOQDtzcJoNrP7DY+MUQQ4pOIa68KkjnGwiLGmc6rcdr/sEv/diXZKebtXPGrPIjc4Cvf9RG67DNP/AlLu5QKdt0UZHyKf+E7qsFW3tpRszkB27rhBfwgn2se1zc/xk45oauO4Bi4izuPd9l972rmoF8izEYCsROHPgma9tzMnW+Jn3ZuxxjqSlvo+o3QFGPqHczruejTvOE5rtANf4gx8wkhjXflkromFn0mcCzM5J38UrMJO1jIeeKHgGvPDQcQyYOErv7Z7lEiQllOyQ+i1xj//u//XgSWcWaqWaDgzmFCtz2WuXnkB0ZyQw444C8O5AnfDGviAp9YnAxr6hGfiEk5WNc24tfiDDf1Fbr1WH143Pligy/FJCHvMZ/gZTnHR+zAhfKwbq6dlMfrfmbj/awIXYRCvNpZ9LwTgrY7okgTZopdiAevbmUqfoQwgdGH7KyKiTkFcdyGwAWehK6bguT2UjtpnSPIrUQkSghCAU+wmRsi6GoCV2FDEgKl3SSMox007fPqzwiPPcQpIqkbIke2MG43xKRwCV5Eo5krsvryl79cfNa+ZtzP+iPC7IYiYsWL2JPEkoSf7RaJCcWC/z3byycOPkVISJBA5g8kE0RPzCpwMDcXxQoxevVZkVJ8YDqdRmBajNnhip3GcQiGj5Ake/h+0mYu/GlVDQOYEb5dC8FBY7hOfMLaImGcpkATa/wY4povCQy28DGsCbcQQoP6F/981H50YdD59feELj5R1OsdSOcgWMKbPWxoN7nl+1ootM8Z57OiQ+TBI3YM29eHsPOnsOQdG42PL3zn2sh5v8GUny2KLcIjriO2cSfOkvczNQ/iwnOCo3Zlu+ZmHn2e0a2vtdAlDHBAu4lRdw7EEjz6NBxHTKk1dYOlGBkVj/U13rtOjuCrrobbiGjP1HrMSO3hHwIZJ7lOnozbCD0cY/HQt8EJRxE+rtfg5nuCyibLIBwj3oznejwr7sxdDMpRC2ObT3gD9zi8J8JwQsTuIHsJXXGsploct5saz253dmNHNM4Rj/7ijc2hmWzmhzttxPRtFhueHYdVW5eoYervIJxjDJsEatyoPLMRoAa6qyy2I/dxgc/y33f4ZNzWh8frPuWPDTxxblMNZsSyGqgGe4/jxuWiYTxejz/T72dF6M60kV39xe0gt1XGbXaiBLwVa92sXLtI2DkS1+qWCEMwghs5IzmBjAC6mp0QKzpiRyBHc70gIVgEkgI2TnOtFZd51I2ANY8uXBAKcrG7buWumQMxruDNBLEgQKs9xcAYdsWQaDR2I2PHJI1AkPRIpv2oBUxHkU7fMdlOPBGrVrDG5Ke+zTzhTbAjqkmbxZix7TghFkJB8RhFmvV4rhMPipjYHafZFbPLhaijYPnOnQzFORZ9ffpE0IhawSF6xmnyCJYWS0i73RQHxGyudROP7A2i5pfpNkSv+ImNQfFGAMs1/8MMccMOQknB9H/2wgW1LfIBp+GKdu5GXA8aa9L5xDzaQmNUf2y1y2MxSwj0bebMR/iybuaFX/lIXMOpTyM0iSk7snUTA3wzbMe9Pj/eK96ExqAdXXbhVwsuwq9uFnyEiJ3dcZuYIJBh2reF6K7nL8bEmkUoodq16Ovb/3TPIwrhgfv4od3Evvn6R2ltLhNTU1NTn6jP7T7G/WyTCnfWdXhUHyEQ7Xy36w2t0OeOsvP4ty2Uu8bG0ep63GWszwkeqL/r+57t4/A4TpCrXbmA23AqDjencXhpFI/3nc+4581ZoWtlbYXp9tu4TdBagVvNWr06BCzHWqFJvLoI6T9IxK4R4eZcokOBJUIGFQtJa8fBrUdiQaLFPzQhnAkGr+1diT5zsqtpV5eIjjmw30EQtJsAJTbMnWhAknZE9IO4FYfptihaxDYRr2gTNnWbTsJKMIsKu4yKinEcBLVxFCGv4mM6je0wlchezWOQj7vGMUfXIlfxNmmzy2VX16sY9NyUnRZFuW9T8NwSlC8hVvteq6ASs8iaCBPDYtkuEKFkodS3IW+5Ak+LoXGaYileLcq6CoZdfzlJqMgxh/iQo3LMobC2i9U4NsS5Fh+K0bC++J9wk1/+lbGib1cWhvK/PQe+5WN56fEofCSuiTkLLeIFX/l+HN+HzV2v5oE/hs2j6zq2WggqnPKxbxOHxL85ylcLONwlpuK5aN/3FSJuQbsertEXn/vM3/Dig76CDz+KIznb1fxuoS324UaUOIgYnIrHB214dPUX34lLuSnP+za2uBMnHmLDRq7KD49csWUc3/Qdt+95YlQOmtuguuLOiL9uIWejhol5vrQY8siOWJupxk/xCELfPm1AEXvuQsWGB1vhLs7wWTuX233bjPIoQJ+5wEsuqGF4Eh5e8T4OdofTnZhxfTsujzufzbSOnApOFe94GCZsUQMsUvu2UTzet59xz5uzQlfRRGLjFkwAETF2tjwH41a/QzG3WkceklShajfk4hyB5tEJB6HtVtGgIBYwhDMSI74QkUOREST6QlRukY/b2C8x6jl4b9U06PYGe5yDZOzgOoKM/DYTDRaKNhFk1WeuM9X4QCFkM1/wG0L03q4Kf3gdNP++dogBcWIubreYx7i70Gzla8Vx0gZDpKZYi0nzFPeD4q1rHOfa6XFd125o1zXxnTHtkBE2MLfrKO69jrObpz9zEefxD/dijD6v7GaDMeHabvwtDuRZnWNyi93yjD/bO77tfvp8xj36HCWgxBA+seiUZ2yQs4Oeb2MbjmCzuI7YNif5CnffzVSemgebRs2jjYmYIF7GvdZ1ctd8xHHwFr+an/7Mr2/hJDDkpeujP1wTvIhfifiueGnPyWf2yRP53tX8zja24hm+Mp4D54i7rsfTuvqqv8OVBEB7Z7M+p/3eRgwRJr7i2U/f6cMON9vG9Wt7jOl8hrlFtbwclHN+s4HAVrEQMe8VlnwH85lq+sWBfePBuDjf45QOfo440xebxfOouoCXxFWfucgrc6dP9O9aY8kZHGJDTF/j+tbY4/C4881Nbpl3m1NxGg7EZaPmX/tvFI/X587k+zkrdBVvATtO0AZwCMHRJ/DimvrV2Jyr4EzaR93fpO/ZYR6TNNeZwzhBOsk4/DPbY0xi1zjXhK/HuSbOnc610Uf9Oml/kSuTxgsb9IFgxd0kTa7oQ96Ma4cxEfXCzLeY87i2sJntn7U8GHceMX+v07m27uez9p6vRsWmc2YyDuXDJDnBBvnEF5+1xrZRc3LOp2n7pNwpHqbj78+aj6bL49OJtYXFG3NW6E4H7Lw2EUgEEoFEIBFIBBKBRGD+I5BCd/77OGeYCCQCiUAikAgkAonAIolACt1F0u056UQgEUgEEoFEIBFIBOY/Ail057+Pc4aJQCKQCCQCiUAikAgskgik0F0k3Z6TTgQSgUQgEUgEEoFEYP4jkEJ3/vs4Z5gIJAKJQCKQCCQCicAiiUAK3UXS7TnpRCARSAQSgUQgEUgE5j8CKXTnv49zholAIpAIJAKJQCKQCCySCKTQXSTdnpNOBBKBRCARSAQSgURg/iOQQnf++zhnmAgkAolAIpAIJAKJwCKJQArdRdLtOelEIBFIBBKBRCARSATmPwIpdOe/j3OGiUAikAgkAolAIpAILJIILFSh+9ZbbzUPP/xwc++99zbvvPNO849//GNaTnjmmWeaBx54oHnyySen3dekhnz44YfNI4880tx///3Niy++uNDs+OCDD5qXXnqpueWWW5rnnnuu8XlQY/PTTz/dvP3224NOWSjfv/LKK81DDz1UfPree+8NxJL9r7/+esP/3k+n6YPvnnjiieajjz7q1RVsH3zwwWInzKcbx4MG1a9cYd8bb7wx6LSR38Potddea26++eaCGWzHae+++25z0003NY8//vjQmGGvc/nw2WefnTVcxrHduXiHf2+//fbmzTff7O3nccf5rJ4f/PTCCy9Myyf8K+/uueee5rHHHmvGjSPXi2WcLR77NOPdeeedzaOPPlr82OeaYeeMy5PmKWam015++eUyZ5wxjNfaY+BD1zjef//9afmu3Xd85gs+MdaohkeCo9kzTnO+mt+XY8fpO8/9PwTkmJp0ww03FB0wrp/+r6f/e/fqq682t956a9FZfDgX2kIVupL82muvbfbZZ59m//3371W8EdPdd9/dnHDCCc0hhxzSnHnmmQVwSYe4TzrppGbXXXdtrrvuugXEK5kIuXPPPbc5++yzm3POOacc3p9++unNEUccUY7bbrtt2j5jx1NPPdXsu+++xT62RmMHIjnvvPOKHexhCztOPvnk5rDDDmuOOeaYMp+4ZtJXdgjwo446qtl9992bq6++emBXBO5pp53WHHnkkSWAB53IfsR2ySWXFPxdc/HFFzcXXnhhc/7555e5HH/88c3BBx/cy5cxjmRha5tciblrrrmm2WqrrYqfn3/++bjkY6/suu+++5pddtml2GGBMWkTQ3whhozdp3jDWgHca6+9ig/5eDYa0kIwu+22W7PnnntOXOjgRViceOKJzY477thceumlY5lLvF555ZXNpptuWuKGXe0mT/lLrPMfe+XkTCxo22ON+5lPiSU4HnDAAcV3g/qQG3wrvqazuBjU/yTfw5tQd0wiuohE3ClfcJX4naSxgz/POuusEvunnnrqyG7EDiyPO+64Ess33nhj4f++8cwHrllnnXVKrhONfZvcxl3XX3/9Aq6RC/rAk+JhFE+qF4ceemhZ6PUdt32e3LviiiuazTbbbCy+4uuLLrqo5JI6NxsbE0Sueoz/YN2V2+bDjxaKBx54YLPqqquWemAB1Ycv9XvBBRc022+/fbPHHnuUzS79LaxmjvSB+BWXsOVn2kJs+8znajUu+Cw2ApbvxLcY5huCVHyLe3NZeeWVy8bXIJ/2nZd+xS+/X3755R9bcOISGyihbeIVjrTB4Ycf3pxyyimzErvD7J91oRtkCGyr8br5jbjcYYcdmj/96U9F7NS/d71XQO0gKNLImtjiYAmGdAXqaqutVl7t3GicjdAjaL1yALG87bbbNj//+c+bDTbYoAibrjHr7/RpRa1ocyj7vRJ7BIM5SmT9brzxxkUIxvXsYKugkzxsIAQIzPXXX7/YsdNOO5Ud4bhm0Cvs7JSxQ2CzQQHQ72WXXVZEBlsF1Z///Ofm6KOPHtRVIX3zX2ONNQrxDjqR/cSoecIfGUgs5Iu4zEux+MMf/lB2swf1E9+bA7K22rTYYGO9K8vX5iRBFWW7/11NksP/u9/9bkkkpDVpQ7gSEhbHHnvsx5K43aekZiNc+HyLLbYoxYtAnk7Tp7sSChuM6uZ7sTI1NfWJ3+rziEyFR4wQNrGLd8cdd5T80Q/M5J2FSd34wJ2Aq666qhR0u7dyho/FL/v0+4tf/KII5baNfif25accswAgKOWmz33EmT75FW/IXTbZFTYvr+w3L+PcddddRbi7JnwhL8WVvED65iBefdanHJZrf/nLXwYu7ggSCwsLUAsCeLHDGO1mznLDmBYBxJRr4Ri5KddhSFh19VH3ic/MW67VOeEc8yTUzcdCM5p4dPcGJgqyHXd+99mCG076VagImeWWW67EwqhdHv3iErjj2LqZBw4QkxY0dYs5KIY4gsCFPVy22WabEhP8YsEkDttxVPflN4c+zWexxRYr4kMc9G2wEIvbbbdd6SOuq3mS4B3U+HfDDTcs9QV3T9rgjSOWX375Zr/99it+GtSXOYstOPMDLDfffPNSW/hxuk3/+jaGZpMAjy211FIlnttx6nycLRfw40EHHVQ4D3/LE/5kZ1fzvcWZWMAHW2+9dYkD9U++9N2gYIM4xPOx2Gvb2TX+oO/0py+1k/g2F7mlduLGNddcs3yPA+VUNH7EQWyX4+I6DjjgT3HiELPGGdb0Zz6udeAO/eEyr8Ej8s2dPbkQzbVyPMQ6rsEFxsS3NMJ//Md/FL0xzA4+kufGwmXGjlpgHnIY9urIl7/85ebvf/974ZOww/Vshx9b2OE6/l5ppZVKnqsLfWpA9DkTr7MqdAEKFA4gjBQAQtD3AOEcZK74LbvsskOFrmsQEmITbALTe4BLOgQqWa00kLg+nR9NIkhQhRLIXpGGpP7tb39bglxgjGqS0e7l3nvvXRKbOCPuEDVBFkVJACDV9m6Zecf4sDF/QbHuuusWciFciaZRTT/mzQ7jS0gE/o1vfKNZe+21SyLAA7mvt956Zae43SdM2SKQiVPFytwUYv23m/NhqE+iU0LALA7F1VyIh1E7LfxhnuZrN3+FFVZo/vrXv5ZVM1IwjoZI7I6bp3HbzRydY2fhW9/6VtmNdT2RIr7YHA0xsFU8si/IPX6PVwRlpyFiiJ/M1ZwRkT7EYDxGYCzjIEi7IeY0SdMHoQ1H80FO4q1N4rBYccUVBw6hH+LOwkPeeUU4iMe87PAjI3Mi6BFP3ZCqlffOO+9c4sp4hMUyyyxTBG+cywa/tRtBoGj86Ec/WrAIlfcKx/e///2C4yDsoy9zkL/sjGJhAecOEP/IK3dC5B+BZfHrGv2alzsjyFXxVZC9/8EPflC4AVm7gyDWV1lllVJEYtx4JSIUMNhssskmRRQqgsYUb8aqG7+JT8KFgBazCjgc7QYRBDhCnomjUfOHlzjCi+Ya+RBjGos9FqjRxLfiFHeGCAp+d4eCPeYh9vEmPHBOLFyij/ar2ONPfjAXAptf6vnLCXFAvNYNt7gOLxnbpgTsnI8fja8/tvGDPuUaDnUOjvceR+L5yGv22E0SY87p03CBsbbccsvmj3/8Y4kh32l8Ac9RPKn4899GG21UYkcNYS+MAg99sQ/O4nDQTqWFlsW72DBXfMvn7BAf5uXw3tydYywLTGLcbjDeGaeJIXjyub7Zh2vwmPzhV3NRS1ZfffXCzzGvGMf82A5/XCdP2K4/Qga3DBLg+pcTBO4ZZ5xRarbxbQqJHXk9qrFH/2zAj+KbrsDHo3JqWN/6hT++JO68d1iQyFu6ohaW+jIfC1cx5ZAf5ueAIf+utdZapR6zs83jbXv4BwZwhaMaoKbwtz7FilrJHr+pn+x2HVv5E3fjWaKcX0NLiNXvfOc7n9AjbRvkhPnjEGPhV+PSNmLfJpAx1SW6SW0xdt34gY9wLNvENGz0ga/k8XR8VY/V9/2sCt0gf4XIamKJJZYoqznfS1LJgTw4TREFzKAWDrBLaoWlmNgJXnLJJZt/+qd/KsQDXEFP+HGIQGw3TiKKBeJPf/rT5ic/+UlJfDb5zTGqtc8j7jhQcEYzPqFr9dVurudopIOwfvjDH5ZdghCY7f7b13d9VlQkBbFobEllDESioAjYdkNQ8P/b3/5WyNtuBcKR7CEEazz4AIHbIVaAzVeRisN8LTIUvUiw9pjxmW8UQfgTYEFe/GpHnlAztiQhHvTtfd38LuEUbfOWkOagD8QivmAQc4AFEvnKV75SMJL8XQ2BupUaMSQxzcsuqsUAWxRFBTNu34gfZDQdoctWc4Tfv/zLvxQiIQ7aWPqdz4Y1/kOaxLpdP35TDMyD74g4gl0utYVu3S+bXIvk4BrkClM2sKXdFCH5hdjYEU3R+OUvf1nIlr9HNWPzBf+ymz/41QKVoPMbAv3iF7/4iTxjX32IE/5SAHAPuwhBNioO7YbA7TSaHzs0OChocr1rIdjuo/1Z3FjQRX/t39uf2WhnjS3EUz0f+MkLArJucgovmpccIiwVLkVXTBEwOOf3v/99Ee9E/zB75CnBTYh+7nOfK1xiYVxfQzjDiYCJVtvqPbz4gGCzs2xOBKP3IXT1SXDZPZdfuMh79ePzn/98sZnohwWOGEfo4lqCwWKYIJNX7O7Dk+xyZ0m8i0PCzAaJuBQTCn3EgxpGxH31q18tmOOOrkaw6iuErryykMOtSy+9dFnEWMiw9de//nX5TPS6DpdPInRhbfGKc/nK+GqDWFB/CWrCRO5aAEeu1/b7HXZyw6KvbnyFI8RdV+N/d4FcH/kPf/60aCasRjViU/7zpYULrC1g7XIP0w+j+vW7WMcx7MCPfIozv/CFL5TFdh3z0R8xKQ5sLpnHdJs6zse4Uq74HALZK9x+97vfFZzllZoMB3mBG+FBB6jN/KsfTa1zx1OM9WmRv86Fq5qBV3CJxpfskMddCy7XixX54c4FkY3/nBt9e/202qwJXclvx1HiWvUgCjsoJos0iRsOIXIRmuQeFqgBHPGCoLwKMIXALhVHCkzFnZPtGNRClz1EHRFsPAQj4bxKfgmv6CseSDGIa5gj2MRxglziK7yC1IqZTYgKBnUjsgWlXQ4E7nYuYWkuvlOIkLyADTKor+96b6WPxIh+O1l2wIgXc4UFjBBD3RAwYaYAEkISGqYCk288A/erX/2q4KNYauZrLGIS2SM0uBNMkhK+yA+uvu8ihrCBoBMLhAPb4U0sev+1r32tjE9sKihELAJF9GEHEoaR+cFPwZZ8dn8Ue4LTzrLiZK76jh0v/oKT+XY1fjR2xJBrYcpf4gVWxondqSgI0xG6SAzuij/yMAe7CFHozS0Ir4/QhSeSRL5in9/MH+Zw0R8hNUzoGo8fiSZ5AW9YwxYOdmfFWLvJCTGgoCJhYxuL6FaUCGEEPaqJN3NgqxiLucBbbsNfXNvhwC+a78WQecopPuFrO6rf+973itANXCxCxQfh1m78AHtxyg7NPAhruWFe9Rxgy0b5j5/sruARhzhzKDzwDj+2x2x/hhkBgg/MB+Z2WhwhDvFO3WDrdztJfMcusYpn7MAo4HCDjX4V6kF5io/1BQs5ISbFAJ4Sg4GLuYXQNTe8xdd41rlhL66Rx2y3y27RyFdiy4Ix+AWObIYhLPGToup6sSwO8GRfoQsTcSKnLWrwiDjG+QQSPBz82uZJwludcq1NFHNllz7VMxsvHn0LPoGlc2AGY3za1cSJ3MHT+ARu5kxoWQwRJMbBq+z1Hg+5blKhK37VI2JT/8FjYtwmAGHCjhC6sA4fxxzMT33jL7WbTc5xrsUHH8nXriaePS4jHuCtySF1xLVydVST3/p3mI9YU/dcz1eTNPPmMyKOT9UUsaWe8Su8xK3Yb3NFnW8zIXThD1McBRufo8FeLODj2JzwuzzHZWyX3w65XT+K6JxxhG6MCV99W2zJWfFszu6s4Xe7x+15y1m1jEaggWwEuhZHqOd8RUPowzw/jTZrQlfQmJiEl6ycX4Z3owAAIABJREFUJtABs/jiixcgOMRkOU2xGiZ0AwxJJRAEHcCIZjsOvtMQMpGJ2CWFQJDEEptYIboJCYVDUlodWvXY3eEcwYJURglddijoij5nIh/XShDEHLdjjKc5X1ERNFZexkOcbDMeMcZ2v7nVaE59hC5cFV0BpCgiC5jC1ljGsVr2PRsktd/YxV47Y3CPhPI7EkKIiIzYY3fd/CZw4WiuDt8JaLjDAGkrsoOaeSt4dqSCoCQyIv/Sl75Uih+/8AkxbDHiN3YiOb/xKQwRtWuj8YvdiUgwhB7xQRATrPzFxq6mb/FhjmJIMw6hEnHVdZ0iKR7gr8G7b2MjglX82SX+FA/4IwVY840mrwi0UQ2JICa5QnCJFbsV8sZ7OHU9uqBftvORYi1+FGWxhOjFlSKgwBAA7cZ2viIuiQTFG5YKHPxiYdC+btzP4hTeYp9fNfNiN9HiN7bKDwIHhnAWK2LI7i5R0S5e+oGL4mZhWjc+hp/+jBVNrBuX8DRvXINb4rBoca3CKRb7xEYIA/PQjzHjEI/imFCrm9gh4tgYBYjv5RHxS0TyDyFKpImPeh51XxbkdnGML1Zcpy9xSrDDH5a+E5PsMS/z0y8bo+D95je/KTkdOet7QpNvQujWY8d740bBlJf6x4v8Y54EyqDGNsIAdmKXoDJXHOJ7PsK1xDbfWQCH2HItQWfjBA7i3bjBk/oxb32LcXMlJjR5i6/Egfl1NfkBR+eISY2/cKl864pJ57BbDImzPvWhPTZusuARR8Ft7XPUY/41D/OtY9V7vMJ/uAGPiiUY8KMaNiieCFOYq7vixXX4gH+J60FY1fbxi4Md+FC9FOuu76Mf6r7ivX74Ax/gKH1ZoNn1xl18JE74JmpVXMsf5g6vyLf4bZJXOcYveAeOOICWUrPNz6vdfPhrcMA98iA2AMUqH7M7FhSTCF24iBd5ChN1BIfCyYaWR9PUejZq8t5imBagLXAvHUPfsE+e4UHX8j2OmPNCFzlY0QO7ngyyskJCPAIDSHZ/7DqOCtQISAEnyQgPYozTCWhORaSKb4gUgYPEOEzASF5jcpzgFDgcJFg4hKhzsE1CdTXBJXD8K0xCjT2u4WTONY6kR2TmqW/nI02JaUwFB1EhcmMpvIgT6RGf8BMkIXq67GC34JGMhIjgIWSQB6KEu3Gs7hTZIAf9s9V4vutqCA5OBAQhqR8rORgrGOaB5CQ5cnDYcUKSvoOJoIYLzNvNnBUJt4EVLPbwEdvt1sCQ74ytXz7Vl4Rxnjl7tUCAmYOfne87hGSXD7HGSlx8mQ8CU9AGCV39EroKShSDuFPAvviuPScYI0gYSHQYtIVS+5r4jOQtmOrbv36DkTwiNghEbRyhy24Y8zl/8g1xxO/6c2uUkBa3bIajPONnuFk0IjN5Zl7OE7Piw7XsQsjiV7FA/PzgFf7yn72Bp7jkG6+4ACm7NgRE4NHnlS8tgtq+lFeErph0Dn/JPzbJFwc8cITd7S5RYb58KX70J9dcL6fhpaiIz2jeiyfcxo8WkuambwdhIaZhhA8G5V3055W/3BHDb/IPzuwgGIwFe/OvmxhXjNwFcb3mXNxgJ0jeim+71YQvLAYJE/jEjkw9hhjSl3m5NoRubQt/ylcCQQzgSZgSQvyPOwkUn/G4DYt2w19iiI/CD87hD9zNF3gfxzoPrtEivsUwnjJv/uB3/Mt27+UXX3k1J7FkXLYryHGdmA6ekRv8KLbkrRyDuQJPHOM7Ys68Lbi7mliSWzDRt4YT8f4ooSuuLdBgyD4+FBd9mppid3yU0BV3MDGGeBFDITCNg9f4Dg/jB6/qgvjDK+IVXrgi6mj4BK5iCJc61GKiR1z3ac6Dv7qhtlmMmZf+HbCAKR8OOvgJ76gnagY8CDiczz4bdFNTU+U7ixhY4D76Qty4Bk/axMP7NpnMAS/4TowYG8e5lr2Bw7A5OoftNBHc9WPDRq6LJXGmFqqt7Wbu7MK3dtzFePBqCF2+YicuanNY3R8M5Yv4xBVsilg3J7ZZvLJH3OJY81ZDHGJBjPB/aByf4S32YSrW4c622W6ztqMLJImsWBCQHIhAJKZigLgEgiRFLoJqmNAV3AASAAIbgQET6IhSoMVKQiAIWADHbqmxBBtnABvxExWuERx+ExhIU2ERVCEsaicoaBzGSXYwBH8UlPo8zpb8SFUgsFPfEsV3Ao39gscroSd44SP5BSvRikzaJCagkWkkO/yMwTb42OEiSgS5783TfGFo7oLWAQvBjsS81u/9BhdkLrHZZT4OwW1+gTdfIgc+UXjCfgINGem3q8GXnUS6hDJfxVLRCnHMNgXXHPkQTnY5FS9jIWKFii3wZRc72EkgKziEnuuRm8MOAqKt7YKVMflWn3bzEFiI2kFCly/EtuLLfrtCRJadWYISfn0aQoODXTbxxJeI1Fz4E45hS1+ha1xxhvT4iM/5KRY9+vP8lJ1ZuCsa4tpCwXnwg7n5yWe4iSV2mbddNQtOeY08iRq+kT/ihdDXH6L3Gr6JBRlusCCMMfrgVJ9jbsQS0oR/NH60o6Y4iA35xX/mZGxYyhO2WlT5vd0s6sSk+Yp/4kyR0C9uMf92k2vEEtzwB+4hAr2KNT7mg77CXn8WE/xlrmwwj8hJ/Ir76sYX5jw1NVVwNbb5EUfEi/ngR3cEHOwcJHT5Sx64VqzIEZwqzvkeRmLDGGJSnEZjBwEDX/kMB/aKIfjzhcfV4o4FcVc38W+exKzrcH80vibS7TRZdISIrvmarfIIT4gDh/xyLvHONmOLWfGKs2Dtla3yzrXOITSC73AMrmE//hELYlj+mBtuFH/BaXVsiRk48r8a4HzXigmNv+VJl9B1rbwjDGCihtrVlbPmwC992iChq39xAFvxQcTwKZxxKP5Qq+W5uhB1lO+JWpj5DneoozCSLwSROuV358WB183boSb57Hp+5nfXBN/V82KjPOInm2PyTU7yi7753Rx8VjcGHWLQfHATn/E3m+UXjGCMy82bT/CZa/Cd8XzmRzHmHAtLdcO5NEHUS7FmB9Y5fYS8uBczapZchSeuErf6NL6544J2o5/Mw7+nwEGuDe1ATHpONrSRRdggbQF3PpD3YgCu7KqbWBUb+hDv/EfbwBAfy/la43gv5uEjd3CaHPGKg2a7zZrQBZYJeSYPSQBLwVDcFFa3rRV1wWQ17x+KDBO6iqEVl0AUyAiCmBDInABoCSjYOJOwkThI2XieJ0T+AogAs0qRwEjUq88EtMAUyIK/a6UhsAW8ayR97M4givqQ7MQBInBNBKv5IjiBKGCRqAAmCiRnEKmAEUTm0A4ywUsUmyMB3bYBzrBXhCSX8ySfwIc/clCAkCQfKFASCXESZxLTbwqj2xNI1XkKAmw8p6h/NoRoJ9gFrCQV1AgZBlb19U5LV0Cbn3hRHOsGTz5QuM0TjggTVgoXsSq22GBs80OCDoSJLBVj3xOwcCN0YQB/thnD+Iok0iO8+UjRg1uQrbhDfnzGzvA14tU3IhPHMOS3cZv+FE07NQoEIoGp/ghVMY/EtXGELn8gJDjBQ46Yt77MjVAk6DTxAivkA3N41w12iAq2zhU3xAD82GsMeUlEyB/xIRbZgJjlsJxRYMzNoS8xav7jNn5X7MyHPdHEm3HlugIUCy5xiZSNZe5sQbbm3NWci7CJSULG4gmGg2wVQ7jHQgc2uIVQ9MqPbOFLfo646ho3viNe5KMFtdiTs//2b/9WchCv4VCcWDe+UHA8jyzOje2QL+KKWNKINH3zjRjuasZ3recqLTDhgavwLkwDB9wuJvUXTaGEGz6NJn58Bx/84dlWXOgfulhw1U3sKdrEMA6IsZwjF+SoRUu9WK2v9x4W+Fcs41P94TFjy9loEQ8wNT/xiDfEttyAm+INAzEjZgk0uSQegmfEoTwQB3AjSvCg/uWbuFQT+B/HelzPefhKc638InSd57q4lo/4Sm6Zu3nAYdxGxKmHuLnmMfmDW83fDjqfB+fAwlwIKM95qgtRR/mT7+WR2hB1VOyJWzuj5up7uSFmcYTDe9/JEaJOzbFh9eMf/7iMBYN2Y6M6JJ7VASLfs6Li3XfhSxyjZgw68IPYIMTNLfJVbach9M3nfnfgdDXAd97zfeSSusIu/uFvPKMeOdgh7mkbtvVpaj6RCTPcJMfho8ZY2LGjXSvFl/PkJe5Vi9Q4YxtXDn37298u3/E9LmZT1JSwS5yxn09wBA5wffswvkWgPHANPNRjC2D8QB/RCXKUPXIwNI5cjIOP8cdst1kTugAEpEADOKJGJJyBGBCNlRzAJb4kGiZ0BRPQAYzABB8wJZmE1I/CGisxxdr5xuEEAYNQCGKvCEORR2acJejjALxr6+LJEeaE6ASw5EcayF3CEtxEkHE5GBm5Xet89rLRfBGzcdjFFsEsOAlchaQ+zFUQtROEHeyzokSObIEhAkDm7JAoXgk3dvADDI0vWRGqgPaZPxAuLBXJWGEjbn0jdt8Zy3eI35z5U/+wVBCQF8LjFxgq5iHChwUyPBAEnxJEfOVARhYI+mev+IAHjJABklO0FFWkY37Gk9ziANE6V+HiSzjyvbn6h3ZEBxJ2HrslIywQSgj6IBS28JOiDE9+U8QRNZyJNt8bFxFN0sxPTIkfBQTGSAIWYigaQifE+zTk6zavAsaX+iIQxRv8/CUUftTgw2fsgFs9pt9dL64IFf6Vb4jcdc51jThBaHyG+CwWzEeciBG2w1Ze8Bl/tcm2z7ycQ4QSj/KgzpGYh7maN7K10BNf5g5j8WSR6Tc2dzV2wcNcFTLxL8YGNecrKPLa+TAm1Iwn7uSOuCXi+swZpmzTl37lgn+oievwhwMP1M3cfSeP5JXrHM5lf4yLK4h3cSunuprx2WseYkRM8iPsasz0z6+10OWT4OLgAAsh3CBn+MWCGxf5rn50gVA0Vzkpvtr24VIxaOHBvkENFvJeXJq7XJBT+CFEimv5WC7gbpwII37mJ3kPK4UZF+AS89EfXMzBAhm+voeZ/vQVAt4ih5CykaIvcxK7+ANuYkMzbyLKzptr8AnB6DrcajxxLLcIHjiM24yr1rIHvgSNxQZOlAtqGz+rjXggsODPqKNeo47JDXMXA2JCrcChYk/cOteczFvtD5Hle3kSueW9/HCt+MY1wb31HMWCeRsz/IqH5JldaLHPB/zk+kEHH4kNv5ub2MBTMIc1roqapi7CSN3jK9fUvCXO2CWm6oMNDrHU1hL1nNrvxXSX0OV7GMIq8ti1+iZKaRnxCh84qmsO+PAPoSsH2cguONVNP3yuD9xpYReLMvpGvvmM18WtBRMu0B88XCsuwq/G5EsLdDkv9visPsIPtR2z8X7WhC5jOcNEkK5JCibJIDCiCUzF3J84EXBdDZCKFJIScEhXQCJqgkMAEHKSiEOsfurduOhTMCJ2wsQqTjAhJITMIaOCkd2cyWbBK6ntRLCLuEFgiAJZIgoFnYhuN4Go+Ll9IJkkmMWAecGgDuL2tfE5MHSuoBZ45k2swZkNAlbfgh1Ra843PhLnG/0gWHMwPgyHNRgZjz/MGZ4O8yZW4W+XbZAvu/qGJ4HOTjhIHgUQsRMjkpgwQjDR+BLerrGyVHjMiX/4RdG1M9L2qbnCh9/FXYwFK0mKAPhGfImPGBNxs8f3bIoVv+vEtznokx8QyyQtfEG4E2R8qFi052CMQULXuQo5MlIg7fwQgwqZYmO+5qdvPlMg+D5axFV89ooQ7XIosGJWgXToT8Gqm3MRHfstmozBT2LEmL6bmpoqv9fX1e/FKD/wVRAyuxx+M0cxDGd3IuwK4BdjINdoYoQIIaQULzHrPLZZIMVuq3gZp7EBJ/GNgut9VzOefxQiPoYJ5K5ru77jO8WqnmOcV/vNe4VHHOEXcS4v6ibfzF9RbRe8+jy/uVbOwE0e+lyPJ9fFpEVjNNjzj3yRF3bKnEMs8AGecqdBv3yDL+EKT3kmtoxnHvVY+ud7jy3g8S5+DRvqV33zA+GIL2qhLsYIb3GiltQNr+ABtQYH4BiH9xbEuE4s1fiKT0LNHAhofcJCjcKd4lrMwQYmkUMwkzvqEdGif/lCKIpxvjIHHGvXDA7jNjHLJnOymMBjeByPiRd9WszwTbsWiQX+UTv5DC+zz/zUF76FoevDZ66BF9EkDggt2POr35xXH/wUR9+5EU52ju3s6lu/4zY8b/5yDBZ4C59ELbXbbF54fpJmvuptVzy3+wuhKz/FEXGrtvOTGiV+xGUsJsQWP+LZsA8G8kesyzWc4U/rmd+gBne54NxY6Mlbd+XFrtwPTPTz9a9/vfTdrk/6F2dsUlvUDHpM3Ig9fUd8DLJlpr+fVaHbx1iO4UhCtyaL+lqFhNMARdgquEgOkSAoBUWQWh0qbFZgXUJXQhDKklFiCiKJ6lYNh3LOOE2w2YlAPIKzbm7tILEIvPo3ZCUxER3S99lqiR2CdlwCk9yI0S4yoSqQJJSxiTJzFuyDmsRBXKOEruDUN0GrGME6CCGEDCw8hjKO0JWUSNdtD5iYA0ziINxgUicUW/jTrgnSh2N9KIRuv3UllPGQr6SW3O0m1sRQLXTjGgsixUhMtvtGKhKbD2ezGaPeAavHgpHVuHiw0CJwiV74Iie+Iw7EhhghmGuhW/flvXkrxHaA9Kfo8o9iLK7EQN0Ua/6SX3LTuWIjCFK+eRQGcQ5qig6ciWs5rjgal3/1RzDLeYWWHQqsIopHjF0319mJJ1T8xncO48ecQnwEHxhX8TYGgaHYKSLGZYNFmLnxNxHps/5cJ898ViztfrhzwC6LCwe8CBj+EN9yr27yix2KhOvgGHPnR48SiS92sY+dhBY7cFDkiFfzFSd2DkNMxViudx2s23Ec5/R9xdtiqBa6rpVjxsFtfGU8sel8/CFvxQVet+sj1uyYiVN4i8+uhgsID1zTV+iaI1zVD5jAXyw5wlfEnXhrN9xoF1TsOjd4Rg0idC0aCMC6GQ8/wbeLY/gDx9RC1/X85jcHDpVPdTNfcTep0NU/v6iX6l3XIs3miB3zLqFLXFk828mGi1iEi3hVc/GJ2lfHlPdqlDy1E823M9nEiRj3j+zEVhfew8Zjn1rOt3JOLsdGgPrmsBAj2OClf9jIZ+c75LV8VDsiPvTnHBjJ+eAKOV43cW83Wx9iCZfhVvnkOnmPv+BH7MJaXRfD+nbAtx0r0S8u7SN0a5vivTz1d+f5vW6j+sNbbLY4kPMwVNttTMj5tq1137PxfqELXWTAmQhjkNCtJ14nUP19vBdcBBsSsoKqGzJyW0iAICBNwbf7xwlEwDjNtW4xERXtXSFkYHcyCk/dLyL/5je/WVZIEfSSH3kT8W3RXF/b9R5uCqxb1IpyNEJOcsFDEg5qsFBsjC3BBzUJbs4Izrxjh0YCWigoaAKbuOLXcRqytABRaNrky+eStva995LFM10KFzEkuRyS02MJRHB9TV97xJA5Ipx2DA3rw/zhSJhEc7246xPbcc2oV7t0fD3dBhsELj4GNfEptiwcrMa1ECSKmpipm1hCwuJfHMAk4sOtUcVQ7NgdGNQUHeRNlFi8Od+tL/lE3LBDDjvESxzyqi3oiEkLFn3VMUncEslEgyKByMWOHT/YulMQix1cYg7GVuxc5zzFCG/AwFzjuXcLAj5yHvvlBBuIQQWZiLDLzv52AWEjO3ASfC2I7Z4bAwb8oPDBwtjstEDkR0VVztfNrj472gsA48TOzSQ5Uo9BOIl7ha1Pcz5fWWjwj7nBRFzBoz2Hdp+ELjElngiEvo2fxR9BBBfvHXxjxwzefNJufE7oijsLnOAY37t9i2PHWdjrn6AXD3DrK9ZdZ764Vn7Fhgjc8LLfcOJ0/Sm+Qki3RSPfEGNinA/rJsbEfdfCGY/Ief/nzvZ1+jAHgnXQ4ibGYU97fvAT43Km/VtcN+zVNcEH4hAf4q04xJn44GfzV9MtFNQ/eafWyGt84VpxIaZh4Rw7s0QrHvN7zUPsgg1xrQ8xqD+55Dp5Lj715T1sfY97cI7F46h8MYZctzPb3pgYhovf1GXPP8udGlvx7n/+Q3h3NXbauFP7IobkDh/Bc5y62tX/uN8tdKFrwnYl3GZGgNNtbpEICMW2LZg4xx8+RhTec5yiaiUfK49xxrcb43kmZGnVpL847CIpol2NEPK3hK3+9OEaIluQI1M70+M0fejLKtsORdhg/khJga4FcLtv4kRi2oFSeEY15ym6kiDG6nod1U/9uwQkdM1fTER/CBAR8FN7Feg3/3IcwcT58eo7eE7SxJB4sAvVjqFh/RFDigQfRLOjpS9iaaaaMRS6mWh2WOzgDGoKDxIm/swBvr6zKiewLPLaTT4TlgRo7cvwTby2r5uNz4ogYlU4CIMY2+6e4ki0jCtSuuxU/IgNR9fituuaYd+JdfbCms2TNjmlIMrrmLtXcU1UKvDtvBp3LHaKSQW4T3O+Akks2e2xoGzvBg/rB8bin/AYhyvtYOLkENiBB4zxrxhRN9pN/lrEqE84J66zKeB7i+xxF7LikniRP25H923uRrDRQgsOGrvYoI4RJGycTmMTUSaOzbVusHLHgu8sgAMLr4Ssa7vqnt/Fm9vn+KG+zntzsUi1AAhhVI8b74k69cA1mldj4qb2ZlNc0+cVB7gjw5/82rYvPvfp67N4TmifehOmj53Od1eKb2IRBQvx7o6pTaGuRpwT7MEvrrGIlLd2pPnw02wLXehKHGDZ0kaA020EHcEhGdtg+mynyGqIELXa8l6xJ276rIxq+xRxBI8g7boQgESlpFPoiUwCrd2sctzusINLKCtEdmasGpHeuIUHhgqGh/HNR+GQ/A4rK8RDiA9q5uEcO6F9SJe/YAdDc3WtA3FblVq1Id5xBITdCMIIBoSXORDfiiec4GMONQlKHkLXc9KKkQVOrICJMLthkzS3WSyG7Dy0Y2hYf4iSX5F1NHcrFCD2z1RT6Cw0ZqIRe127WNE3jC2k+BZJEU52LOAr1ts7qK6z28GH8soiMOLDdwokv8C3xinGm+lXMSiu7LyZg7iSp+LEjqiYH1ekdNkIJwIjhFDXOeN8F/15nU5zJ8dcLfzwgbkrQvzAnwQTH+KQSRveFEPw7dPkFJ7BxfyDJ9nXt9kRwzPEcnt3bFgfdrXEgr92YN44wyGe7fDiTja1G9zcOXKXJ3gGhvqYmpoqt6rjDmH72kGfzV9e4Ad29W1qBxv5NMYkbtnl+W0Lmun4kh12Ce08dsVe7GbaUZfHdc0LLAngrkbM8pu8wwVqpwP+eB9fGJeYHyTW+cm44s1dUFxop9Bu8nTmbeGnP+JMPcZtDr5X62KHVV2bi40Owdnj3rW2UePOKL/gztA33qv/Fjd1TQ5sLDpg546WvFE36AI1Xc52XRPXzsbrQhe6JmxVbuUwnUANcJCGoLd6byeLxAUyUWsHEVESxJ6pmURkS3pjxXM5drkcEobgJt66xLPrEBYbjM8O83fNuCLXvGFoXhLe7UtCLWzxalU1bH5BXgizzw6mHQQBbt7mGoedTPMwL4Hep6/wm3M9ssEXcDAH/cVziDAiSNrka1fZrpwEdliNO+DKz5M0vrFwGEa4Xf0SbnZqLByi+cx285qpBttxCWvQ2PoRH6OaHVA7u4qsV6tyc+taCIhF54sFfoz44Bf+tIBQkIfF5Ch7+v6OU/hFbphrnRvs4uOuOfTt/7N+ngInluVScAI/4Al56pUf2lw5zrxcKyZh26fhK7won/nHtWzq21yDe3A87urbjCkWCDFxKB4csLF4975rhxjH4xjnOYetDjbIA/MYxw72WjxauMuhcXjSHMxb/kStIHjxMfEXu859Mek6j03662p8R7DKbRwbMSWXvDcndaSrwYjdgR+ed8AVR4pH+MZdzq4+LEyJfJtZ+mGnHK45t+u6Ud/FvHAbe4KzxDTuDt4Tq3Ox4Tj4qm3jNOfbgeeX2tfwgQ3uaNdk/RtPHMkPvhUrck5dWBhtoQtdk0aUErgLsHFBkUyIUOAOa87jjFHnDevDb2zXx6S2s7WPvaPs8PukdrAdaU4Xiz42zvQ5/DidIt1lj/7gMW6/s2FLl30R412/jfud2NNfnxZxMlO52mfMmTiH3XMxtmdi7p9WH9OJyXGv5U8xOG5+wsK1rvPatzl/UI6M0089nniUe+Paog/X4qdJx67t6Ho/bL7ODwwXRk4RtO5AEF0E9SC/dM1rUf6OzybJGddNB+MYVx/eL6z2mRC6C2vyOW4ikAgkAolAIpAIJAKJwPxFIIXu/PVtziwRSAQSgUQgEUgEEoFFGoEUuou0+3PyiUAikAgkAolAIpAIzF8EUujOX9/mzBKBRCARSAQSgUQgEVikEUihu0i7PyefCCQCiUAikAgkAonA/EUghe789W3OLBFIBBKBRCARSAQSgUUagRS6i7T7c/KJQCKQCCQCiUAikAjMXwRS6M5f3+bMEoFEIBFIBBKBRCARWKQRSKG7SLs/J58IJAKJQCKQCCQCicD8RSCF7vz1bc4sEUgEEoFEIBFIBBKBRRqBFLqLtPtz8olAIpAIJAKzgcDbJ5zQOLIlAonAwkVgkRS6k/4/l6dz3aTXLtzwyNETgUQgEUgExkHgH++/37zwk580T//zP5fjxZ/+tGk++micLvLcRCARmEEE5qzQffDBB5v777+/eemll8aC46OPPmruueeecu0bb7zR+9r333+/ueOOO5qHH364ef3113tfZ4x77723Ya/3KXh7Q5cnJgKJQCIw5xB458wzF4jcELvvnHPOnJtHGpwIzBcE5qzQfeihh5p999232XHHHYvYJWDrFsL06aefbt59990FPxGat9xyS7Prrrs2e+65Z2/hqb+77rqr2WqrrZpjjz22eeWVVxb0OezNW2+91dx5553NJpts0px22mnNU089Nez0/C0RSAQSgURgDiPwznnnfULovnvhhXN4Rml6IjC3EZhVofvee+81L750D/ubAAAgAElEQVT4YhF3BOezzz7bPPfcc+V48sknm0cffbTsrNrtfP7555sQq6+++mpz3333NVdddVVz6623Nrfddltz4403NhdffHFz+umnN2+//Xbz8ssvN9tuu22z1FJLNfr68MMPiycIWdffcMMNRQQfdthh5f1rr722wFNPPPFEs8EGGzRLL710b6HLNjYuv/zyzdZbb13msqDDjjcffPBBscnr448/3iyzzDJFWNtNzpYIJAKJQCIwTxH46KPmpSWXXCB2X/r97+fpRHNaicDcQGBWha5b9W73n3vuueW45JJLmquvvrq55pprmssuu6w5//zzm8MPP7w58MADm2uvvbYhjDVC9Oyzz25233335uijjy47qPvtt1+z+uqrNz/72c+K4HSea9daa63mmWeeWSB0X3jhhebKK69s9t5772a11VZr1l577fKeaLa7Go8O7LPPPs3KK6+8wEuEsF1iojtE84Ifqzebb7552Uk2jr70Sch6pIHgJuYJeLu4Xt98883yqMN2221X7PUYQ7ZEIBFIBBKB+Y3AO+ee2ziyJQKJwMJFYFaFrp1Xws4jBkTrUUcd1Zx33nnN5Zdf3lx//fXN7bffXnZd7ayeccYZZacWHASkwy5qvCciTzjhhGaNNdZY8NjAkUce2ayzzjqN3eIQp84hiAnld955pxyE9EorrVR2hz2CoNVC1xgXXXRRMzU11Sy55JKl/9hdbrtniy22KPOxu6svu83rrbde2endbLPNyq4tgb3EEkuUnV870p7pTaHbRjI/JwKJQCKQCCQCiUAiMLsIzKrQJRY9H2v3kzD0uAHRZ6fXTighutdeezXLLrts88ADDzRu87uGePTIgV1ZYtaurveEpCMeQyCc11133bIDTOgSrHvssUfpzzn6chDW22+/fWNX2NhaLXR9Zpdr7fL6B26u62pbbrllEboewTAeMc9W/XsG1zyJ8kceeaTs7vpd3363A507ul2o5neJQCKQCCQCiUAikAjMPAKzKnT7mBvC1C3+2L197LHHmiOOOKI81+oxB48B+AdkdoG92kklbA899NCyw+v8ELoErOdoCdEQqx6RsBPrH5ER2Fpb6PpOf2uuuWYR5nFtew7+MZprPaIQ7cQTTyyC/cIB/+CA0N1hhx0+JnTNNVsikAgkAolAIpAIJAKJwOwhsFCFrmdy/eWDVVZZpYjcmKZdV48yLLbYYkWwEqd2he2SEr0O/6hrl112KULXM73x6IJ/sGb39Pjjjy/PAns216ML/srC3XffXUSycQ466KDyfG+M6dXOrGd+a5Fc/+69f4hG6HouONrJJ59cdpxHCd2ddtqp7E4T3ldcccXH/hpE9JWviUAikAgkAolAIpAIJAIzg8BCFboeETjggAPKn+yqp+NxB8/MLr744gue5fWP2PyjNgL2pJNOKv+QzV9d2HjjjcvjArEDa/fUP2wjSPfff//yOIIxLr300gVi2iMSdmEJ5brFP26zWxvCWb8esfDXI3y//vrrlz7rPxM2SOjatTUX/1jNIxf+YZzneTfaaKMivNmaLRFIBBKBRCARSAQSgURgdhBYqELX//CBuLST2m7+Zq3HCDyGEI8d3HTTTeX5XOKTiDzrrLPK87KEa1eLRyHajwl4VtifK7vuuus+dpnHJezoesbW4xHG8Yyt54c99mAnl/jeZpttyjlxMaHrWeMLLrig2OW6EMj+GsNxxx1X/pGbxzTsKmdLBBKBRCARSAQSgUQgEZh9BBaq0PXnxuzQtgWnadtF9ee5iNlTTz21iEg7tf4+rvM9kkB8ut7OaFvMxl9E8Nytc+vfPdPrmVm7s3Wzy+vv8q666qrNhhtuWHZh/Q8pjOMvRNjRtRtLsHpcIpq/8ODv8rrOP3gjhD0+4a9NeATDX17wZ8k8LkHAZ0sEEoFEIBFIBBKBRCARmH0EZkXoEpWEKgFqRzT+oZjv7XTagfV87jHHHFMO/8jMbi0B668WxGMDzrMjGuLy5ptvLuc5n+j16AJB2iV0jeNZW48LEKuEqr/mQHR6PtafKVthhRU+hrCxzjnnnPJYg0cn/LUG4/hLCTGGMf0FCI8jRPPssL+4QMi63mMSHrVgrz7ZsfPOOzeHHHJIeb44rsvXRCARSAQSgUQgEUgEEoHZQ2BWhC4R63a/f3TleVrP1vqfONiNJf5CcBKGdlztehK9/lyY/2FD/I8jCGN/jcHft/X4gudi68NzuMstt1w5v96xreFaccUVy9/aJW4dxKvD39/1W93icQP/e98Q2/Xv3vt7uG2ha/fYbi/biVqfa3v847rddtsthW4bzPycCCQCiUAikAgkAonALCIwK0LXX0mwO+svKnjOdpNNNin/wwg7mgTtKaecUv5XvnZBHR5N8HrmmWeWnVJCsW4eCfB8LCFat4MPPrgI1vq79nv/owiC2K6rRyEcHl2wM+u3cZtHEvwjt/ofo43qg9D1uINngON/AUwI2yUmkL1mSwQSgUQgEUgEEoFEIBGYWQRmRejOrIlNeTzBnwjzGASxGwfR7O/aDmv+BxB2YO3QxnVePT9LQI/b/Ikw/3jOP2jr2+xKE+qeAfa/Gdb8NQbPKBPAHnXIlggkAolAIpAIJAKJQCIwswjMCaHrz4DZFSYw4/+URuQSj/6hGNFYPypQQ7TpppuW53Ht/tpR9qiEw58lI1rHbf6xmR1oY/Ztdrjt5l522WXl0QbX+c5c/FUJc8iWCCQCiUAikAgkAolAIjCzCMwJoXvHHXeURyH8gzLv/Q8j/PUCh0cRBj1PCyrPBHs+2HPBcejHP2ib5C8guNaurF3hvs0/qvPIgv/JRAhk3913331lV9efWcuWCCQCiUAikAgkAolAIjCzCMwJoUtUDtqxHQWH6ya9tqtv/1COSB2nGd9zx+OI43H6z3MTgUQgEUgEEoFEIBFIBD6JwJwQup80O79JBBKBRCARSAQSgUQgEUgEhiOQQnc4PvlrIpAIJAKJQCKQCCQCicAcRSCF7hx1XJqdCCQCiUAikAgkAolAIjAcgRS6w/HJXxOBRCARSAQSgUQgEUgE5igCKXTnqOPS7EQgEUgEEoFEIBFIBBKB4Qik0B2OT/6aCCQCiUAikAgkAolAIjBHEUihO0cdl2YnAolAIpAIJAKJQCKQCAxHIIXucHzy10QgEUgEEoFEIBFIBBKBOYpACt056rg0OxFIBBKBRCARSAQSgURgOAIpdIfjk78mAolAIpAIJAKJQCKQCMxRBFLozlHHpdmJQCKQCCQCiUAikAgkAsMRSKE7HJ/8NRFIBBKBRCARSAQSgURgjiKQQneOOi7NTgQSgUQgEUgEEoFEIBEYjkAK3eH45K+JQCKQCCQCiUAikAgkAnMUgRS6c9RxaXYikAgkAolAIpAIJAKJwHAEUugOxyd/TQQSgUQgEUgEEoFEIBGYowik0J2jjkuzE4FEIBFIBBKBRCARSASGI5BCdzg++WsikAgkAolAIpAIJAKJwBxFIIXuHHVcmp0IJAKJQCKQCCQCiUAiMByBFLrD8clfE4FEIBFIBBKBRCARSATmKAIpdOeo49LsRCARSAQSgUQgEUgEEoHhCKTQHY5P/poIJAKJQCKQCCQCiUAiMEcRSKE7Rx2XZicCiUAikAgkAolAIpAIDEcghe5wfPLXRCARSAQSgUQgEUgEEoE5ikAK3TnquDQ7EUgEEoFEIBFIBBKBRGA4Ail0h+OTvyYCiUAikAgkAolAIpAIzFEEUujOUcel2YlAIpAIJAKJQCKQCCQCwxFIoTscn/w1EUgEEoFEIBFIBBKBRGCOIpBCd446Ls1OBBKBRCARSAQSgUQgERiOQArd4fjkr4lAIpAIJAKJQCKQCCQCcxSBFLpz1HFpdiKQCCQCiUAikAgkAonAcARS6A7HJ39NBBKBRCARSAQSgUQgEZijCKTQnaOOS7MTgUQgEUgEEoFEIBFIBIYjkEJ3OD75ayKQCCQCiUAikAgkAonAHEUghe4cdVyanQgkAv+fvfdwkuu60jz/rI3Y3YmJ2N6J2Y6dmZid2e4e9fZILbWklmuKEiWSoihS9N6ABEmA8B4FFMp777333nvvfdXZ+J2sV3iVyMxKV0AV6tyIh5f53rXfvcj63nnfPccQMAQMAUPAEDAEAiNgRDcwPnbXEDAEDAFDwBAwBAwBQ+CUImBE95ROnHXbEDAEDAFDwBAwBAwBQyAwAkZ0A+Njdw0BQ8AQMAQMAUPAEDAETikCRnRP6cRZtw0BQ8AQMAQMAUPAEDAEAiNgRDcwPnbXEDAEDAFDwBAwBAwBQ+CUImBE95ROnHXbEDAEDAFDwBAwBAwBQyAwAkZ0A+Njdw0BQ8AQMAQMAUPAEDAETikCRnRP6cRZtw0BQ8AQMAQMAUPAEDAEAiNgRDcwPnbXEDAEDAFDwBAwBAwBQ+CUImBE9xRN3MbKpsyNLshY56SMdUzome+bq5uys70r411TMjM4J/NjC7I8uxpwZOOdk9JV1ifd5f0y3DwmO1s7h/JTH3VP9c/K9MCsLE0vy97u3kGezbUtWV/eOPhuHwwBQ8AQMAQMAUPAEDhpCBjRPWkzEqA/EM/mrA7J+a5YSm5VSfn9Wuks7pWFiSXZWN2U0jvVUp/aIs1Z7dJXM+izpr09ke31bal8WC/x72RI/NsZknuxRJamlmV3Z1fL7O3tCaS6Lb9b6pJbpCquQdoKupXYco801Tcjg40jIo+5r8/2Al6kL5s7srW+JTvbh4l2wHJ20xAwBAwBQ8AQMAQMgSAQMKIbBEhPKwskcneHY1cPtwWVPkz1z0jxzSq59ssYqYipk7qkZrXKzo4syNri+gEBhrhWPKjz2e3d7V210DZltkvp3WopuFIueZdKpbdqUOugEO2uLq4raa5NbJL0L/Ml9bNcGe+a9Fh+90Rqk5ok86uCA3Lss7EjLkJupwfn1DKNxdiSIWAIGAKGgCFgCBgC0UTAiG400YygLqyak73TUni9QrLOF0rW+SKpiW+U5ZnVA8nA2tKGWlZjXkuS2ZF5JaadJb2S/U2RpH6aK9d/80AKr5arhbbkdrXP3iBRGG0dV+Ka8F6mpH2eJ7FvpspQ06hahZ1CkO2V+TWVQxTfrNR8Q82jMj++KAsTi2pRTv8i38ke8hm5BfXdeyVRrcuzQ/Mh12EFDAFDwBAwBAwBQ8AQCISAEd1A6DzFe8uzK9Ka16UEsimrXckfZHW4ZfxAPwtJ7a0akDt/iFfCubW+rRKCjqIeaUxvk4d/SZGyuzVKdIuuV/rsvVpr59Yk5ZMciX0jVa3AORdKZGFySbD2krY2tmV6cFZKbldJ0Y1KybtUJqV3a6SvdkgtxSV3qrVsysc5Pts46iJSC+QVEO3kj7JVZrGxYnrfo3Cz+4aAIWAIGAKGgCEQGgJGdEPD69hyYynFgluf0iKzw/PSWz2o8gQ2i21vbmu7SBtGWsaUZNYkNgnyg56KAd0wRvnMrwqlOr5RiS6SBL9pT7StgsvlUp/aKv11w6qVdfKvLqxJZ2mvJH2QpcS5vahHhlvGVDpRFVuv5PfBn5OVpDplgj2zSa4xo02SPsxSosuGuLWF9WCLWz5DwBAwBAwBQ8AQMASCRsCIbtBQHW/GxcklJbloa/uqB5UMYtHlMxu2nAShhWw6utmqRw0y2Tvj2Yx2u1qasjqk4Gq5FFwpc4roGWkEbUz0TGv+9oJuQX/bktupkgnq4FieWZGF8UVpSG+VousVMtI2Litzq7K2tK6bxgYbRgQLMlIJrMLO5rRDjfn4opbkhTVpzeuUxPcyVS4BiUdbjPcGzv4OiDfjpm98Xp1fk8XJZU+/FjzlqANPEFi9nQOLt786w72+rjhsP9FnZB5s6IPIO31hQx/5w23LVznGxPi2N7Zl4wjcvPFwcPF1DqY+1sHi1LJ69cCzB5Z5xuurn9G+htTFkiFgCBgChoAhECoCRnRDReyY8q8vbSipxVJ66ad35NLP7iqZnOybOZAUeDft2by2q67F8LqAXnekdVyq4xrEW6MLwUX/e+UX9+XmC7Fy68VHer7xwkPP59/Gys3fxmpZPCpAdBPey9ANa3hy6CrtU21u2f0a3bx2/9VESf44O+jNaBC0lpwObevOS3FS9ahe3ZeNtk+oi7P2wm5xH3h5aMvv0gOZA9ZqvExgxcbqjcVaiXp2h+ahf4x9bmRB5scWZX58SSa6pw/VeVB/QbdA9J36QzlD8nHj1lPRf1AeyQl9YqMgDx70BZdtfTVDOicH7brHuN+HQ/eC6Nd455TMjy6qZAUZy6FxUN7VBn0g79zoop4dXMDm4Ni/z0MO9TG+gzrAyMGpoFs3JxbfqBS02Ry5F0r0DcJBflfb4V7rKOzRPtAP52CMaMgtGQKGgCFgCBgCoSJgRDdUxI4p/+7unloksaayQQyNLT5x1Zrrx4UXRKbwaoVqc9HbcvTXDqne1tuLAfIHdMD4xIX0TnRPqcU28YMs1QFzbWZoTi2mWM+m+2dVj1vxsE7JL6QDSypWPeqBdGacK5CdfZdkgWDBmks5Ns1B4iHUeGyg7/mXyyTvYqmSJoiTc7BB7sa/PZQrP78nl392T7770S35/id39POln96Vi/98Wzhf/vk9zQOBJ3/CuxlaR+G1CiXDTn3uM+7Z0j7Pldu/j/OUdeoI5vyv9+X6rx/I1V/cP1SWB5OLP74t3/+LZ3yJ72d6xnLx8ZjcfQALNh26r4FJ3Ftph+pl/O6DtmNeS9bNhNTBBkTuM3Ywc9eH/vneKwmK9/0/JekGR3BxHw9fT9GybApM/yJPNdtOHczvwzdS5eovY+T+q0mCJpsHDofocp8+OPmjceZBwSG4ztmzObMw0BKze4aAIWAIGAKGgE8EjOj6hOXpXoQI4uWAMynnuxLdjAax5PUzrr543eydlqZX1HKIJRdJQNKH2bqhjVfoTl3eZXidjjwCIlub1CyZXxfqq3bqd2QIlN1a25KZoXklxtRdm9isllLH1y6uxnBJ5pTxbsf9Hde7bHBDX0x7WJPZOFeX3CxDjaNqicUa6z56KgekvbBHx4PFNJijraBLKIf1z13XE59bxgUJhge3o+tGU4w/YSzI3kddSos0Z3cc6h8EDckJuuYn2m4dl4H6Ycn7vlTi383Q/jr56DfabMaKpIQD7L3HTr/7a4d17rGcch+sGLu7PR56uE//Oop7dczu+3zG+kx56gSTkZbH80B/qBOrLjKTAe57zVO0v+NCD0mE+0CKw4ODvzXtXmv22RAwBAwBQ8AQcCNgRNeNxrP4vOcJvgCpwdsCpOTRX9NUtsDrcF7Vc/BK3vGK4HQT6yyvxyFWSA2w4FEe/aq/hMb1wZ+T1LUXBAsidFSwBkgOXhemBmYP+oDmF9IcaoI8Ya1moxvWXI/V2rPZLtS6nlZ+rOpIQ5CXeB9cJ4pcKAkZBwE/mGceVnwROK7psR+gI5T63Xl5EAm1f+7yJ+FzeUytBjfhTUMwD1Ynoc/WB0PAEDAEDIGTgYAR3Wc8D/zhxvMAG7sS3s1UKx/aWIgg1xwt5GjbhG5A0u7uiexs7Up1XKPKHNgYhhcDfO9ilQtEQLES3/1jvFrpiLTGgcxhc33LJ+GiPax+WNV6qgY0PxvD2Hzl3iQXCozIMyDx6JGr49lMN60b3UKp4zTnhRzjmzgQ0T3N44t23yG6hlW0UbX6DAFDwBA4GwgY0T2F84ylDw8EaCTL7larNwXdSb/9WP7gb1gQ3Vu/e6REuuBymboKI0LaePeUyiR8lcOFGbrhxPezdCMaGlde57O5KdyEZniyZ0Z9AqMZRTN8VhLu49C2GnkLbsaN6AaHk+UyBAwBQ8AQeBIBI7pPYnLir0B02dyFVOHOS/F6Tvk0R63ByAx4ve4vQYjRWqK7RBIBYUXbiiZy24cOmHogx2g3W3I6VRqBl4KxjsmAlmN/7TvXsWSj22UTHMQPl1xnJTE/eMAwohvcjBvRDQ4ny2UIGAKGgCHwJAJGdJ/E5ORf2RMNIgFhbcUF175bKTYUIUUIJCmAYPLq3PGXi1UW36iQTgi0r8QGNMqwyQ1CzBli6mxM81UmqGsqwfD4vY24rqAaPBmZwBr3b0Z0g5sPI7rB4WS5DAFDwBAwBJ5EwIjuk5icmiuQQzY2ocndXN3SjWK2WefkTx8PCYRWjn8nQ+fO5izwnBnRDYyP3TUEDAFDwBDwj4ARXf/Y2B1D4FgQwNNC3qUywYex+DaiH0u7p7VSiG7cW+myMrfm963DaR2b9dsQMAQMAUPgeBEwonu8+FrthsATCKwurGuwDHzDniXJxhNABHkBopvwXqbKdezBIEjQLJshYAgYAoaAImBE1xaCIfCUEcBvMX6JzUoZHPAQXTx+mMQjOLwslyFgCBgChsBjBIzoPsbCPhkCTwUBNv2V3atRLxlEvjMCFxh2JbrIPCwZAoaAIWAIGAIhImBEN0TALLshECkCENv61BbJvVASlHSB/EQ3gxT7Op53+UNDWqvkXiwJGXbFbWvHJ2bbGyc7Gl/Ig41iAR7EfK0zrml0RtOVRxFtq8oQMASOGwEjuseNsNX/zBDAu8Fo+8TBQQQ2fPY6EeHw4eu+H+jzeOekTPXNHJR16gj33JzVLqV3qtUfcaB2uTfSNi6DjSPSXTEg3WX9TxyEVT6qjqPug4Uzlqn+GRnvmtI68Zc82TdzgNv04FzQbY11TGg9M0NzB3U7bYRyBqvymLqDOgh9TYCRo8YEbv11w0/gBYZ91UNHlj+qfu6DB2OZHZmXqf5ZYZ0wbvpHP51xsna4F0yd5HHPh1NHJGfWPfPIfB7VB0KDEyTG11pjHY62jR9ZR6A2CE7jXhO4NzxLfrSf2Q+iNWwInFEEjOie0Yk/C8Puqx6UL//7ZTn3/16Rr/7+qlz/zQPVeqafy5eMc/ly9Zf35et/uHpwkEcP1zXn/nc/vCW3X4oTyqZ/yZHnOe/XRX3eh+Y9yO+Uy/fUcS5fpQuXfnpXzv/gmnz1D/ttO31wzj764vQpmmewcPpPiOjvfnhTcaNvGknvwyztd+xfUw/wov1D/fbqK2UZX/y7GfuYhYCbYuzCjO/7GD98I1Uu//zeQT8O5s3B7O8fz2k0MfJVF3iAW/In2XLvlQT59p9uaL8u/eyuPPhLykGf77wUJxd+eMt3n71wox3mw1lraa615mDgzJX77OT3rM997Fh/5/Il6aNsufX7ODn/j9e1D74wYy59jTHa11gTCc6aOJcvxbeqhP+rlgwBQ8AQOA4EjOgeB6pW54lAgD+eX/+Pa/LozTQpvlkldcnNQlS3oZYxGeuclKGmMRmoH9Gjr2ZI6pKapSa+Udryuw+uO/cHG0alv3ZY2gu6pTaxScrv12rejuJetVpiAXUfWn/LmLQXeiLQEYXOObpK+8RjhaUPo9pWb/WgNOd0aJ30gaM5u0O6K/qf6IvTp2iewcLpf8onOXLt1zES91aa9qM+pUUIRqJ9bps41B+uN6S2SG1Sk3SV9SlG7n5Rpq92SFpyO6Uqtl61yY3pbTLYMHLQntOuc+aeg5VzbsnpkM7SXo8lsW3iYO7c8wZm9AMLMHPl7sdxfR5t81iteyoHNDw2BJwQ2dqP7A6hf1hRh1vGhTVEP+gbfSQPkQk7S/ue6CsYEBCGcRNcpOJBna4lZ+06WLnP9KE1r/MQdkQ9xKr9uA+e9c4ad9aZc/a17o8Dt6FG3kBMynjnlNDnyth6lfKciB8N64QhYAg8dwgY0X3uptQG5CAA0cXCVna3RgkSUd2ICEeAja21LQ22QcANDgJu8AqVPIQ8dq67z5SjPK+Q9ZX1yLwsz676zLu1vqXtaAS6iSWtl7o5CN+8sbxxqByR57ju5PGXz92f4/qcd6lUHryerA8HTn989Zn215bWBb/AzutndJze/SLkMfd5fc7r/IXxRQ1T7Z3P+U5+p13nTHn64F2/e97I6y+fU/dxnedGFqQmoUmu/SpGIxXSl6XpZVlbXH+yz2tbOhb6yvpgvN79Ypy8zicPkoiZwTm/a9cpu7qwdhC90MGNuWGOnDzOmbxOHufsb907ZY7jTGTGhvRWqUlsdP7b2tkQMAQMgagiYEQ3qnBaZScJAYgur+Ab01tleXblJHXtRPcF6zd+a7FcWwoOAdZXU2abXPv1A7XOBlfKcuFTWt9kGNG1xWAIGALHhIAR3WMC1qp99ggY0Q1vDnhVTjALI7rB42dEN3is3DmN6LrRsM+GgCFwHAgY0T0OVK3OE4GAEd3wpsGIbui4GdENHTNKGNENDzcrZQgYAsEjYEQ3eKws5ylDwIhueBNmRDd03Izoho4ZJYzohoeblTIEDIHgETCiGzxWlvOUIWBEN7wJM6IbOm5KdLPaBddsQ82joVdwRksY0T2jE2/DNgSeIgJGdJ8i2NbU00XAIbq46WLHvqXgEIDopn2eJy05ncEVsFy62ZF1FvdWunr4MEiCQ8CIbnA4WS5DwBAIHwEjuuFjZyVPOAIQ3Qv/fEu6y/pkfWk9ot7iWgxXSEQNw9UTrp8IlepO21s76ipqZXb1wBXW7n4ewtESPnV7c+eJcu463J+dELbUe5D2RN1VQdxxbeZpa01wF4WLMu8+HZQL4UPRjUoNuYv/1UgS/QcnXG9N988qftrHvce4gQ+utFbm1nQsuNpyj5f7O1s7GgI52L7QLnW6QyPzGYzAS3GbW1U3crj/0jlx9SnYdtz5sOjiKzj9i3yNaua+F63PdHFnd08c9KaWNqVlZEkaBxekcWhRP08tbUi4Q9nc3pW1rZ1D5dc2d2RmeVPGF9ZlYmFDJhc3ZHppU+ZXt2Rje/egL+GO0YhuuMhZOUPAEAgWASO6wSJl+U4dAhDdiz+5rYEJtje2I+o/zvszzxfqq+nYN1LV0T3k153mxxc1wAOBKRrSWjVUqpMHsgbBwgcvPnaDSVsb2+rrlDLKKPZEyTLO/wniUB1HgATaarsM6qEAACAASURBVJPW3E4ZbBxV370QvUhS9jdFwjHSOh5JNbK9uS29VQOS+mmu3HslUTK/LtRQxmDhJIgvIXMJIkHADoJO6Hj3M6gv2UmP/2OnzFFn6ieQAyQW3CD/1ANG+LrlAD+CUbQX9Wh7kN1IEkSXYCQlt6pkdmgurKqYtl0eiFyHu6KtnV2ZW9kSzuSNqRyR//R5ufzv7xTJv3u3SP7jx6Vys2RItnfCm/+RuTVpH1uSzZ1d7QNtd44vazvns3vlQl6fXC0ckDtlw5LVPCmDM2tKvN19DPWzEd1QEbP8hoAhECoCRnRDRczynxoEokV0IasQ3fKYOsn7vlQyvipQgknwA3ea6pvRYAGVD+ul4Fq5ZJwrkMm+Gc0Cye0o7tHobARMCCYRYEEJYHKzWiM1uMDyhvTXDmnd13/9QAqulmsIVaywtcnNMjM0d8iSGUw73nkIIZv3fYkGxfC+F+x3yDYklshpBOzIuVCikcMgmGuLaweWZ8hoP1Hpkpul9E615FwoPuTWbKRtXCPE9VQMBNU07S7PrUrc22ky3DymlnUeQLCAE5nt/quJ6iO45HaVBsQovF6h0ctW5teCqt9fpkiJ7vbunnRPrkh137yUdc9Jec+c1A0syPLG9iHS+WFKl9T2z8vy+rYsrG3JwPSqdI0vS0H7tPzoYq1czOsPm3wm1o3LRyld0ju5Is3Di7K4tq19eDuhQ/7jJ2Xy4u0meSu+Xd5N7JAvM3skq3lK1rd2/UES1HUjukHBZJkMAUMgAgSM6EYAnhU92QhEi+hCkpqzOgQCmHEuX+69nKCkCVLpTsgjkDX0VPQraUOvOdg4opbF8a5JqYprkPKY2kMWS6c8RHiyZ1ojhznXJnqmpepRg0BiIbeEg3UibmH9vPjj2/q6vL2wR8lgZ4nHGup+Ze/UFco5/3KZhpwlqla4CckBuBG6ltf5Ce9mSupneVId3yhrC4+JLjKFpallteoSIQurL+OFJENYCaHMg0NHUc8TXfFYatfVCsxDAIlrC5NLcut3j6SrtFcPwuxi0edBBGs8/SEMc0telzRmtAtkWq2/T7QQ/AWiitFe6e3wLLpIBiCa3+b2yefpPfJeUqe8GtMqOS1TMrv/5qBhcEFeuNUopV2zSkLpHUSza2JZ3njULn/3dZVcLRyUtc2jyWfryJIUdczIxpbHOkxdWGpfvt8itPNKTIvUDczLxOKGPKoelf/8ebl8lt4td8uG5X7FiMRWjUp595wgd4gkGdGNBD0rawgYAsEgYEQ3GJQsz6lEIFpEF4tuQ2qrxL+ToWT31ouP9DX12sJh3e9k77S+CufVOISn6HqFtOZ1HpA1iHLp3WqfRHewYURfpffVDMnu7q5srGx4rMj3a6XwarnWU3itXIk0VkvGduFHt6Tifq2+iodAshkKsrwTIfnASowsAhISboJwoonFmpv8UbbE/DlZiW5v9aCGX3bkFeTpqxkUyCikuPhmpZL7nsoBacpqVws6IYmxhnunzX3ZQ97lUtVOI1mAsI53TynR7Szpkeq4BrUkU5Y+0ZeEdzPUasw8MU6wXI6A1FM384UFuexudVjSBQgjVtzUhglJqB2Tr7N65R+/rZHE2jEp655VcnulcED+8btqKdknuotrW2oB/jq7V/70oFXJ6Wdp3SorwOLrT8FCW/fKRwTr8PrmjqDDXVjdUmvw7+80K8H9T5+VS3rjhN6r6Z+XH3xTpcT7i4weJeNXCgcls3nSLLrei9K+GwKGwIlDwIjuiZsS61C0EIgW0aU/vVWDSrpK7lRL3sXSQ5ZXp79YayFSOd95Xr+Pto2rFRbCq2TvtSSVGbg1qE5ZSBckr7u8X3fw99cNeUjaxRIlzO1F3fpaH6skifsX//mWpH6aI1hgKVub1KS6YLcG1qk/lDP63PL7tRERXdrDioollpDCWGorY+s9m/hcDAxLd/y7GZL6Wa7qW5E6YL3Gipt1vkgtsGlf5Pm06C5OLUt9aotaaMc6J2V2ZF610+ijb77wUPXSVY/qVW/sjF/1wi8nSPa3RWo5RsJAm1jKI0mMdWZoXsrv1YRFdN1tI2OA9P7sar1KCB5Ujqqk4Nc3GuVvPy2Two4Z1er2T6/K3fJh+e3tJiW/EM/3kzrlr/Ht0j2xLCsbOweyB3f94/Pr8kFSp1qHsSQjkchpnZJXYlrlV9cb1aL737+qlKS6cZVH1A8uyA8v1sg/nK+Sl+41yzv70oW4mjElwu66Q/1sFt1QEbP8hoAhECoCRnRDRczynxoEIiW6WAB3tnd01z+kCi8EWBkXp5dla337wBuAY51Eu4sFkTKU5eAVPDpdykGAS+/UqBcCbxC5l3W+UK2/WC8T3suU27+Pk9g3U5WQQca4j9WYxMazO3+Il4nuKd2ABrnFkuv0xbv+UL5DAiti6sImuo6nBDajoV1lwxcWWjDUfm7tqI6YvmLJZpzIF5BcgBlyBsqBN7pdLMzIM7wTnhyyzxcpiR6oH1ad74PXk+XeKwly+V/vSU/VgJJr5sVJDonH+8JBX5ir8PZvOdUqqY8W0cXLwYPKEfmvX1bI9PKmtI8tq0X3evGg/OO31Up0B2ZWpXdqRVpHFqV7YkUgvUgYqvrmVO6Q2zqlG8lWN57cZIf0AYnCyzEt6k0BK+7/+KZaN7X904Uagdj+/fkqia8ZU9kEnh3+eL9FbpUOCe1iEebAA0SkyYhupAhaeUPAEDgKASO6RyFk908tApEQXTwjjHdOStKHWRL3Vpr6R0XfGfNaskoYeP0d/0665H5fqjv8IU1ZXxeqhrc1r0tftaPPxaqLpCDrm0KtB+sm7racBNnDpVbyxzly5Rf3tTxeFXBlBrktvlGpRBdNKVZRh+hO9s6oFRRvBvTp4V9SlEiPtk8ogXPqD+eMhRhtcDjSBYhqW0G3YoRGGYwgn/Qv/u10lQ3EvZ0uWFLBF4xu/NtD9YJAObw0DLeMyVDTqJLcpA+yJPOrAn0A8B4LXiEgydd/80AfICgHtgN1w3LzxVhBJoEVOePL/IOiNYlNOpeQYfrEgfeFxcnlgzzhfIimRRf5wmsP21QLu7q5o268OGPl/cX1Bilon5EbJUNKVv/nhVr50fe18uNLtfKzK/Xyi2v18usbDSplwCKLuzHvhM4Wwvx/f1Yun6R1S8fYsgzNrKk2+Dc3G9XCC/GNqxlV12JDs2vybU6//O0nZarVxdr7i2sNcrt0SHwRae/2An03ohsIHbtnCBgC0UDAiG40ULQ6ThwCEEhIU7juxfB5y2YqLJG8fmdTFNZaCG7htQrVlEJEIWpsJIPgocctv1+j+fAiwOYkPCdwsEEN11NYKOdG5g/wwgoL4fOQ5AKVNuDZAevncMu46laLrnskDUp0ezwWXXTDkFoIcGdpn27Ioi9YKulLJCn9izwhaERYRHdvT8fbVdavVlgsseh0IauMi+/gxgMA+IINpBdCWhPfqFIPtK5sLsNard4YbldLe0H3oSGBG3ISSG5tYpOS/PrkZtU/Uyc6arS/EHY30YUIYymmD7gy48B7BnrfSBJEd3pgTueRTYSRpKq+ed0ANja/fshqincFiClSA/zmYpnF80F2i+fAiov3heLOGanomVOPDOsuV25On/CsgEX3g+ROgdjipmx8YUPJ8+/uNKlXB4gwFl2sy2h4sRpDwCHPyfXjKnVoH12SrTBdmTl9MaLrIGFnQ8AQOC4EjOgeF7JW7zNFAL+oncW9YRNdp/MQZkiZx/o4KjnfFivpXZxa8kgUXO+80XlCPtGYQqTwsjA/5rHeYrWFwEGsIKNOwhIMoa1LaVF9Lq/yIZlOXRDAomsVSpR57U79EGXqwqLJ4VhAeX0PuYOc4zEhXO8LiR9kqVwgHKLrjGuDIAOdU+rDWLGIrdeHAwihShT2cYNgYqWGpNPvxsw2xc6pB88W4MkcuBOyiKHGUUn/skAWJ5f0IQM/tuQHu5u/jVUs2KTHJkD86OJdAawOcGseU+kE9WP9PbCGh/GcwLim+mb1DQB+gSNJkEv81+IZIa1xQhJrx5VkQmghsQRuQDpAAkY8L+AOrLJ3TrC+upakz26cz+5TDwt4V7hdNqQ635G5db2GRKG6b07+6bsaJbVNQ4vqXaG8Z1bJM2c2w6EThlhnNE6qRZjNb+EkI7rhoGZlDAFDIBQEjOiGgpblPTUIEBkL4hOuRdc9UMgmG5wgSbj1gmRCnPwl9LtY9XBFhlWShJWV6xBet1cESB+b09DxYhmGMPEanf5jmSQML5ZO2qx4WC/IGrr3rcNl92pEj7s1uuELLStW09yLJUrMIdHhpGgQXcgmFtamzDa1rHcU9yqZDNQfxg/OlQ/rDrIxBnTOm6uHg2xwnTawzvJQg9QE0rS2tKERz5I/zFZCyxoovlWlDxx4dcCi7mBWertasJYj1cj9vkTlE+DOw02oKZpEl7bR3H6Z2SO/ut4gv7zWIP9yqU43kM2tbh3aYIa1FekBXhrQ3CbUjR3pCQFLMCSawBREN6MtJAh4WaDNlpFFefVBq5R0zqi1+JPUbvXQwPnj1C7d8PZWfIe8HtsmL99rUTKOG7JwkhHdcFCzMoaAIRAKAkZ0Q0HL8p4aBCArWAijQXTxQEAEMnSzECFI1u6O/w1M5IGQssMfKyFk1nOERqBoh01ZBJiA7HGGYE/1z0pnaa9u8sJa2l3ep2Syv35YyR2booKNvuZrQqNBdAnSUBPfoORxfnRBCTxEP5Csgg1pPEjgueAxZqFvsEN2gncK5B3II3iQADesthBuDiQfPDDgzo2NfTyYOL54fWFy1LVoE13kCT+9Ui/3K4alfmBBvsrqld/fbZaO8eVDkc/6plYEl2K4F/svX1SotGF0Pjy3cIT3hfRiIW4fXVZfvX1Tq+pGDA8LCbUe2QJW3LzWaSnpnBUsvkRrgzSHk5ToZndIdUJjOMWtjCFgCBgCRyJgRPdIiCzDaUUAYhMNoourq7TP8yT/SrlaV6vjG1RmgEXRV4Jk8vr69ktxkv1tsepsicrVnNUeGgElJOzOrsebgnqAeOyVAOILkfNYOzeVgNMuYYMhyOFYJZ2xRIPogg2uvXAdhns19M2QWOQkkEJfCaKJxfXBn5PVvRieH2oSGtU67Su/32t7olZeSLXiBx67e4qR4qYWYqzEj3FDCkHecFO0iS7kFktuUv24ks+rRYPq+cBbF9szuSLvJnbKf/i4VDeX4RkBK204CbdmW+q5Q7QOvGcgkUCWQJQ0jqX1bf2+srGtVmBIcSTeFyC6WNrxOmLJEDAEDIHjQMCI7nGganWeCAQi8brgHgDWWTwnoPfEVy0bpNB1+gsyAGHCkkheNkoR9pad/ehnec1+0hPSB8g9JCTcBIlE1wxR5cAiTlAI5sQfBpBFQi2zgQzNMrixCRAJx0lP0Sa6aHT/Gtcuv7vTrBKBX15v0OhnU4ubAgF1EsQTUnyvfFglBFhgwzSuOlU+1TNrjEh4KZ/kPNV2rTFDwBA4OwgY0T07c33mRhotoguJwQsCm6YITIDuFovl1tph3agbYCyIlGFHP+UIDYwMIdCre3f5Z/k5KpHR9vbUcksQB6K1ERgCl2jgFshyisSAzXZghm4ZCQRW2JOeok10Z5c3Ja9tWqOVEfnsQl6/ZDRNqoX1Mc31oLK7K0KUNKyvp4nk0nuILuuNtwiWDAFDwBA4DgSM6B4HqlbniUAgWkT3RAzmKXYCiy6vk1fm1p5iq6e7qWgT3dONRvC9h+giV2HjpiVDwBAwBI4DASO6x4Gq1XkiEDCiG9404N6sOq4x4iAK4bV+OksZ0Q1v3iC6zTkdUpNom9HCQ9BKGQKGwFEIGNE9CiG7f2oRMKIb3tRBdItvVqrniPBqOHuljOiGN+dGdMPDzUoZAoZA8AgY0Q0eK8t5yhDA7y07+NGGQkQsBYcARJfobyMtY8EVsFy6vqb7ZzU4xfi+72SD5WgEjOgejZHlMAQMgcgQMKIbGX5W+gQjwMax5I+y1Zctvm0tBYeAEd3gcHLn4kEKoptxruAgSIj7vn32jYARXd+42FVDwBCIHgJGdKOHpdV0whAg5Gvsm6kaOGJtMXxXWSdsWMfeHSO6oUPsEN20z/I07HHoNZzNEkZ0z+a826gNgaeJgBHdp4m2tfVUEUCj+90Pb2pYWY16tScaSAEXX0ce+GnCj1Mkx1MdbfQaK7ldJYVXy2W4efRg/ASgCAYzDVRxBjE7RHQ7JxU3xSxI3CJaZ97+xqK3FI69JiO6xw6xNWAInHkEjOie+SXw/AIA0f32n26o+6LxrilZnl3V4AOEfQ10IHnA3yv5wz1wzXUafOb6mn1I7qO/pklFTO3B+PGFO9g44he3/rphDaMbKW74zD2NuEF0p/pmJemDLA01zLoBC0ILg42/9QamYBvuOqMca42IeKcRNyO6vv4H2jVDwBCIJgJGdKOJptV1YhAgelR3Rb989fdX5eaLsRL/ToYkf5QjCe9l6gY1Nqn5O+LeSlPCQv5wj5SPc9Q3KJrN03bceOGhXPzxbbn529iD8ce/nS4P/5LiF7OHr6dI3NvpEeOW+lnuqcQt/Yt8SXw/S679OkYevZmmuEF6wQRs/K01MAXbcNcZ5VhrhKjGF+1pW2upn+YKR01C04n57bCOGAKGwPOFgBHd52s+bTT7CBB9Cytu+pf5uiEt48t8yTpf9MRBcIT8K2WS932pZH3z5H1fZY7jWt6lUo0QRZQo56Bv2d8W68H9/MtlkvNt8RNjCNQfyh81ttwLHgycdnO+K1bilPpJrs+2sr8pUszyL5UJeQO1f5z3wAJMCq48xsw9l9wHN45Q+wH2Acf2TZHiSnvgRhuZXxd61tq5Ap/tKc6XywTcwDDUPkUrv655cHOtNWcu6Rf9BFNn/dEuBPreK4kS81qyjtFXXygbELPznvu05W4bn81DTebhw368DQFD4HgQMKJ7PLharc8YAfSReFoghCyEl9fIvOL1PrbWt/SV79bmtqzOP3nfO/9xfd/Z2nkCsa31bWET3drShmxv7Wjo3PWljSfGEKhPlD1qbJurHgycDqwvb6rEAy8CvurmdTOvyXe2d2VjZdNnHl/lon0NLLxf1/Od1/jMJffBlSPUtlk7gcZG/W65AG0sTa/IcPOYzI8u+GwPnHd3d2V3e1dD34bap2jlZ2zeYZiduWRuN5GP7O2Js/5od35sUdikWBPfqGP01RfKglmg/0fcpy1LhoAhYAg8LQSM6D4tpK0dQ8AQMAROKQIQVKzndcnNMj0we0pHYd02BAyBs4iAEd2zOOs2ZkPAEDAEQkAA625jRpu05HQa0Q0BN8tqCBgCzx4BI7rPfg6sB4aAIWAInGgEtje3pbOkV9oLu43onuiZss4ZAoaANwJGdL0Rse+GgCFgCBgChxDY3tyRnop+6SjqObVEF20yuvOxjgkZbRvX8+zwvOrf8WM82j4hY+0Tgs/ttaV11SkfAiHAF7Th7AOYHpwLkMtuGQKGwLNAwIjus0Dd2jQEDAFD4BQhgJ/gjuJeaS84fosurgFXF9Z0c5/3prlIIFsYX5SqRw2Sf6lUim9WSnlMrVqo15c3lNQWXvN47+itGlTSe7BBdE904+Hi1LIsTi4poeXMd/wYs7kQaQcWbzTMgRL5VvB9PLsaKJvdMwQMgSgiYEQ3imBaVYaAIWAIPI8I4J2kNqlJmrM6jt2ii9eHtvxuqXhQJytzq0941vCHL1ZVSKd62tje0c/uvFP9M5J+Ll99GkN0IaWQU8gq0gx8IeP7GHdnTZltwphJ1DszOCdl92qk8HqFHsU3KqX0brXWsTy7Ihx4pIAsewoRhdFzaNQ7z1WZ6p+V+tRW1TvvX7KTIWAIHDMCRnSPGWCr3hAwBAyB044AXhcKr1ZIfUrLsRNdZBIEkLj9UpxkflUoawtrR8oIILdDTaNC+Gp8/madL5SyuzWysbJxAD0W2Pq0VvUTjHQBqQFBZTK/KlCSe/WXMUp0axObpTaxSd0TUhhXa5RtSG2ROy/Fa6RFfAw/eD1FMr4skOr4RqmOa9CAHYXXKpQY42ptaWZFlqY9Vt/1FY/VeKJnSqriGixAxsGs2AdD4PgRMKJ7/BhbC4aAIWAInGoEILoEHnka7sWwoE72zqhF99GbqVJ0vUJmhuYCkl2swKV3a5R0tuZ3SU1CoyR9mKV+tLHykvDviwUXYoseFxKMpZYNdm35XRLzpyRJ+SRHyXxlbP0B0aUsPpMnuqfk9u/ipL2wRyUQRFuE4NJW+f1aIaofgTbw31wZ26CWXw0m8n2J5H5fKktTy6oLxlJd+bA+qusBiQcaZAg/xNydHB/JyCa877nz2WdD4HlFwIju8zqzNi5DwBAwBKKEwNMkunQZcoa/3tI71XL793FqnZ3smfYbbAKdLVEQO4p71Io62Dii4ZenB+YECzEJIshGtOSPsqXsXq3KB7rL+jQYBppgQhFTB1Zf9LuQZ3eCKN/9Y7xQd1Nmu+YdqBtWcg0ZT/owW4kuWDXndEptkscyTKQ5wmkTdIP2sTrz0DA7Mi8by5tPBO9wt/nE5z0PYe+vGxaOrtI+ac7uUAt0VWy99oWHkbqUFs+R3KzWY8g1+SG7lgyBs4aAEd2zNuM2XkPAEDAEQkTAIbpYLvtrh2RhfzMWlla8FGCtnBtZkLnRBX3NDylcW1jXyH6QUCL8kY8NYZqPvCMLSkq5DwnV/JTZP6hzqHlMkj7KlvuvJuoGMiy9vhL9Q04ASR1oGFEtcdzb6TIzNK9WTspgKYbQEuEtY1+ugGWVfnGv8Gq5BsVozGxXC62b6FL/YMOI3Pi3h6qxLblVJYnvZ+kGPbS7BNPgO/IOd0L721c9KFimwYQojVh9E97NlKasdrUoYy0ONmGRBfPS29V6EHYZyzLhmX0eLyfIrd89km//6YaGXUZSYckQOGsIGNE9azNu4zUEDAFDIEQEIHoQNDZrZXyZL8U3q3RzFvIAXt+X36tVnWvmuQK1vmLxRA6AO7LeygGVB6Blzb9UJumf50vaZ3l6roipk57KARluGVePDnh1aMvrkta8Ti3TWzUgI23jSmIhbJlfF/jsOWSxJadDSd/ln9+TSz+9K4/eSlciDYn1lbjOq37IKAdts9kOaQIaYcg3CXJJaGcsy9/98KZQ//c/vSMXf3xH7v4xQck1cgmstN5EFysuxDnrmyKB0I91TCoGsW+mSsXDev3uJtS++ul9DQu1eoDAC8QRx8L4klqgeVBARmFE1xtN+34WEDCiexZm2cZoCBgChkAECKgf3coBKb1TI5UP6qQlt1PJaFNGm+CBIOvrQiW6eC7I/LpQ0j7Pk4T3MiXxgyzd/JX2Wa7ceyVBIHgJ72bI9d88lLi30pQ0kx/dbM53JXrc+UO8XP7ZXT2u/SpGkj/OVpIJ0cVbwvbWjrg9GTAsyCiaW+QORTcqtV5IYCD3ZMgOaDvmtSR5+HqKShog5hBSb28PEGm1Rg/Py+zQvCCJQN/LhjbHYg1BZrOeO6EJxtLMGRdtaIOxiiONwMoNwfZHxN31uD8zVnTHwRzMG2QX3I3oulG0z2cJASO6p2i2efWFRQBdFj+cXWV9MtY5qa/6+MHsqRhQy8N456TMjcz7H9meaFlnU0Rrbudh7dae6A8wdQ/Uj8hg46hMD84e+qPBhgvc8lgyBAyB5x8ByNjK/KoGRODVufqRRb4wuSQTPdMy2kYQhsfHcPOoDNQP64FFFo8IPVUDqhMdahyV7vJ+lQKMtI7LcMuYkN8pzz217OZ3qc4Uq+mdl+L2pQvTgp9dd3KIH30k0AO+cnMuFKu1dmN1U4moo9N1l0MagRyhc//3VDeipbYcST5pj7YgrhDdtoJu6a8Z0mATSDechASjLrlFCSbuxyiDFANLbn3qYULslIn2mTaXplfk0V/TjOhGG1yr79QgYET31EyVCFF8+OFM+ThHN2lAVCG8WBp4tYi1g1duuMbBMuEr6R+DxXXdtJD6WZ4kf5wjed+XqHUCskzihxwrBXHt2VCBFYezo2UjD3+4+IEnb7jJaWdlfu3gNWG4dVk5Q8AQeH4QwBILaeT37OFfUvS3jQd4798byCbRzhrT26Qpo119/aZ+miOP3kpTX7gN6a3Smtf1hEs0iC8WWYwD/I6hl038MEsJqC9S7AtZfnfxnYtelg1nSDDcaX1pXY0EfTWDB5fRGLNhrq9m6ODacX4wonuc6FrdpwUBI7onZKb4QUKrBZnl9RsH1gI0ZM5rOnbpQm7ZEIEGrrO4V627WE6wmqR8mqN/EHhVxqsxX4nXXZO9054IQVfK9LUar+/44eWHmURf8PvYWdqrZBd9Ga5zRjsmBAsJf1w8fiMLQn7t5vSJP2RsDMGaQttsbrFkCBgChgAWW0huQ1qrElaIJKTUlwyBB3IimeFJgc1gie975BJ85zcr41y+ShnQ2LoT1lzqT/0kV/XCPPDjAgzPBN4WY3c59+eRljG593KC4Ds39o0Urc993/nsJudrSxv6W4eF92kkI7pPA2Vr46QjYET3hMwQBJJXePw4o13jVRM/oOirnB94NkfwWg8LBySRhIwh6YNsefBaslz66R3dMALRZbOIrwRx5nVh/LsZ8vCNFEn5NFcjBQ23jsnm2mN3OvzY0x7WElz84HYHtzpE9iHCEHqvtM/zfTVx5DV+fLHi0vfv/+WOsIOZ16GWDAFDwBDYXN0SXGUlfpCpUiwilLnJYjQQ4o0Uv2t4TID0osHFkuv81gbTBsaFuy8nyO2X4iX722J9yxVMuaeZx0102SiHnMKSIXDWEDCie0JmfHHSY2HA3Q0WWnwj4gC9v3b4wA8k1tje6kF1F6M+GFc3lQij28XlT8L7mVLxoFattJBknwn97fq2bhaJfSNVdwBDiiHO/CiSILj8iFMfG0FyLpRIVVyjtp3zXbGkf5GnUYuwmoSTqJtXfTdeeCjUh8sdtVyHU5mVMQQMLjcjYQAAIABJREFUgecKAcgmD9g8+ENAo01yAYuHfcgpkc6w5qpF+IMslXwF2x6/kzz4oy3m7dtJ9FHrJrpEitvZ9vgUfq4WjA3GEDgCASO6RwD0tG7Pjy+qbpbXafNjC0pckSlgwXVrZ9kgxus5rLb4biRuOkSRcJP4VETTxr2CK2UBu44LH6wmRAVCJuG2ZLDjGN0aO6lx80Ob+Lxk4wnl0OtiEUYrHOwfBaczEHQsuPdfTVJ3PNTNHwxLhoAhYAiAAL8pWHF5y3VciQd7iDS/c/wGsqeB31p+nxyp2FFt00+MD5DxYOUOR9UZ7ftuoou3h1B/r6PdH6vPEHgWCBjRfRao+2iTnbHNWe1KXvE3iYsc/FayK9ht7YSE8qNcHdcohKnsKOnViDuQRXSz7UU96u4H5+fuhMcGftixFLM5A/+VvMri1R0+ILnGMdE1daCPczZYIFXAHyR6OHS7bPCAbCvR9doB7W7T/RkijTyhIqZWZRnscMabAy52qJfxux3JH/UZLTMhOXkF6UQJwhKOFg9rEBtX9PPArHqgOFTf6IKgkaNdXpOykQ//kjxgHMq379T+qV/b7x+vVHkAQp/oeMDAeqTykb4Ztfw746WPWJXAE7dK/sbiWKDcWEV7fDwQQSQgKqxX7yAB0W4vuvV5NPLg6qwrX+dI8HPWLvMa3b77X7/8/3I/zLr/b57Vz+ChhHrFE7AC0vq8EcFDRNfPvo2zOv827rODgBHdEzLXbESDxDjhIu/+IV6Kb1Up6fT3BwoXX/zRhNTxKq4uqVnJHe7CIKPuhKUClzY4eIdkEu7ywevJQjt8R6uLE3ecvOOarL2oW9K+yFMiTEjJzpI+WZxa0t3JNYmN6iOTMv765m6bz5Ce2qQm3UiH43VkGTiJ58CFGQQda7b7YDy4ClK/k/iedB0QdB4Gss4XHfjvzPiyQK3Z1Y8apORmlWIJ+cfq7a6XHdp4q6Bd2ocsIwnBJ6g7X6DP9cktfvvm7mc4n3kIoW0df2y96q3ZMEgEJPyUOhGciPzEwwYyFdphntjYp7vI/YwFPHmAcmMVcJypLWr55wEl2LGwzror+mWoaUytZDxcHbSR2io1CY26qZK+gOPBPdf8UwdvHJx2OfOd677yH7qW2qpYIAOiz5Q7dH+/HXcb5MVbCWuFNcP/Q7D2d7jxY2MoD4k8gHIQuIA15qtNruFrFU8mvH3xl4fr1OFYG526wzkzTh5meah73oic9++MfT+MgBHdw3jYt7OJgBHdEzjvud+VKIkiDjqv0fz9cYLUpH2RL1d+cV9wrH7rxUdK2CCVbiuwM0TqQaOl4TkX19UizOY3rD1YNYkvT6IsVjnCaWJdVktxQbduZOCHk8QfTzRuOzueMnrRzz+UwYJK1CQiFhH3HXKdca5A5RFIJHwdie9lat7z/3hdvA8iFLFpDyLiq+xxX0v5OFtuvRj7RL+8++nz+w+uyVd/f1XO/d0VOf+Da4/r+MF1z3eu6fHkuH3Wt4/P9V8/iDoW4IuXD/AO1Lb7HriAj685gCDGvJasmxAD5fNul/bpRzDznflVoUbwuvKv97TP/nBxt3H1l/f1TYOvPh91reh6pZLXLnxbl/Tq/yuiZB1V7qj7kO22/G6t06k7nDMPtWxu5f+58//Xz39Vu/ycIWBE9zmbUBtOWAgY0Q0LtugW4seI12a7ux7SSIQgLEy89tXX+jMr6tLLu1XkCvi25TX1ZM+0EkesS8gM/Lm3xYUYLnfYwKZk9Zsi9bagGjPHJe6eaH9oGwfsuDFDJoH12LHg8jpa4847Zbw75/WdcpBd4sxDyAlJifWY1+0EnvB1LE17Xt3TrveB1ZlX+4zfV9njvgZpAAPvfgXznehIRIIiNn1f7ZA64accWmvkHM7Bd/TTwdRJHuY96uNmfY0v6iv2YPsBLuDjuy8r+hCF+6iA+fbbnR2aU8kLr/jpR7DzrWtnbEGx84uLa2z8H0Ly4bvPvtenk5cHR96u8FaGA/kI/3ed++GeqYMHUKfecM/8nzOi6/WDdEa+GtE9IxNtwwyIgBHdgPA8hZt7olpLXidjwWEj2Z0/xqsLsdwLxfqamVf06FEPOTLfE9XvsjGs5LbnNX3cW+n6ChUy4C+hnYz5U5K+rkcziwcEh7z6K0MENlzxoO+EkJOw+rIJI9QEWeLVbva3RSp/QHLBH/CzlHiAYE5xag8JcqxsWNTZue0cfPdnzT8reOn4g3yYOiuYhDpOfGob0Q0VtecjvxHd52MebRSRIWBENzL8Ii+9JzLaNq4WXNy/oF1Ff4q2EKuuakxTWtSq5cgR+OO/tbYl5Icwav6YWvWGgJWVDRb+EtYnwmmik8Qv7mDTqMZfx6+tI13wLgvRhYSj+2VzHOXY8EVs+XASFi+iBeFaDO8QfdWDKqcIp67TWIaNb4VXK4QHE+bDIbqncSzW55OPgBHdkz9Hx9VDI7rHhazVe5oQMKJ7mmZrv6/8eCEDQGMIAWUHONHOsPryutOxuvoaGlIE9LE53xarjACSXPWoXib7/BNk4rOjQyRCGtZjQg2zSQbpQLgJ0j47vKCBKNgEdJYCRvBQgQXfrGzhrh4rFwoCRnRDQev5ymtE9/maTxtNeAgY0Q0Pt2daih+v1flV9Zxw44VYiXktSe7/KVFuvhir0gXkCf4SMgX0kbhMgqyik2WHPH54/TkT51U6GsneykH1VtBbOaDa0XCkC+5+YZlWHfDiuk8Nsjvv8/SZOeABA6KLzIT5tGQIHBcCRnSPC9mTX68aRWZW9beGdWDJEDiLCBjRPaWzDllamFiUie5p9bGKNRerKMRxdycwcfJoQT0O2XWzy9qWR6frpxiElDJsftMNMWtbqtFV/WSE+PFDrIe/3XMR1n8Si7NxCZdgBN0A02jgeBLHaX06GQgY0T0Z8/BMekEkzK0d3Q9hRPeZzIA1egIQMKJ7AiYh3C5AEJEAbO/Haed7sFF9wm3TykWOANbz/EtlGnTjpEZUinyUVsNJQcCI7kmZiWfTDx6kE9/PEiO6zwZ/a/XZI2BE99nPgfXgjCHgaHQT3sv0eNLwY0k/Y7DYcI8JASO6xwTsKao28QMjuqdouqyrUUbAiG6UAbXqDIGjEMArRsmtKol/O139r5p04SjE7H4kCBjRjQS9U152z+MKkodqs+ie8rm07oeNgBHdsKGzgicdAQgk0o6TdiA1wS8x7sXwkrG9ue23j/hO5j4b/wId5IvWOD1tRq++aPUrlHoYQyC8nHtnATfd+PhmmiyMLykmgXAMBjdHKhWonpDu4S/aNmQey88puBK8hY2vRnSPBWKr9BQgYET3FEySdTE8BGaG56ToRsWJOwpvVKinjKu/jFE/woXX/fcx63yh/pEibHKgI+nDrKiNM+OrAo2yl3exJGp1Ps15KLhaLikf58i9lxMCYnb793GS8WW+zkGk/cu/XCaZ5/KF8MP5V8pOFG4P30iR6795oK4IA621vEulkvxRdkDMWIMP/pws6V/kRW2MuBccbhkL7z+5lQqIgBHdgPDYzTOCgBHdMzLRZ3GYQ02jcu1XMRLzWrLwR5wwxgTK8HVUxzeqxQOSgq9gX3kI4FFwrVxJID6Ms74uVO8JvvJ6X3OXJSgI/o8hC7Tr5KXd7G+KtH7aoUzlgzr1W5z3fakEOrAQO/VEeo59M1Wu/+ahPHozVTFx99FX3YwHglflB9+KB3W6+Q7M0r/M10AhWJd81eV9jXHlXCjWiIHe9/hOQBX8OvNAQD7y01+CqeCrOBBmkNOKmFqtw1fdoVxj7hLfy5SbL8TqGAn4clR5PG/4W2uUBU9wVdzwmX2x5Mg6tdyjBim9Wy08sBRdr5Dimx7f11WPGqRmf73xf4F77vngftmd6oCYgWfRtQoNaHPU+IK5z3yx1puy2s/iT9Sxj9mI7rFDbA2cAgSM6J6CSbIuhocAEdfO/+C6EsqO4h4Z75rUwBoE13ji6JnWCHF9NUMy1DT25P1ejxs3/A93FPVIe0G3+hQeqPME63iiPq82xjon1XcxZUdaxjUEc3/d0KF2hpvHhCh05KEdyhxV73HcT/s8T2797pFkfl2omEz2+MDLNT7G01ncK+NdUz77O9YxqdHvwKy9sEe6y/s99brq8DcOLH09Ff3SUzngs+6JnmmN1NdV2qf+oMnvr67jvM66gbhe+cV9Jc5EOzyqPdaOv7VGWfAEV8WtoNsvBt7t4GoQHDqKe2WgYcTnuuf/AvdCnQ/vtiL93l87JDwI1SQ2hvef3EoFRED9po8sSOwbnofWgJntpiHwnCJgRPc5nVgblii5+u6HN6UxvVUjyRkmwSGApS/+nQzhlbKl4BAgUmFTZptc+/UDGagfCa6Q5RLCYTfndBjRPaa1QBCg0bYJiflTkml0jwljq/bkI2BE9+TPkfUwTASw6BrRDR28ktvV6uPXiG7w2BnRDR4rd04jum40ov+ZzYW8Ebn7h3gjutGH12o8JQgY0T0lE2XdDB0BI7qhY0YJI7qh42ZEN3TMKGFENzzcgi1lRDdYpCzf84yAEd3neXbP+NiM6Ia3AIzoho6bEd3QMaOEEd3wcAu2lBHdYJGyfM8zAkZ0n+fZPeNjM6Ib3gIwohs6bh6i265eFwYbTaMbLIJGdINFKrx8h4ju/Vqx4DTh4WilTjcCRnRP9/xZ7wMg4BDdpsx2WZldDZDTbrkRgOjiT7U+tdV92T4HQACi25zVLvdfTTSfsAFw8r5lRNcbkeh+dxNdXLkRyMOSIXDWEDCie9Zm/AyNF6J74Ue31F3X2sJaRCPHHyV/JPjDwcF374S1ZHd3T3Dpw/FEnj0J2aJCnd5WGOp12nCfn2jPu4NBfse3K35pO0t6gywRejY3ert7e7K+tStrWzt68HkL/EKv9qAEdbrL83l7d0+2dw4fO7vge1As7A8Q3ZacTkn5JEfdgoVdEQX3RNeRs9Z2fEUOYy251wHr0Wsc3uvmqD75XGus6f317D7Tdqj1+2rfiK4vVKJ3zU10CaQC3pYMgbOGgBHdszbjZ2i8EN2LP76t7nW21rcjGvlo+4Ru0sLSiSP+oeZR2VzfOlTn0vSy+nRty+9Scj3VPyOba548kJW1xXUNx0lI32DS9taOLM+uahknP2SDevGt2pLbKa353doWfmbHOydla30rYgJSeLVciIpGwI3jSmubO7KxvSvrWzvSNrokv7jWIP9wvkr+/nyVfr6Y3y/LG8Hh5N1HSHLryKIs7mMP6V1a35b0xgl5UDkiMZUjEls9Kkl145LTMiXDs2uyub3rXU1I3yG6bXldGkxhZnAupLLemTdWNqWvdkhJM8SZ4A74MnYn8uBnub2wW1hvgw0jur6cPLiVmhmak83VTefSkeeV+TWZn1hUYutknh9fVP+9kPjWvC6P392yfrVaM+ZIH66M6DpIH8/ZiO7x4Gq1ni4EjOiervmy3oaAgBLdn9xWC9t2mKSJ5iCPONfnlX7GuQJJ/SxPGjPaZG504VBvpgdmlXQSYQqraPGNSpkdntc8qwtrSl4gJcSeDyYtTCwJgS4os7GyIVilIS6QGqJkEYqVqFdl92v1ILrU/NhhohJMO955iNiGRRfiHGrCqDi1tKHktXl4UTg6x5dlduXwQ8HNkiHJaZ0SLKpzK1uS3z4tGU2TciGvX16+3yKvx7bJwj5RDaUPWGdnljflpbvNUjewoHWPza9rn77L7ZcfXqyVX99okE/SuvX4NK1LijtnZHYleELoqz9KdPO7pORWlcwORUZ0F6eWlVBmfVOkUdGI4NZd0S/ryxsHTa/MrUpfzaDUJDRpBL2kD7IO5os3DxBUXlWHQroJ3lCX3Cy0z9pm3ROQo+xejcS9lS6535fq/4Hye7WajwehSF+FG9E9mNJj+WBE91hgtUpPGQJGdE/ZhFl3g0cgWkR3dX5NLWeE7c3+tkge/TVNILMQW3danlnRiF8QU8LSxr2dLkQ7g5xihcUvLaFhvQkydawvbShJXZxcOqiSqFNKmm9Vab29lQOC1RjyQojbC/98W2qTmqUhvU1qE5vVwguxxuobSYLkFl6v8NnPo+pFHlDbPy/XigblUsGAHh+ndktW86Ssbj7WB/7+brN8n99/qLrxhXWBAP/qRqP8Nb5d5le3vN/GH8qPpXZ5fVuq+uaU0HKTa1ho/+bDEklrmJDC9hlJrBtXi25e27T858/L5V8u18nt0mG5XDgg3+b0KdGdXjo5RJd1Raje5I9yJPPrAg01jTWVdegkLLpTfTNKgCGnl356V3qrBvQNAg9Sg42jGpJ4rGPCKXLozEMU5Xddluzm7A4No8y6I/w062xhfFHqU1vkzktxUnS9Utcb7fGgxwOXEd1DsJ64L26iy0PYVhgPjyduUNYhQyBEBIzohgiYZT89CESN6C6sS11Ss1q1Uj/N1ehXDURbmzlsmYVgQCwI4Vt+r0ZD6KJzxfIFicj7vkStY76ILmFy2wq6Basa2kcs0IRxJTxqwZVyacntkKIbFUo+uN+7L8tgA5TKGHI6hTC4kJNIiS5WYgh0OHo+ZAOVvXNyMa9fvs3tl29y+uS/flkhH6d2yeDMqvROrkj3xIqSTSysJKy6o3Prklg7ptbcH31fq/nLe+Zkcc2/fAH5A7KHt+Lb9Yz+FuLLtf/zo1KJrxmTb7L75C+xbZ529vbkJ5fq5JfXGyShdkwlDHfKhqSse1amFh9bS8NZ4ZBQQhuX3q6O2KI72Tujlvprv3ogCe9lqHWdud1cfWwV58Foqn9W10F9Wqvc/1OSWv9ZR6w5LL3x76TrevQeD+uD0MJVsfWytbHt0Z5vbCuhzf6mSCUR915OUOIMUWJNY9Hl4Yq3Bq15nfrgR/hiI7re6J6s726iWx5Te7I6Z70xBJ4SAkZ0nxLQ1szTRyBaRJeetxf1qGSh8FqFJLyXKeMdT77Wr4prkEdvpmpceXSufTVDUh3XIBlf5svDv6SoVaz4VpVPS2lDWqu+au6p7NdXxlj1IBSE4+VAi4lcAcswCUL87f93Xe6/kqiWu9RPc4S+0SZ/3CJJBZfLtN/hEF13u8gI0OC++qBVLacQ11diWuV3d5rk379XLOdz+jQ7+tkLuf0qKbhcMCAF7TPy5qN2+buvq4QybPDz2mel5cYXNuRe+Yj86nqj1A8sCFbZpuFFSW2YkL/5oERSGyfkq6xe+cO9loNu/fRKvfyvbxeqFvhnVzyk92rRoHSNLx/kCecDDyYzQ/P6gBOpdIEHKDSxSFMS3s9U6ymSFHfiQSf9i3y5+8d4JcKN6W1q0Wet8MYh5rVkXXO+LLqQZEgr5bHo8oDGenOkORPdU/Lw9RR9cMJyPN41KY/eSpPbv3ukdSd/nCPZ3xZLXXLLgQbd3bdQPpt0IRS0Qs9rRDd0zKzE84eAEd3nb05tRPsIRJPoonnsKusTCAWvdp1NZm6w+eNfdr9GeC2MhQ+NI3pHLLrIFtjEhm7Sl0W34EqZII3AGtdbPSDp5wqUbMS/kyFFNyqls6RH0Gxi7SPx2vjmb2Olv25IJQ+QI6fNSHfDZ5zL135GSnTxnoAO9824domrGZWB6VVJrh+XlPoJJbFYe9mQhoa2qndO6gbmVc+Lxbe8Z1YtrsgNsAJjvfVOHWPLaq393Z1mlR/cLR+Wn1yukx98Uy3/y1sFqvmF6L54u+mgKJ//GtcurSNL2i5tI5GIdDNaNIkuG8kgntUJjbrmkLOwmdGd6lNa1NrfXzcs6HXR70JgIaktOR1Sesejq/VFdNnElvd9qWR/V6wb2JCppH6WK7d/H6cPcRPd0/qw1lHcq3Wy5jK/KpSahEatn7XmtBnpWjOi657V6H82oht9TK3G04eAEd3TN2fW4yARiITo4hmBXetYYHHLAzGAAOJ1If9SqVpPsaDWJDYpKcEyhp4y57titaoSNADSASlmQxl1JL6fqZuV5kYeb2KDKKDhZYMbRIONR+h62fwGOcaKC9Hl1XXm14VaH8Mf756SxA+yJO3zPG2T/lXHN8r0wNwh3WWQUB3KRh/QBkdCdFWOML8uL9xqkquFA9I9saxkdWJhQyYXN+RnV+rlfHafEtt3Ezvl1ZhWJa2QYogocoQ/P2yVdxI7lBxTzjtV982rLOJvPy1TiQQeFDjQ3/7794sls3lSzmX1ah+csl9k9MjPrtYr+X3tYau89rBNCTF9iiRFSnSREKDDxarKWmHekz7M1s2PzAdklLWIPpaHLNYGkhbeBPDQw4Getr92WB9SkCDEvpEqY+1PanR5O8DaefhGqiDBYa1RPu9SqSDNGe+akri/pqkEB08hPOQhoUFGkflVgf5fYIMamvFgPYj4w9aIrj9konPdiG50cLRaTjcCRnRP9/xZ7wMgEBnR3ZH5sQWpjmvU19FsIoPgIkFI/zJfN5uheWvObpfZEc8GsNqkJiXAEM76lGa1xkF0R1rHlVBgsUXDOTfi8cRA19FLYr2jTjavQTaQO+DqiXIQDDYBof9UorvvZgqLGgSafkE6OKOfhERHqtGFrNNuJEQXvSy623cSOgRCioTBnbh+p2xYBmfW5GrhoEoX8LiAtvdS/oBuZmNjGq7AsPZidXUnNr3ltk7Jv3u3SP70sFUlEQ8qR7XNrokV+ZsPSyW7ZUqlC/92s/GgKBvXIN4fpXTJp2nd8ll6txR1zKinhoNMYXxQojs4J1jmHXlJKNVAGJlj1g5zieWfh5c7f4zXBxmu8fCBnAVSjDs51h/50I+zYQx9Nm7I2AxZ/ahBZQa4xfNOzK3jWYO3DFiFsQizwYw1hreN+LfTpb2oW/AWgnxhtM2zFp21BuHmYc40ut7onqzvbqJbdq9WZUAnq4fWG0Pg+BEwonv8GFsLzwAByB7E4WKE7sWwuEJMIZBIELLOF0lrfpcsTCzqH3m3H9HpwTndwNOW3ynNOR1Kbh0vCsgKeioGhChtzjVggSiwQ748pk41lkgX0r7Il9mRBRlpm9Dd7+gueyr6tW1ICOQDzSYWPA4sbsghINxYoSHOG8sbYfs4xdqHVTESootFl41huBbrmVyRjvFl1c+2jCxJ/9SqPKoeVQLsXhqQ4+nlTSW/WFjxoOAvQZyRRfzg22rd3PZlRq+wua1leFH6p1fl//igRIkuVmOILtIHpBPcc859U6vaN/S57WPL2i4EOpwE0Z3un1ULOxbRcBPWWuZ2omdKRtrGJfbNVCWiyGCQNDgJd2asx7aCLrUEQ3gdV3asKdYsFl82rHkn9Lk8lEFUS+/WqESC9cyDEl5F2NDGRjakC6wr1hcHefTz2IL+f6A91hoPXeESXrPoes9OdL+7iS4uDyP1Jx7d3llthsDTQcCI7tPB2Vp5yghghWJDT6REl26zO11f8daPqG9crGlrASIMYXHDkovUAfkCaXdnT185Q3jdpABCDhmB1C5OLqv7H0g1/Ucbye55vCCw+Sj/SrmSGyy5vM7WjWo3KoSNb7kXS9Uah9YSosqOeP7IhZOiQXTd7d4oHpSfXqmT/+dchW4CeyWmRdrHHrtRc/LifzeuZkyQMtwqGZLVDf/9R/8LQY2vHVMSy4Y2NqdNLW3q+f/6pEzQ97K5DQ0vVt73kjpUL/x2fIdKI/DG8Mf7zfKbm43CJjU8QyysbUs4XBeiO9U3K0kfZvn0dOCM8ajz4sSS6sAJEsGDS9JH2Uo8A5VDXsCbBrx0OIl1BTGFIHsn1i/aXTb5sVaxBCOfwRIMOR7tmFTZRE/loEpmkOgUXCvXtY+EgrcOSCPSvshTOQ5W5qWp8DbzGdH1np3ofncT3UgfXqPbM6vNEHh6CBjRfXpYW0tPEQHIZGdpX1SILtbWupQWtW7hxxYSGkgegFUOyyv6Wbd1zxOy1Svk7J7HqgtRQueLBdkJ+Uo9WM1w2o/VDF0ukdLYBU9UNFyWacSqfCJWdUtHSa9afoeax3STUbgbhaJNdNkA9pdH7erGK6V+XP7DRyW6ecx7OSBb8Ghz2+S/nasMKCfA2MsGMggun7H+Yo3FkqzW3pYpQdeLNRm5ApZiXIrdLRsWNq3FVIzIw6pRJdbJ9RNKittHl8J+tRstojs/uqA6XCQzapkdXfC58dGNHRb++68m6kOQ+7qzntzX+My6crS1ut62PCGtsdayxtZXNvQtw8rsqmq+8Tiia41IfHmdakXuLO7RNyZshmTDpfvhzbu9QN+N6AZCJ/J7RnQjx9BqOP0IGNE9/XNoI/CBAH/AsVxFw6Jb8bBO3SlBPvB1i99aNoxBBHwlrGi8/r3/p0QpvVstrbmdai0LdfMOxBgCBTGB/Op5a0f1lJCLhckllUFgTVuaWVES7GgqAxFxX312X4s20SW8L0EjsLbi/ut/e6dQiaW7TT5/kNyp3hj+54Ua3Zy24KXL9c7v7zukF00vPn0hvZBhSDEeFoZm1/QgqMTI3LpeQyZBdDZfnh38teF9PVpEFykKOlg2PWJh5eAhxju4g7t95hw3Y/hZ1gcf1ltBt+dhJwTzNOSXNca6IxIfRJnvrC1nrbHueNhDOsHbCTw9QHIDqEzcXX3iM0QXt3z5V8qeuGcXIkfAiG7kGFoNpx8BI7qnfw5tBH4QiGQzmrtK6iFSFDpINgRVPapXyylSA18JLSWvjXlVqGVi61WCQCAJCNFJT9FyL+aMk3C++LK9VTqsIX7/21eVUtHzZJhcoqfhFQH/uiWdMxG7/HLafxrnaBFdiCPEFmkK8gXWG1HS2Jjo1ui6x4TsAN0tB+uUMg2pLSETXXedT+szRBdpDpIbS9FHwIhu9DG1Gk8fAkZ0T9+cWY+DRCBaRJeIVEgIBptGpa92SAbqh1XXiITBX8KiShk2FLFpaLRjQjcZRWJp9ddWtK/nXSxRwgQJiUZCd/vGo3Z16fXS3Wb5OrtXN4R51+1sYMMCe9pStIgu40amgq/bgfoRXW9sVsQ3s3vjoxsfruPbFpkMaw2tLhbgcOUE7rqP+zNrjAdt6tgaAAAgAElEQVRC3iJYij4CrAHWz71XElXTz4OUJUPgrCFgRPeszfgZGm+0iO4ZgkyHSsQs/LlGi+ieBfyiSXTPAl7OGFljbHbDZ7Cl6CPAQxCR74iWh4eN0/DwE30UrMazjoAR3bO+Ap7j8RvRDW9yCVBBIAwjusHjZ0Q3eKzcOVljtYnN6tHBfd0+RwcBN9HFF3O4Wuro9MZqMQSeDQJGdJ8N7tbqU0DAiG54IGPNRe/J629LwSFgRDc4nLxzQXTxLY2u2FL0EThEdGNqo9+A1WgInAIEjOiegkmyLoaHABrHGy/EykT39KnYBBbeKKNfCqLL6+QRl1/W6LfyfNUI0SVgRMaXj30nP18jPJ7RQHQJrlKT+Dh63fG0dDZrhejiZ5moi0TSs2QInEUEjOiexVk/I2Mm/Gn8uxnqhxbH+JaCQ8CIbnA4uXMp0R2Y03C9BAuxFBwCRnSDwynsXPt+uhPey9S3NLiMs2QInDUEjOietRk/Q+Ml0ELm+UKB8OI5wVJwCBjRDQ4ndy7Hopv22eEgIe489vlJBIzoPonJcVyJtm/s4+ij1WkIHBcCRnSPC1mr95kj0F83LFd+fk9acjrUZdMz79Ap6YAR3dAnyohu6JhRwohueLiFWsqIbqiIWf7nCQEjus/TbNpYDiHAZrTvfnhTGtNb1YftxvKG6tXQrIV6EO0s3JC6hzp1Cr5AdLO+LtTABVjCQ8XqIP/ShuCw/izg5ia6o20TGlHsAIcQ1xvr1AnRewqWS0RdNKIbEXxBF4boErzG3IsFDZllfI4QMKL7HE2mDcWFwJ5Ib9WgnP/BNUn5OEejL+FeB1+S4RxEnMLlVm1ScEddcrO05nVKT2W/Ov0n0MRpOZI+zJI7L8VJ8sc5UvGgTrV94WCG5waN7BUCbvWprdKa33VqsHLmtKu0TwgRff/VJI1qBm7hYEYZ1mlVbH3Qa81Zk50lvacOt7b8bvXZXJPQ5PrPax+jjQBE1zajRRtVq++0IGBE97TMlPUzJATYbTzYOCI3X4iV6795IDdeeCg3fxt76Lj9+zi593KCkhMICtGDbv3u0aE83mWO+n77d4/k7h8T5MGfkzWsacG1cim6USF5l0sPjuJbVWpdwcISylF8u0qjSLnrCvS58HqFlNw+3BZt41GBELN8LvHRh4d/SZHrv34g13/zJGY3X4wVcLv/aqLiBmZ3/hAfEWZgeueleMU/9o1USfs8T/tVeK1c8q+UKW5Ez2L8/vBK+SRHMr8u8HmfcQbCyX0PXLxxAyN8C9MX7cfNyifaoRwbfph/f2sEnFhnzgGO/vIGc/3Wi48Ue6e+nAslOqfMrzMmPoe73li3Dv5Off7O5CO/e354M6C4Xd7Hzce6B8+i65XSXtgT0v9vyxwaAkZ0Q8PLcj9fCBjRfb7m00azjwChdhcmlwQrV3N2h3QU9ghWN/cx1DymoXyXplZkcXJZQ/ai63XnCfUz4YHxP0udzjHWPnmoTtxQOfeCPYfTP0LBzo0uHGprZnBOGHdPRb9M9c9qaFnvPnSX90tjRptqm73HTznCzC6ML2m982OLMtY1dWh83mWO+k57bBh095X6aYf2KM+8EFIZHLz7y3ciP0HqfN0D76P64Nz32ZeJJRnvnhKkML7mlzaZ87b8LrVgt+Z2+myPdeDu32DDiM98Tl+OOvdWDchY+8ShOp35dcq617i77WA+UzdtOHUFOvvqy8HaKOuTAeZvaP5QX50+EPJ4c802ix7nj7cR3eNE1+o+6QgY0T3pM2T9Cw+BPRFc6aAx3VjZlM3VTf1jyh9U58DlGJo1SDHHzvaOoMV17odz3lo/XCf1ord01+Vu02k7mHOo/dPxbXvG5tRP21ynP9oPr/vk497GyoYHNxdezhgoD7bk3dlmfDuHxufkC+UMRtTl9JP6nX5SD/PC+A/u78+Z8z3x/Uwpu1fr8z7jjLQvjJE++JpfxWFrRzZWN2V9ad0vbozR6S9n9/hC6Z+Td2ttS9eWu073/CpuXmvcnfeoz/Q32P8PPvviWhs6f67/a95tnwUdd3g/ZNEppRpdQgCbe7HoAGq1nCoEjOiequmyzhoChoAvBMxi5QsVu2YIeBBQonunWra3dgwSQ+DMIWBE98xNuQ3YEHj+EDCi+/zNqY0oegjw/4PNoWbRjR6mVtPpQcCI7umZK+upIWAI+EHAiK4fYOyyIbAnkvi+x72YWXRtOZxFBIzonsVZtzEbAs8ZAkZ0n68J3duTqPtfRgeM9hsds3OgFZY9D3Z6bXtH8NjCEWpydMehljvu/Gjb8QjCZs21hfXjbs5T/z58zKPqxtfRe3sO9O67YeB7qOOsD+rwMU3McTQ13/T/0HrY3/+Bddw53OvoUD/ty4lAwIjuiZgG64QhYAhEgoAR3UjQO3ll15Y2ZHl2Naodoz7cmNUlNUtNQqPg67qnckA3EUKMahOb9N5456R6AFHyEmQPIFd4CcHLS1DJB0ELqlyImXZ39mR+Ykli30z1K12AxKmlN0p9Ajc2QoLp6uK61Ke1qleU2DdSBPeB+ZfKBI8wkSTqnx1Z0I2fB/O0J0qmO4p6ZGl6OZLqD8qyibI2qVlmhuYOHoDWlzfUEwnefJqy2gUvK72so5XNw4T4oBb78KwRMKL7rGfA2jcEDIGIETCiGzGEJ6YCPKVAInIvlkh/7ZB69YhG5yArBVfKJfmjbCm6XqGu4CBFa0vrSlByviuWzK8KtG3czOF1ggQRXJpZka6yPiE/ZLmjuEe/424Ojy5Es2vKbNdgH4H6uji1LAP1IzLYOBooW9TuYY2EgOP3mkAk3hZQPIUwhqzzhYK7O0hcoAShnx2Zl6n+GXWpNz0wq1EnD8imiHCt5FaVPkBgvZ0enJPe6kHpKu1Vq3Lm14UCvv4SdeFqEBeH+AHHHzMPJfTV6f/cyIIQxIeHEvAn4cVksm9GmMfJ3ml/1R+6jutBXOO167x2S2dxj3SX9clE15Risb60oesFDBk7Dw6rC2vSlNEuBDmpiW/UsWacy5exDk9ExEMN2JcTgYAR3RMxDdYJQ8AQiAQBI7qRoHeyyuKqDNKIb+TUT3NlvGtK3ZwF6iXkaH58Uf0tY1WFlEIoHbJKWcgTpIlIiS25nUrw8A3cmtelBJYgL0kfZCmBqU9pOWgTojs/tiDVcQ1KeopvVilhTv8yXwNiQMb7a4aUPBPkBEsmr+khZo5rQ+3Hnshk74xajqn/aSSIJr6o7/4h3mdkNCyWfTWD8vD1FA3Ugr9q+uwrMS7GBF71qS1Sl9IsVXENWu/yzIq6zqMcgXru/jFeVufXDqqhncmeack6XyQZXxWoJZ36fCXI5OLEkvqlhsxmf1skD19PFvwtO0SXNZH6WZ7Ot0POuU80yvt/SpLGjHYl4ITmDpRGWsfVLSFEn6iEuRdKJOfbYiXR4MbcEkQIoo4EhD5jTcbvN1ZpDtYq7g3BEWJs6eQhYET35M2J9cgQMARCRMCIboiAnfDsWA0Jg0z0OKyvEBJ/BIyhYM3DCkyktexvizVKHkQU8uPoK/ncVtAtuRdLlXBCkLDUYTnO/qZIrv0qRpI/zFbrIaQWQqNpT1TbCnm+8W8PlajSp5g/JUnOdyVSdq9GLY9E5yu4WqHkerh5TPpqhjQMORZDtfyubcl416RUPqxTa/LTmIKjiC59wFrdkN6mUfbyvi/VvvrCGhzBjNf1hENH/gF2EMGJ7il9GJgbmddAM1xziC51jXVOaojsuLfSJeubIiWkPHj4TfvaXiQIzVkdapFemV/V+aQNLOvx72Ts99VDLrlefKNS4t5Kk/wr5boehlvGdXzOGvBuj6AmhEZm7iCsWPT5DPHlgYZIf5d/fk9DuUN0fSWsx4wJKz2WfUsnDwEjuidvTqxHhoAhECICT4PoOhuksOr4skb5u85Q+EOrh7cVa3/TlVPW79lf+SBx8u6733b2x+bvvmNRC7LZiLItTS2rdfX7n9yR9C/y9NW6+xW5u3IIWMa5AiWyc2ML0lc7pBZhXps7ngbWFteVeEJk+muHVQMMkYLsLEwsSdKHWWrVxFpZ8aDu4JW40w7EjfDeWCwhe2mf5aomtyGtVfOnfZanll60wFgbH/4lVR68nqxhoa/+4r7MDMzJaPu4SgiQETAWcD7OhCXZr0WXpvebx/LZXtit40v+OEcJ5FGuyLiP1ZyQ4chCkBfwkAEBJeT6ChbdPRFIf+HVckn/Il+t8w1pLZL2RZ4Syb0d3xvKFJM9kZG2cSWbEHAkJuhhcy4Uy6O30jR8NhZXh1xO9EzrGsBKT5RCyiBTYT6xKPtLSFEI+41cARdsEF+IPFZ3LMpXjiC62u5XBUr2A7Xjr327fvwIGNE9foytBUPAEDhmBI6V6O6JkqXVhXVZnlnVY2Vu7eBVJmQFi6Jzj88HBGa/LNYrSJd7gxXEF2uXUy7QmfKQiZXZVW3Ln4XKF8xY9SB5geoP9t7G6tbBK2pfbUXzGkRweXZFdZBspuKVNwTWV4Lopn2Rr5IFNJRYgCFcaDAZPwliBqlN+jBbN2c5YaO5Rh6IMha9hvRWtdI62k+nPYjunT/EK+FuymiTrK8L1EILOcIiTHuFVysUH+YZEo0mF+vjvZcThNf7WHTxfoAko6dqQAm20z+nnUjPzgMVZ3BBc0q/0c26iRiv2R2rNeuVvLz6T3wvU8krn1nL/tLM8LySSDSxjA3rKVbv8ns1cvOFWCW61ElYal71EyabBwosoIy9o7hXxjomlcD6eoChLFbjmy8+knuvJCruI20TSsLRxiK3gOiSj8ScP3wjVdthvTNfWKv5HOj/C/pciC59QRPMgwuHzuv5Ivn+x7f1YcGfRZf/w0hSkKs8jYcXf/Nh1/0jYETXPzZ2xxAwBE4JAhBdXpdi+Yv2gfUp9bNctQ6h4dTjw2y9lvZ5nloBIS7OPT5znX44ZRPezZD4d9LVauj0jzzoRZ1ygc6e8hlK0lJc9Tt1BTrTHyxbgeoP9h7WUGdsgdqM1j36zkYqDnSf+ZdKfZIWCBtW2JwLJfoaGVwhx5BYh0RhPIW4QYggSEgLeKVOWYge3hiqYhukOadTKh7Wa/hwlj/3IGtYCC/++Law1rBi3vxtrFow0alyIJVAOuFOkG6IbvJHOUq42DyVf7lMrc2QOKyBDtl0lwv0WQn7+KLKBsCZ1+xICOgfr9v57qxLcEB7/N0Pb0nc2+kHGNFX1gQEHQJcdKNS+8/8shbADg8JEFMHP3efIOcQYdpkExskD+KMPKSzuNdDdNHM5nbqeOkfcgI2A2Ldzb9SpgdzxsMI5d0JzJGi0K+y+zVq2aevSE0gsAN1w9pPh+hCZNFRIz+A2Ho2ju2HKMednB+XY5QHi9svxSkePBAwbtrCmlsT3yRXf3nfI13Y2hE2wSFnwHMEel4ONMTgnX2+SNBo99cP+8TMPT77/HQRMKL7dPG21gwBQ+AYEGBzEX8Ujzr4w4wFijOWNYiTbkD5rlivcy+o40KJ/tFGq3lUm4fuX6/UP4buNiEBECR3Pvrm6WtJcP3x029IFfWwCYg/xgQOwGIHAcKCGdRY/dQdbFleZ0MmsKTStvdBv7z758gIuA6pvPdKghI1yCEkyDtBZCCtvD5PeDdTyR26042VDZ/5KY+VvLO0Ty24jZns8K/WjVboTSFveCwg0R6EuXp/hz2WPvKW3KpWAsbrdUeDWhFTd6hrWDmRKVQ98mh+sRoqGf2mSC2Ti5PLBxbnQwUDfGGsbNYqul6p8wfp0rV8uUwJGMQLosb8cIbQfv8vdxRHymR+XfD/t3deT5JcV3r/h6TQmyL0pAgpFArpQaF90Urkag20u1wSIGG4JAEQwBAgAYIgQHhgBgOMd21netr3zLT33nvvvTcz7Y7id6qzJ7umqjqrurqmq/vciIysyrz2u9ldX5773XNURsB85HxW4COd35crwUNDi8YVyygvGcszqwFfLHhh6Kno1+V9LJruORlrn9Q5xmcvLxNIAOruN6ubLuYHa2lzbru0PuxS/Jemlvex3h/2rqj8ADkFKxng35DZph4f8MGL14f8i2W6GQzLOS8vtAFppw11FbfXFs8BUhPmG+zciXLkZz6ZV+aGM7pgJBfMFxvNINiK+9Sy1Kf7JA0Jb95X/8S8WNx4NVVyvyjSFwms14FeDtzt2ufYImBEN7Z4W2uGgCHwHBF4vPJEkB2w3MmPEcvT/CBzLZwDGQP6x1BLogGHuedsnvJOe1jClFS5+Bt9g0BgvXLyRXLGWkg96F2xnPHjPdw0pm6Z+OGPpM6wy8ytyezwgoy1T2jbtO8+cEfl3z8ICOQRwgmhgaxBSJACPJNcwQPAElLJiwRzAzkBW3by+yd2zEMQIdXoUrG4Y6V0rIH++fU787e9Fyhgc1utsZAwyBobzvqqh/aLYfXEwgjhRLLA0jfjworJWCJOAZ4hpBJ4nYCks5EPgso8cYakYRFHlsGY8VgA5swH/cGqzIGWFWLMiwUkFw8MwWQVYIpcARLKc4QsAUkC3yF6EFm3TAIizN8LFmLm2osVG9kKulx0vrQ3N7Kg7sNoB6zBkGuLU8vS8rBTNdOQd+bz4j/dUsmDswLB2Bmrer8IADzvTjqvPCtbO2oVXpxY0vpxc8YYeZ44+J/BxjdeKMCMenGZxguPv9wlQFN26TkgYET3OYBuTRoChoAhYAgERwDSAXmCeCEXaC/oCeh1AYKyvadBhmRAhCsT6tRCvL64rsQKAujoOPdb3COLEB9ddl99ItmfF0h1SoNsPg6+cWm/vIi62oLcsByPZhQC5k6QX+QQbisvpBMiDgGORYKYQXbRI7PJKlCChIIdkgO0sFgowd5LgjBD+FLOsfEuQzI+fqjWU/+yWIAd/7pViQ1qKfXPE+w7zwLzyqoAJBwpBp/xZRzMfVjWXwrUy0OwOkNdx4VaT+WAevvAQwYvT47FGh/P4x2T6m0DTwvkmxmcV2s/4wulaQ7Vpt07XgSM6B4vvla7IWAIGAKGQBgIQM6wPCILQRvdXzOkTvq57p/QY+I3l2Vkn473nlz5eaJceSlRl99ZisfahhbTnZA0sDsfIq1Sh7cyJOmdDPWv67+87S7n/ozeFj0rbtAgklj33AmCBsGmj05CqkA5SFEskheii2UW4o3/2bIbNdo/XWHw0EEs7ldfTlZL9nDzuOpxwdQ/sVmLeUD3ypwgX/CaIOFIQAhjTD87S/tUDpJ/sTzgyw/14hEDF3GRJOpHh8vmR8g7UgzHAs3qyEjzmL5I4U6M62DlrMo4hDiSdq3M8SFgRPf4sLWaDQFDwBAwBMJEAKsYoXmxfLIsjNwkEMmlWqy5LDGTHzdaWNg48x0n/3hpgDSj43QnrK/Uj76VzWLkx20Yy+ABJMDuovufqffmL1OVgN3/0wNP4X+RAmAxdC/r71d4DB8OI7roXZGIsGkSHSsE3CF1XrqDvAH/w+oRZH5Nta64VvNPaF3Z5JV8LktlKHhn8Jogl5BoNmTSHvIMZAtoYp+x1O9Vis4WF2ORJHDgBQvXcJBy5BEO8WfusMpDgPGfjF9m3JPh2UL14AFexiLpg5WJLgJGdKOLp9VmCBgChoAhcAQEIBUQLiyfx2Uhg6QiOUCLSjjXtoJu3YimS/bPGo4DjgZtblVyg5TfqvP57w0VACFgDcd/8TCiy330p1hK0aoHe6EI1lNwvPNGmm4Ea8puVy8U6J79k8o4dNNXtfrrBTuvCWkJ5BaiC4HlBQVrf8XtuqCaWCQleMqIJEHKsc4j9UCzrbrbvWeCZxPPC2wexepLX7Aco+Pd2AslHUmbVuZ4ETCie7z4RrV29GRsTkHQjxWDM+5rsBKojmlqWf1sco234FCJfzwsJ3Hwj47y7uTE9GZZi00BvDm7f3T4gzc9khsx+2wIGALxggBEGpLCZiU8O+CJgAOLsPv/XKjxQAohYWsLG/sWv1D5n8e9w4juUfvEbwfkE50u0gS8FmAd909gym8GZNCrNMSpg98mLPIl16pUaoKGGC8JWOCpM9oJzLDOri+tB3wW6A8kGpKPKzE2xkGOdaObx5ekaPfZ6guNgBHd0PicqLu8BXcU9miYw5LrVVJ2q0YF+RBe3jpxY4N1AgfYwy1jQftONJry23XqcBun2+xQVh3Z3h8p/5SojyU9XKngHoY43u4/ZNrExYslQ8AQMATiEQEMBPzf42UeAwIbm7yS3HgZ73ET3XjBwfp5thEwohtH8z89MCdlt2rVZx9ElZ2+aJ3YVcwbKG540A2xrIMfwUCJt1HewllmIhoMJBdfomwqcPRO/HPkB6Ahq01DIbK5ABc5EFtcr5Ba8jrUH+jOzkFLcKA27ZohYAgYAicNAUgt/+v4n4hW9bSRXPA2onvSnjrrz/NAwIju80A9QJtYS/HNV5/hi7OOWxOE7m7dFFFnEMoTThJfheRnxzHkl2WdW7+6q34hcUCPfihQwpfjeOekaqmIsMTO0nvv5yjRhSyT2IxBfHh8X+LvEj0STt1ZqmEJCSkDy1W4eDnqjwP/iPXwugMk0KDsmiFgCBgChsAzCBjRfQYSu3AGETCie0ImnaWzrrI+dc+CCB5Bf8n1anXu7WiaWGpD/0SUoKXpZdXmQnix3kJsb/36nsbqhugSZSlQwnqxOL6kO1/ZBYveKfvTggM7S9E9OU642d0K0aU/A/XDSrSx9OKUG6IcaYIgs7u3r9q329l/V3Sk9Vo5Q8AQMAQMAR8C/J9lpe7u73OC+tE1rAyB046AEd0TMsPID2rvNavbFITuvdWDqrllc4RqY/eWoRDg3349TUkxcoOxziklqbhAwcJKzHUnpGjQoe2KbhrI+axQdw23F3Yf2FiGbAFCjXNuiDChL3sqBjSSDqSXTQfEBCdaUSQJ4o51erBxVKMRoS1mU5wlQ8AQMAQMgegigFWXMLbBAkZEtzWrzRA4eQgY0T0hc+IQ3cbMViWuOEknVCQ+IR2iS1fxV5h/oUwj2Nz45V3Babb6mlx9ou5y2DhGbPvC78sPjIx/dlhqsaLiw5FQoGxsG6wf2b/GdfLg1BwNL/IESDfEFEsw9whlSfxySDI7lsOVLqBQWJ5dVVc+ye9kyNVfJCmpDhbh5sAg7IshYAgYAoZAeAjsiqR9kGdENzzULPcpQsCI7gmZzLXFDY3Uk/pulmpwb/wyVXWxvhjpTzd8obFF5kC8cMIi+tyLbalFFuKKlZcQmMVXDkoXcKeDz0ciCBHFB28LfE7CKfZ72XqN6/gDnBmY041oOEGvuduoWmEcddMeITLZxEYYxvSPHki4m9GIIAOBv/JiooaNRHqBE+5wCfMJmTbrhiFgCBgCJxYB/q/iatKkCyd2iqxjMUDAiG4MQPbSBNZS3NxAVAl1mPdlkfrn8/df665rqndGY6njOeHh+VLJ+iRfy0z2zshkz8G469RDNCC8NLCBjQNvCpBcIsjwHbkCFlzIMwSUDW6Q0tp7TerGbHVuTT0v4LwbCQPaXiy9XhL/cLEYtz3qUusCY8QHIX4osfIyfv4hI5twH1zDGu0kdkdTxp0n2Gd19O0UfN7nXVGsIPr0n3EclsCW2OrBxkddin+AqryWBV+s/ORnjqiT9nhe3CsJTl/d9TracedeXJ1d8xEM35DXl8FnO+QLGniqC6s9THn+uXZcyfkbY07jem6OC6AzWC9ecvi/j2HCpAtn8AGwISsCRnRPwIPADxRkzvkRfPhtqcZPx+MCZAOLp+PWy91dvCJAUvkHxmY0whXi+3Zlbi0oAYXUtOV3a3QXNME5nxeqZwekAw75IlgERAdJxFDzmEbNITY5kgYnD06yWx50HiCh7r75f6bdptx2wWJ96V/uqDUZPXFtWrNupsN5O1rdspu1Bw6uQbTZcMeBXrgyqeFAHv8yzveKhPr9ck7553VmnETQQQ5C/xnHYX2pSW0SxuCMx/9MXdTpYOiuz2tZ8KUN8oMzddIO7utYAXDXyWf67fSJOfO/Hy/f3fPhj6uX7+AEPu5n03/s3PNFzvJh6rw0+ueL1nfao43G7HaZG14I+j/A/2/Tvp9eBDAgsIkYTz1GdE/vPNvIQiNgRDc0PjG5iwyBkIWjbeO64YtNXlhp0ekONo5osAasvQR6cCcILZIELKyDDaNqYSWUI1HTgiWstcTwRqPLRjfILv8M5WDVB4qzEQ3/vLTlEG7IN0TcU9oVjTKT9WmBXHjhhnz1oyvyw09u6z/fO2/cl4STfryZrhvzkt7JUMuI01825F17Ofm5HNdfSRHkLXde98MPOcrbGXtx5YktH9lBLHd+HL2M78ZrqeHP4R6m7v5hdbr9mzS5+cvU/Xbpg4M3977/59ty/u+uq/TFuR7sjDwHzyL+8xYsv16PBn7vZB54TkK3l64yIjcOR/nMc5FyLvMZbb+nv1PLdOoQwE3kQJ0R3VM3sTagsBAwohsWXNHPjBUXcnrj1VS59NMEufTTO3q+8lKiXH81RckGVtCBuhHZXN/c7wAW4IbMNvV8gLuxqz9P0h9MpAnry8EJKPpeyAP//Fja12XOze2Qltnusn6VMYx3T+kyN8uxLI06Fuj9ToX4wJL3/PiSyjJuvJai7soIm0iENYj+8vTqiT2cqEmMmeXs5RlfX+k/2DyPo7dyUIabx2RxAvyeYrcyu6YvLuHMTaBp40UGrbaXsSG3cffBy2cHU3fbvDix2ZKXMKdd+uDUxwoGkpm7f8jRiH3O9WBnRyrgP2/B8nM9Gvjxt8mKSKh2nHur8+v6N+XG4SifeSktulRpRPcoIJ6isjz7SNlMunCKJtWGEjYCRnTDhiz6BSAVyAIgffvH1LIsTflIINZcn5bVZ3blhxSiQLSyUvW1C2Fc0mAOSAS4HyytLqzLtVeSJeezAqlMqNd473X3m2V6cE7bCFSOH8+sT/M1uES5ygtqpKOoV/sXKH+wa/zTZXwsG+NxIeXdLPUwobIJohOd1MORlez6IqA6Tg8AACAASURBVA05/YTwg/fzOCBxitueRwynT5xDWeeDzY3/dZ4hLP1exraJ7CXcuXMwdTWsbW5t67icdumDUzfkkWiAeV8Vq6bcuR7svE/2/eYtWH7nerTwc+oLfX4qWXJBEfFHI7oRQ3cqCyI147cl5VyWSRdO5QzboLwgYETXC0onLA+EgI1huPdiaRYrF4S38IdytfJhpQ2WIMwtDzs1AhvBIDgI50tY4ECbj6hnYXxJLWzq5zejVdDrEjEN62a4ib5DdtmUlvHRQ/XJO9o6ccCPb7h1Wv6zgYCGuf6uTCU6EDpLzyJgRPdZTM7yFf7fsgKFRx3T6J7lJ+Fsj92IbhzOP5YqLF6tDzt9m4aSGnTzGmGDcUfmljj4D49/fLgyI8CEzzvDtGpvIcfORjP/Mlhi0fbikWG6f1Zmh+Y04APXI01YpPH0QHALNtRBfi0ZAqEQ4BktulwhmR8/0mcnVN6zes+I7lmd+cDjNqIbGBe7erYQMKIbx/MN0XQ2heEWimXe/eXaOBiXz/XNrOCjd250IQ56bF18ngjwcodnATyFdJX0Pc+unNi2jeie2Kl5Lh0zovtcYLdGTxgCRnRP2IRYdwwBQyAwArzU4Uav8IcK9RcdONfZvmpE92zPv//ojej6I2LfzyICRnTP4qzbmA2BOEQATXjaB7lSfLVKxrum4nAEx99lI7rHj3E8tWBEN55my/p6XAgY0T0uZK1eQ8AQiCoCeF1AtlDwvW/TZVQrPyWVGdE9JRMZpWEY0Y0SkFZNXCNgRDeup886bwicHQRUo3u3SQoulktfzdDZGXgYIzWiGwZYZyCrEd0zMMk2xEMRMKJ7KESWIa4RCO5S+MQPi42FbNjDX6+XQ71ghDFe9e8awJ9tNPzIHge4uL/rrRzQEMX9tcNBmwA3NmZ6wYw8kAGvibrJH7CM92q8Nhd2voiJ7q6ov2KvmG1v7gTGIEiPwYvnLSBuQcrY5aMjAN7mXuzoOFoN8Y2AEd34nj/rfQgEIIksdxMBzglAEE9nNKm4XcOtm5cDf8dex4urrqXpFSGMNB473Ljgr5b77msn4TMu7jqLe6Uho1WjpwXqk3ohWfK5z/OCGXnwSe11vGBF0BX6QltOH/jsFXunzHGcO4p6JP+7MsWJPnptgznnefCKGX63/TEI1hbYkJcIiLgV9M9H8JPtre0Qf8l2K1IEILpE+zM/upEiaOVOAwJGdE/DLNoYAiJAiNwrLyYK4ZTj8bj8YqJc/hlhob0dl3+aENZ4qZs2/DEinPTVl5JOHGb09eI/3pLvXrghP/zz7eD9ezHRM2Zgqxh4fUaYk70j0DN17eVkDccd6F4sroHPt397TXEKa1wvhfeshYubYuY8b35Y3/sgV4PYBPwjtotHQ2BXdHXj3vu5FjDiaEha6ThGwIhuHE+edT00Av01Q/LFX1+S279Ok6IrlRoFrjGzTbwcTTkd0l7YI50lfRqcoKO4V1oedEpNapNGomNDVMn1ag2h7KU+/zwE+8D61pbfLY1Z7ft9qs9o1RDJDUH62ZzboQE2CLbh5aD/tNOY/bQN/774f0/8bbpc/KdbkvR2Zsi++Jfju3//sMByrSKhXjeR4Rqs4k6d1N1v2R9zoHoCXstqV7wIMNKS13mgfHVKo4YHDlgus02astvVyukFM/LQb+YoWH3+1xnf/Q/z5LsXbkruF4Uh++Jflr4RrbCzpFfnlDPPBZZr3KkVXaqQosuVSlT8y3r5DlY8y/7PAXNQldSg7QSrp/VRl6fnzMEV3BhPsPr8rxOti6AxtWlNof+Y7W5ECCC1YWUo9b1sI7oRIWiFTgMCRnRPwyzaGAIiANH9+sdXlSjgjop/+CwvezmerG2qptCpmCVAwiez1D8zOKcR4ogutzK76qk+/za3Hm9pJDq0pCybO/fX95bGne/+Z5Z9kWSEk9BGutvwr9P/O8Tjzhv31Y0Xy/T+90N99+8fP7RcW5paVsxmBuZUjkF0vlD1BLrHGMALLTJz4c7DPKzOrx245r5PWfriNZGXOXLXEerzzOC8vvRgJYdUhuqLfz30jbYcbTRtM871pceyMLaozxuSgqXJZc/9cbcBVqrH9nsOmAPkCsgx3Pndn9HshpPoezjPGuOC0BvRDQdl73lNo+sdK8t5ehEwont65/bMjwyiyzJuU3abrMytnnk8vAJQeqNG/dXWpTV7LXLm8/F8Nee2q6xhsGH0zOPhFQDINtZsI7peEQsv3872rixOLEvyuUyz6IYHneU+RQgY0T1Fk2lDOYiAEd2DeHj9ZkTXK1JP8xnRfYpFOJ+M6IaDVvh5Wf2Y7J0R5EjIRCwZAmcRASO6Z3HWz8iYjehGNtFGdMPHzYhu+JhRwohuZLh5LbWzsytLUyuSci7LiK5X0CzfqUPAiO6pm1IbkIOAEV0HifDORnTDw4vcRnTDx4wSRnQjw81rKbdGt/x27YF9B17rsHyGQLwjYEQ33mfQ+h8UASO6QaEJecOIbkh4At70Ed0OufFaquDWzpI3BIzoesMp0lxuoltyrVrYZGvJEDhrCBjRPWszfobG6xBd3ESxC/44Ehv5t/Yiaz3Z2pHh2XWpHViQmv4Fqe1fkI7xFZlfjezHZYcd7Js7srH5dOc77S1vbMn4woaMzm/I2MKGfp5aeiyLa5uyHUaUr2B4QHQz/vxQmnLag2XxdJ0fWTxdsLMenSBeKh6vPD7g/QBvAAT0wJsFEZzITwQ0J3FfPS24MHDuBTuz8586KeskPvMM0AaHemmYW9MABng8oMxREkQX93M45h/rmDxKVdpvAitM9szogecFPBm4E+PBOwLjcHDTyHh7mRQDPHS4MHCXD/QZnDcVi6d3+Y7njeWZlae44d1imXna3vcU8bREeJ+M6IaHV7i53US38FKFWtDDrcPyGwLxjoAR3XifQet/UAQguuf//rr0VQ8pKQiaMcgNh8Rube8KByQS8ukkPq4/2RZIJvemlx/LVw/65b/8qUz+0wel8h/fL5GfXGqQB63TTpGwzmtPtqV/elV6JleFtmh7c3tHCfR3BQPyeW6vnM8fkEvFQ3K7YkSKOmZkcX1Ljsp18Q+Mi7FQYXa9DATC2lc9KFmf5Mud1+9L7pdFMtQ46iNIexVA4MY7J9X3Kn5d8cc6N7qwXz2urxYnl5Rk7V885MPW5rZGTiMaF4TPIYVtj7rUDzK+kPFX3JzTIR2FPdpeuG60/LsA0cXnbM4XhTLVN+N/O6zvkH38H4PZ7d+kqf/h0baJA2QcXIabxqQhs1X9Q+O/lpcFEmMG+7HOSVlf3vDctrqAG5gT8AMznrnZ4XkdV1Vyo9TcbVZXYC15HdJXNSgLE0thEelAHTGiGwiV6F2D6PIyxAuYEd3o4Wo1xRcCRnTja76st2EgANG98A83ZLxjSi1VYRRVK+3C2qZU989LWfecHlhqh2bX962m3C9on5F3UjtkaX1Lr3NtZG5dyen5RwPyr7dbJaNhIpym9/N2ja/I5eIhuZA/IDPLT2RsfkOo/1HbtLx0rUn+w3tF8nZKu/whrUvevdep+TonVpSU71cSwYeczwuFY6RlPILSviKQLUhsV0mfVNz2BQXIv1iupGwdArrHxiF1/bVDer30Zo08+LZEgy04DUPwCDjRUzHgXAp5pt2V+TVJfidTJQRYcQmNzLkquUFu//qe3P19jgb7KL5aJYWXK6WvZkitliErPuQmRLc9v1t9D2PBPkqCQLYX9WiQiIfnS5ToQnyx8joJ8tJbNSg1d5ukMqFObryasi+ZgOTODM1p4IrJHu8vWQSqKL1eLfOjizLZN6PzN9E1pf24/lqqkngCV4BbVVK9vsQc9QXBiK4zo8dz5u+BvzECRhjRPR6MrdaTj4AR3ZM/R9bDCBFQovvCDZnonvY55A+jHiy1nePL8vXDfvk4q0c+yuyR393tkN8mtcviuk+KML30WNLqJuQX15uVgDrVIyEo7JiRH31TIy9ebZK81ulDrawTi4+lYWhRWkeXnWqkcXhJvsjrk/fudcrD1mm5UTYigzNrMr64Id8XDsq/+22+JFSOyt26cbldOaKEGguwI6XYryjMD1l/yZf878pkduSpZTXMKtTSB7msTKhXiy7kMvPjR0rM+OF1iC7L5ZC2ie4plUrkfVmkRAqSrOSxqEdJFRZL/0QdLKFjBWb5nsQu88XJZbn+aop0lfVptLHGrDa1cBLoA3+iOZ8VKHFuK+iW5rwOGWufVDLgX38437WvBd1KFOeGj0Z0sQiX366TxLcyhLnI/rRAraqQQicht8ACO9rqexEgkl1v5aAGf5gfWxSefcK+Yi0PlKb6ZmWwYUStt06gipYHHfLw2xKBHD/4uljGO6eUXIM9AUQqE+u1H0Rt6yjuEV5CmL+jJCO6R0HPW1kkLTwLRnS94WW5Th8CRnRP35zaiPYQOArRfby1I6Pz65LXMiUZjZNKKN9P65Iff1urutvqvnlJqRmTP2V0y8suokuZzMZJ+WN6l7yR2CbvpHQoWS7pmg05LxDjq6XDKnNABqHW4o4Z+XNWj5xL7dD2OaP5ZUkZOcS/ef2Rtv/Vgz75Mq9PrpcOS+PQosobQjZ2yM1H50s1TK+zFH5I9oC3IaFIB9jpnf7RQ/XjmflJvvTXDcvmxua+thMrZU/lgC6JExoYi2JNaqN0l/dLY3abPDxfqqQba6N/Qoc71j4h+RfLZHpgViURtMmLjRLd0j6ti/skrFvpf3ogd9/LVgkDYYOrkxvVMokG9ShJx1ExIGU3auSoRBeLMC8I136RLHf/kKMEZaB+5MCqxOLEkuJWm9asYXzBmIhsWL5r7zVL8ZUqSX03KyDRhZyiJwZrLLJOlDkChOR9VaT43Xk9TYkzGl0Ib8q7WfLwmxJ9LsCtPr1F77v11JHgZ0Q3EtTCL5P2xzwjuuHDZiVOCQJGdE/JRNownkXgKETXv7beqVW5WT4iv0vtkMq+ebWoQmR/eqVx36K7ub0rEGCssB/c75KWkSVJrh5TovppTq8srG4KG9Ygqv7pm0f9KkGAJCNRgMh+ntsnv0lok9/f65TU2nH59Z1WaR1d0qL57TPyb9/Ml59daZR373Yo4f2haFD1u7RxlFR8pVLJktuCGEl9WB2RLpTeqJa8r4uVXLKBCsLpJJbGIXPZnxUoKYbgYmmE7GJdTDmXqRbNQBZdwtcSPpaykDH0pN0V/VKf0SJXf5GkRLA6pUHbdtrDqgyJy79QqqQUIk6bWEePkrBAj7ZPSPmt2iMTXcg6fYKUg0FXWb8szx6M7Ie1+sE3JZL5ySOpTm7QsSLBqL3XpBbrex/kqnwjkEUXCzokF3mKank7JlUGAZHFgoxFN+ntDOku6/fJF3qm1SLI8jcvQWxWrE5tlK7S/rBXSvwxNqLrj8jxfDeiezy4Wq3xgYAR3fiYJ+tlBAhEi+iyCQyrLtKF9IYJ9axQP7Cgnz/J7lG9LJ4VkB9AbrGq9k2vSvfkirSOLElR54zmRc87ufT4GYsrvO9Xt1vl5RvNklQ9JvfqxuWF7+vlv31cLn/9VbUSXSQSr91qluYRH9HFQsx9vDvMrjyRlY0t3RiHbOEpjYwANBFdtsa6GinRxWL4ZH1THq89kaXpZWkv6JbuigHdvMR1Dkgw4UnZnIZLrsWpZV0G39na0XsQu4G6YSXJLLl2FD1r0cWKi9QBwkZeSC/ShIQ378sPP7ktvdWDqstlg5iTIIdlt2qV2Dp9ob9u8u3kDefMeGaHF6TiduRE12dd9eGGzIKNZmwIxNpMX7GE+7wi7OqLCGQTzwwsTfuObZkfXVApR1VSg6S+mx3QojvcMq4kGSx4WeDMy8aVnyfpGaJLgAGs6Gxmmx6YU8s6obSp3+mLyhaO+LAZ0Q3nKYs8L0S36FKlrLvkL5HXZiUNgfhCwIhufM2X9TYMBKJFdPumVgVC+05Ku246w/MBbr+GZtckoWpUrbqQzS8f9MnfXaiT//NNjfzf87Xytxfq5IWL9fJPPzTIi1cb1bLbMLgoK49d7rN2d2VuZVP+8Yd6+ffnCuVnVxulbmBBRubXJatpUi3Dv0/rVKL8yo1maRr2EV0INXn/60dl8t8/Lpf/8WmlvHqzRar65tVqHAZMz2RFnxkp0UWygIYTwolVEItswhv3JfHNdL3G7u/kdzJUhzveMSlDTaNqfcXjQlt+l/RWDshIy5hex+qY9kGuEtmOop5n+jnaNq4ShcsvJqqVEb0q+lz82F57JVk3mbEBDU2uk2iHZfibv0xV3Sna08bsdi3n5InkfFSiC3kE87T3scRmqDUWyzOhW8Ey5XeZcu8POSrjwHqMzABrLxIHPEfwIjAzOK9WWDxmYOkF/0CuzvCaAAa3fnVPXyTQ9GLlBSus40g/kD2gw0VPDRmmPV5Ibv7rXcUNa3NTdrtPhhIJYHtljOgeAbwwikJ0scQfVWoSRpOW1RA4MQgY0T0xU2EdiTYC0SK6eFpAQ1vaPXtAdoCnBSyryBTYoNY2tizFnbOal/xFnbN6H68Nlb3zutlsbuXJAa8IyAzw5vDarRZ59Waz/PF+l0oUhmfXpKJ3XpA8sBkNSYOb6NJ2/eCi5DZPSU7zlOS2TGl+NsixIesoiY1oLIdHZNHdFcHvKy7dWPrmgMBheS34vly/Q2bHu3wbnbAQlt2qUZJVe7dJ8HmMtwc2srEpqyGzTcpu1iiZc48JCyZtXHkpSS25LLtDYqkP92TXX0lRbw7oSd1EFw8MEGH6gOszjrlhn5XSXX+4n49KdLFkM14suMgW0NviUeH262m6GY9rSBMgrlhSR1rHVSeL9AJNLtZs/BQT7pVNYljRkRoEIrrgiQQBy3bWpwXS8rBTN/7hNzkXjS5ykveypaO4V3XWjA3c+HvC0wOYYYmnvXD89AbC1IhuIFSifw2iy9+hswk0+i1YjYbAyUXAiO7JnRvr2VEQ2BUlQhci9LrgbpoADfjI7ZpYkYyGSdXdshEtv21GLagQWbcu1tlMBlGtG1hUP7vu+tyfKVfRM6++cCGsEGc8PAzNraksAb3vu3c7JbtpUv71dotqgOkHJLq0e04PykCs8cyQ3TSl1l9cnOH7N5KU+2Wh6mUjIrp7DaLFRR+KdhavCBDnppyOPcnCzv5mNCyZSBCw4kLkmnPbdcnc6TdkarB+RLD+uhOWKQgrvnmxOPqsmj1KvrDqXns5WYkuZBErJUvwEGjKDLeM6RmyxiYviBubuPa9CEQAG2QQiyrW1Kn+0BsP3ePw/4x/XF4C6BdnLOBYvRmvm1T6JAWzOg7IMS8n03vtQprxQgHx56XDPzkvFBBrfP+25ndpfjaoYSUe65xSF2zMG4E+FLPmsX38FLe6YcWNFxlkFmwMjCQZ0Y0EtfDLKNFNqAu/oJUwBE4BAkZ0T8Ek2hCeRQCLH1awaBBdal99vC1sAPub87Xy82tNKlfAo0JW09QzjWO1fdA6pRvEIKmQ0GAJUtw/vSZto8uq38WtGRHPVh9vSc/Uqkoj8KNb0Tun0ghkDdnNU/Jhepf8ObNn3/UZXh6w/L6d4nOBhrXXTb6DtR/oOj+KR3VFBNlkZ35zTrtaAiFE6GhDJbw84AoMH61OUr3v2hPVhTrXOG9vbavOdrBxVC2c6FdZZocospmLTWd4ZEDygAUT37SVSQ26WaziTq1wsHGMsKiMFWszbW+ub0ak14XoTvfPyf0P8wLqYt19D/V5cWJZ+4E3CAg8PmshkqES4058K/2A32Msd6tzqwGXqiH0+NlFl0xwCOYKzwsQfjYBTg/OCT6PeTGARGMJxPpbkVAn5XdqFc+Sa1WKW/53pWrlXV2ILPKgEd1QMxule7siaR/k6fxFqUarxhCIKwSM6MbVdFlnvSLARiisVdEiumw0u1M5qkS3cXhRpQLv3++Sz/P6nukSUoS/+bZW/pLdI//zs0oN5PBMJg8XIKqTixuqBcaqPDi7pm7H2seWVcrABjWCUWDtxUsDVt7qvgXpnliRtceR+zeNBtGFWNbcbZT6+y1qZcXixwFBDbZbbnlPCwoxxYLpO3xRujzAtZ8Fi+bMwKx6DEACgQZ1Y/WxujbDgwEHFlyIHZZTLLxYN/GFG2mKFtGlr+hh2UzGxjNI7JON0KF8IfYEwuBFwo1buBvscJFGFDrqmBmalyerT/QFAbKLdber/ClueMYYbR1XK7J60ohQLmNEN9Inzns5/h7wo8uLiiVD4CwiYET3LM76GRgzy7yQmWgRXbwl4BHh7y/Wy/DculT1zqtF9bPcZ70B4Anhrz6rkv/8YaluQkPiEEnCGwNeFHBb5gv/u6v6WwgwFmY2tWH55TPhgrEGb2zuqCXXHao43LajQXSxEuLay4nIxEYntKSdRT1BXVKxIQqSy+Y1rIjoT9HY+ssWDh3PrqiVF6smnh34oeczVkukEo7XAMeLASQVy7FbGnBoG34ZokV08Y/LJjyCRRCggfFzIO1QLwd+7fIVossmMSQaWKmJRIdVfHVuLawxoe0GAwgyLySK39ZOcNye+HAjX6TJiG6kyHkrx9zwsocHDiO63jCzXKcPASO6p29ObUQggEaXEMBR0OhSHZu/Mpsm5a8+q9RAEGwMeyu5Xe7WPhsmFw8MyBzwoYsXBML3xlOKBtGFTOKmCp1o3f1mlTE05barbjZY2FgsiehB8QWLay0O/Oei0z3pKVpEF/KNBrYmtUnqM1qlLr1FA2ewQSwYEadtNp81ZrbpprSmrDbVLOOdIVyrbqxxhujqZsWvi2Pd9JloD6KLXhuttxHdMzHlNsgACBjRDQCKXTodCETL6wJo4FIMv7gEZUAzez5/QNIbJgXXY/5JLbHbu+rbNtINYf51xvJ73leRuxdz+qn6zydbKhtgk9Rk77RuOiMwQyivEJCz+fFFzYv/VpbSI93o5PQlFudoEV36ihQAzxHIKSZ6plUesLqwHpS0gjUSB2QPYIamF8twMGIcCzy8tgHRRSPNy5Wl6CNgRDf6mFqN8YeAEd34mzPrsUcEokl0PTZ5KrIVXapQ11aQEEveEIgm0fXW4unIZUT3eOfxANHFvRhv4ZYMgTOGgBHdMzbhZ2m4RnQjm220njiXZ3OSJW8IGNH1hpN/Lohu8ZUqDXfsf8++Hx0BN9HFc0YwnffRW7IaDIGTi4AR3ZM7N9azIyJgRDcyAHFpxQYotH2WvCFgRNcbTv65ILoEqqh0uZTzz2PfI0fATXTZ3LmzsxN5ZVbSEIhTBIzoxunEWbcPR8CI7uEYBcqBNRfvBwQLsOQNAYjuzMCcZH3ySCa6n/Wt7K2Ws5cLoktkttq0prM3+BiM2E102fQXzLVfDLpiTRgCzw0BI7rPDXpr+LgRGG4aU7dLEDaIiCVvCEB0iy5Xqp9UbyUsl0N0sz/Nl4nuaQPEIwJGdD0CFWG2A0TX/OhGiKIVi3cEjOjG+wxa/4MiQAjV9I8eKvHAh6olbwgY0fWGkzuXQ3SzPjGi68blsM9GdA9D6Gj3jegeDT8rfToQMKJ7OubRRhEAgfHOKUn7IFcjYuGyyZI3BIzoesPJncuIrhsN75+N6HrHKpKcEN2V2TXzoxsJeFbm1CBgRPfUTKUNxB8BQqJe/Mdb0pLXodGB/O/b98AIGNENjEuoq0Z0Q6ET/J4R3eDYROMO3sQIIX33DzkWMCIagFodcYmAEd24nDbrtBcE2Iz29Y+uyKPzpdJT3i9j7ZPHeuCof3l6RdYXN/aP7a3wdjnj5J8ACQQAcNezsfw4Zj4w878rk+R3MjUU7XFjhrwE3AiI4IxXI3qFGVbWh9vmfh1OXZsx0mZDdKf755RQ8GJ13LhRPxHjnHFyJuJcOH5SfUE9tmV96fGBetaXH/uCTcTA5aoRXS//yY6WhwAtrGxZZLSj4Wil4xcBI7rxO3fW8xAIsGTXWzUoX/yvS3L9lRRJ+yBPsv6Sf6zHg29KpOhSpZRer9k/qpIbNPhCzd0mT2fceuEGCKuqu56yGzVSk9roqQ6vbbnzNWW3a8hkwiYnn8uUC/9wQ3E7bsxyPiuQB98US8m16v3xlt+qleowx1qd3CDlt+v263Cwq0yoPzbMwI8QxWDWWdIrVYn1cvUXSXL3vexjfc6cOXl0ofTAeCsT68N7RlIb1a2X/7PGd/B0Px/R/NyQ2SZdZX3SVz2ouNXea5bWR10h/prt1lERIPKcEd2jomjl4xUBI7rxOnPW75AI7GzvykjLuCS8mR70wGpJDPgDx7ksSXo7I2gZ//oS38o4WN6/Puf7uSy1kh5oy7l3yPnGL1Ply/99WRJ/m6594+zfD//viW+lh9Ve5iePBFLOkfHnh9qWf5181/GeC4ybl345dQbEPhAO5/zmJ1CeQ65B3JPeypDEEM+Cjm0P33DmqOhyhWJWerNGcj4vkNTfZQXEjmeKfvjXDQ7MlYNLqHNQ7AONn7YCtOfffqjvDm6h+uTcY3yh6nLfY4MoLzb4zuV5a3nQIRNd5pIt5D+0I940ontEAK14XCNgRDeup886HwoBlnKXp1eDHpsbm88s9WIJZuNaqHLue0gMvCTqpT+R+LFEgoHWeHV+TZ6sb8rq/Pqh/VtbXI/YpVqoNlhqRibgn5xNL25sQn0OhL1/nXyn3nCW4wPVgXyEeSIARqg+rcyt6dxH0t5hbSDHCIQbkgfmKlS/nHvBsPcfM/2nLY5IxuLURxQtxS3E35DTt8drT5xidj6BCBjRPYGTYl2KGQJGdGMGtTUUawTcP/jOD7/7HIwEQK7c+UJ9Jq/XFKy9w8q7ia6OyUP/jkIQQ7URarxY0UNh5b4XKRaHYRXw/q6PMLvbD/x5V4l1wDoOu3hIG8FwAwfuBe6Pj6w694LVcVjXIr5/yJicfnGOed8iHtTZLGhE92zOu43ah4ARXXsSDIETjoCb6J7wrlr3DAFD4AQiYET3BE6KdSlmCBjRjRnU1pAhEBkCRnQjw81KGQKGgA8BOla2GwAADOxJREFUI7r2JJxlBIzonuXZt7GfeARYEsZ7hKPRPfEdtg4aAicUga3NbVmZXZXFiSVZGF/SM7p3pBck5xoafa8acmeoSFDQM1P/cSb6ioZ+bWE9rCP1vWzzunCcE2N1n2gEjOie6Omxzp11BPAD21HUY0T3rD8IZ2n8u6LkM1wf1IdBtDS1LA0ZrVJ6rVpKrlWpG7/2wu79DYglV6vUd/RQ46hM98/KjssHNi+cbCbderLlOraFDXuQ3O0n29JbOSBNOe0hu0E9lOGIJLGpcapvVt3a4dqOo6OwR9oLugMe3CNPwpv31WVcJG1aGUMg3hEwohvvM2j9P9UI8MOGj1Gz6J7qabbBuRDYXN+UkdZx9U+8s/Oshw9X1rA+Epgk7+tidYNWfKVSau82SVdJr1piIaB5XxVJ5p8fSX16i7Tld4sTbIR782OLUne/RWpSmwRf1/gV1nwF3bKxvKF1NGS0KIEO1SmCfLQX+MhnqHzB7gUiuvg8xoe3/0Hgl7KbtUqAIeAEZ7FkCJxFBIzonsVZtzHHDQJKdB8a0Y2bCbOOHhkBIgM2ZrVJ+p8eKJlU12WHODfB+jvZMy2N2W1ScadOCJ4BuSP8rZMWJ5c1EEnuF4VKoqf6ZqS7ol/JIEFKrr+aIvf/mCd1ac1Sf79FJQKUhehSlmv4CyagRv7FMrn3fq48PF8qrQ879Xj4bYngVxkLL/IH3MZpxL+lDa2L67QJwYY0R5KwMvM/gQiMzjE7PK9+iPFF7D7AY2ZgTrBkk9dcwEWCuJU5DQgY0T0Ns2hjOLUIGNE9tVNrAwuCAMv6gw0jgkUS4gmRVO1rCLKLbhUrK1EFsbiWXK/WwCdL0yv7GlxIJxHsHnxdLBPd00pGJ3qmtRxWUQKzZHz0UMk1dVCnpl1RcjncPCbXXk6R5rwObYeAGpBegl5AlDM/fiSFlyrkydqmWoTr01t9VmCIbVqzEl+sqpBw2rNkCBgCsUHAiG5scLZWDIGIEDCiGxFsVijOEYDsYp3ESnrnjTQll1gmnY1j/sPDgprzeaF0FPfK4tSyDDSMSOq72TIzOO8L1CJ7ZLVpTMks1l60uGPtE7oJbWVuVYjYlv1pvjRktUpFYr1gWXYnNoDd+tU9GWoalebcDs1LGGOss0TGI6Jg4Q8VKmMgHHX+xXLJv1CqZP3KS4kyP7Ig452TUnarRoqvVGkAGOQRWIwtGQKGwPEhYET3+LC1mg2BIyPgJrpYtVj+DOvYC0bA0m64hxMIgB/iQ9uknTDaIK/Wy+acMMo5edkYBEnggBTt93U/AEN4/aEONho5dQY677cT7hy484eYj8PaD9Qnr9eIwIbXAQc/zoqZu2+hPmu/w8TU47wG6wdL7SNtE3LppwkCUcTKilU2UHKILhuvkBlgEb77+5wDRJfnDUKb/WmB3Hnjvtz69T15dL5UFid8BFo1rl8XS2N2u1ps3USXPi5MLMmN11LVCwoyhpzPCmSsfVKtuuh78WxQdKnyQPcIojLYMKphodfm11VegdU37YM8aSvolrmRxYgjGB5oyL4YAoZAUASM6AaFxm4YAs8fAYfofvfCTZnqnZWV2bWwDjbRjLSMCb54+6rDO1iqnR9f0tC5h7W7NLksA/UjntvAKsbmoNnhBc9l3P1n93zRpQphp3zrwy7dvDQ/uqjYEJaWXfNY7NxlQn1uL+zRjUbUGexoe9Qlkz0zYeHvj1uw+eipGJAaltyvVgdtP1i/vFwvu1kjTdnt6hnAwWG0dcLzWCLB1GnnsHMwTAnZDF6414NI4jmg6PJBIun8heIOjM1h9z98ILd/fU8JadLbmapPhWw6aWdnV91y8dJI/ehoIbEkniOeKzaiVSU/lS7wkjfWMSnJ72TK1z++KtdeTlby/d3/uynIF2rTmlUbzEY3LLruRBttj7qVXG8sP1YrdcHFcq0LCQNSBqQOlgwBQ+D4EDCie3zYWs2GwJERwIoIKUw5l6WbbLBqhXNUJTZI6XXfUinLpf5H7pdFkvnJI+Hsf49yVUkNB9oru1GjP9pYpNLez90/7v0hR4nIndfTxDkSf5uuBIUf/2frrpaKhHqpTKh/5p5/3kDfscRhmcv5rFAgDmglKxOf9pUNSSXXqj3XXfB9udYHmcKCCJlJ+V2WXsv6JF+JScIb95XYMO70Dx9I8dUqXb524xDqM9pQ+unMB5jf/X224nX7N2ly9edJ2vYPP7kjHPSD/qT/iSX1Aj0y/vxIrryYqPedfF7Ol3+WoJut7vwmTcfFMj8Yhuov9+izo3t1MEWL6sxxNM6QRf9+5F8o8z13yY2qf4W8/vAvd1TKgDXaP0FgFyeXpL92WPK+KlaL6UjLuM9zwlOee6CYo5d98E2xbirjzAsPFuGZofmn7sV2RQkxL3I95QPCS0l3Wb8eWI4h4/jgRc7ARjN34gWz6EqlSi8g4+Mdk8JLB9dmh+ZV5uAQbXc5+2wIGALRQ8CIbvSwtJoMgagjgDUJ61NnSd+xHGgV2TTD2UsbWL0qk+ql9Ea1+hwtvR78zA96c267+gH2UvfzzoMlD70l/a5IqFMLKH3qKOqVhkzfbn5nvM7YsMo51w47Q4La8rv2cQZzXiSCleOlgv7QLwcbiBgbn4KV8XLdGRvE7LD8/n2mH1hO/ctB3Hih4cxGMF4cHl0o1YNNZbwU8OLhXy7Yd9pg41hLXqcSc14CINjdFQP7Fljnj42/EUf+sL78WAkyJB55DNIONpXxwuifWFFoyevQzWHM4/0P8/R5JW8o3Sz3aA/5DAEnhprG1DKLSzR0xU5iNQbvEXhogAxThjyVSQ1Sn9HqZLOzIWAIHDMCRnSPGWCr3hAwBAyB044A5HCfUO55KXCid60vbviso0Esq4GwgUxSHtkCulgs2gN1w6oxdufHuos8YLhpTLDg9tUMKblO/+iBXqMMEhastO4ECV6ZW1OJy3jnlBLQjI8fqXcEtNJeEiSXYC4OiUfq407c7yrpUz/YznWsyLxgdJX2OZfsbAgYAseMgBHdYwbYqjcEDAFDwBAIA4FdUddfkEgkF0hGhlvGn7HkUiMkmqhgV3+RrJKOyy/6Nq5dfTlZ3YUhrSAIBITZndDmYs3FFy5yjmuvJOvmNSzWbk2vu4z/59HWcS2LVZ4+1t47KFtw8mNxdhLknaAReJCwZAgYArFBwIhubHC2VgwBQ8AQMAQ8IEBkNDaFpX2QqxZWiCEShEAJyy+WZAIi4DPXOTSYwsyKyn7w1LC5cbA83hLQHCMPYeMixHN1bu1AgIlA7bmvIUMgyAT66qy/5OuGT/f9QJ/REjseLwLdt2uGgCEQfQSM6EYfU6vREDAEDAFDIEIEkEGMtI2rLCCU79wIq9dio20TKnHAkwKeHJAfoC9mc5k8NcCGbAICjaUYDTfEGWutJUPAEDh5CBjRPXlzYj0yBAwBQ+DMIsBS/+NVXwjd4wIBAs1mN6y6jhcTpAd4RfBKdOknG9LYdIbm15IhYAicTASM6J7MebFeGQKGgCFgCBwjAttbPpK6vrSummD1tuDS0x5j01a1IWAIxBABI7oxBNuaMgQMAUPAEDAEDAFDwBCIHQJGdGOHtbVkCBgChoAhYAgYAoaAIRBDBIzoxhBsa8oQMAQMAUPAEDAEDAFDIHYIGNGNHdbWkiFgCBgChoAhYAgYAoZADBEwohtDsK0pQ8AQMAQMAUPAEDAEDIHYIWBEN3ZYW0uGgCFgCBgChoAhYAgYAjFEwIhuDMG2pgwBQ8AQMAQMAUPAEDAEYoeAEd3YYW0tGQKGgCFgCBgChoAhYAjEEAEjujEE25oyBAwBQ8AQMAQMAUPAEIgdAkZ0Y4e1tWQIGAKGgCFgCBgChoAhEEMEjOjGEGxryhAwBAwBQ8AQMAQMAUMgdggY0Y0d1taSIWAIGAKGgCFgCBgChkAMETCiG0OwrSlDwBAwBAwBQ8AQMAQMgdghYEQ3dlhbS4aAIWAIGAKGgCFgCBgCMUTAiG4MwbamDAFDwBAwBAwBQ8AQMARih4AR3dhhbS0ZAoaAIWAIGAKGgCFgCMQQASO6MQTbmjIEDAFDwBAwBAwBQ8AQiB0CRnRjh7W1ZAgYAoaAIWAIGAKGgCEQQwSM6MYQbGvKEDAEDAFDwBAwBAwBQyB2CBjRjR3W1pIhYAgYAoaAIWAIGAKGQAwRMKIbQ7CtKUPAEDAEDAFDwBAwBAyB2CFgRDd2WFtLhoAhYAgYAoaAIWAIGAIxRMCIbgzBtqYMAUPAEDAEDAFDwBAwBGKHgBHd2GFtLRkChoAhYAgYAoaAIWAIxBABI7oxBNuaMgQMAUPAEDAEDAFDwBCIHQJGdGOHtbVkCBgChoAhYAgYAoaAIRBDBIzoxhBsa8oQMAQMAUPAEDAEDAFDIHYIGNGNHdbWkiFgCBgChoAhYAgYAoZADBH4/xZmTb2SbproAAAAAElFTkSuQmCC)"
      ]
    },
    {
      "cell_type": "code",
      "metadata": {
        "colab": {
          "base_uri": "https://localhost:8080/"
        },
        "id": "_J3LId-vSmNH",
        "outputId": "c84b0f5a-0a8d-4d97-92fa-e508e7bc374c"
      },
      "source": [
        "#교차 검증을 위해서 cross_validate라는 함수를 활용 (기본적으로 5폴드 교차검증 수행)\n",
        "# 각 폴드에서 계산한 검증점수를 평균하는 과정이 반영 \n",
        "# 단 훈련세트를 다시 섞어서 폴드를 나누지는 않는다. \n",
        "\n",
        "from sklearn.model_selection import cross_validate\n",
        "\n",
        "scores = cross_validate(dt, train_input, train_target)\n",
        "print(scores)"
      ],
      "execution_count": null,
      "outputs": [
        {
          "output_type": "stream",
          "name": "stdout",
          "text": [
            "{'fit_time': array([0.00840712, 0.00721383, 0.00781298, 0.00752425, 0.00710797]), 'score_time': array([0.00083065, 0.00074816, 0.00079131, 0.00074983, 0.00083685]), 'test_score': array([0.86923077, 0.84615385, 0.87680462, 0.84889317, 0.83541867])}\n"
          ]
        }
      ]
    },
    {
      "cell_type": "code",
      "metadata": {
        "colab": {
          "base_uri": "https://localhost:8080/"
        },
        "id": "Yp3aagOoTHsO",
        "outputId": "d1a6b913-4c1d-4b62-8aa1-c248c10d1a7a"
      },
      "source": [
        "#교차검증을 활용해서 정학도를 계산함\n",
        "\n",
        "import numpy as np\n",
        "\n",
        "print(np.mean(scores['test_score']))"
      ],
      "execution_count": null,
      "outputs": [
        {
          "output_type": "stream",
          "name": "stdout",
          "text": [
            "0.855300214703487\n"
          ]
        }
      ]
    },
    {
      "cell_type": "code",
      "metadata": {
        "colab": {
          "base_uri": "https://localhost:8080/"
        },
        "id": "0tQyaG0576Vn",
        "outputId": "6a6bc9c4-f981-412c-dec7-f0d2ca6cfa82"
      },
      "source": [
        "# 훈련세트를 다시 섞어서 폴드를 나눈다 : startifieldKFold\n",
        "\n",
        "from sklearn.model_selection import StratifiedKFold\n",
        "\n",
        "scores = cross_validate(dt, train_input, train_target, cv=StratifiedKFold())\n",
        "print(np.mean(scores['test_score']))"
      ],
      "execution_count": null,
      "outputs": [
        {
          "output_type": "stream",
          "name": "stdout",
          "text": [
            "0.855300214703487\n"
          ]
        }
      ]
    },
    {
      "cell_type": "code",
      "metadata": {
        "colab": {
          "base_uri": "https://localhost:8080/"
        },
        "id": "1BmP_OTT_agM",
        "outputId": "cdec0867-38c2-4a28-8c72-3ba0aa00346a"
      },
      "source": [
        "#폴드숫자를 10으로 해서 검증\n",
        "splitter = StratifiedKFold(n_splits=10, shuffle=True, random_state=42)\n",
        "scores = cross_validate(dt, train_input, train_target, cv=splitter)\n",
        "print(np.mean(scores['test_score']))"
      ],
      "execution_count": null,
      "outputs": [
        {
          "output_type": "stream",
          "name": "stdout",
          "text": [
            "0.8574181117533719\n"
          ]
        }
      ]
    },
    {
      "cell_type": "markdown",
      "metadata": {
        "id": "Q21W8RsqDsDV"
      },
      "source": [
        "#3. 하이퍼파라미터 튜닝"
      ]
    },
    {
      "cell_type": "code",
      "metadata": {
        "id": "S8pqss8onjR5"
      },
      "source": [
        "#사용자가 직접 지정해서 모형을 학습하는데, 번거롭고 여럽다. \n",
        "#파이썬의 GridSerch를 통해서 쉽게 가능 \n",
        "\n",
        "#임의로 어떤 값을 입력 => 해당하는 결과를 쉽게 계산가능\n",
        "\n",
        "from sklearn.model_selection import GridSearchCV\n",
        "\n",
        "params = {'min_impurity_decrease': [0.000, 0.0005, 0.0004, 0.0006, 0.0004]}"
      ],
      "execution_count": null,
      "outputs": []
    },
    {
      "cell_type": "code",
      "metadata": {
        "id": "79MymJqxTu0P"
      },
      "source": [
        "#위에서 계산한 param 값을 집어널고 모형을 훈련 \n",
        "#모형을 훈련할 때, 이 과정을 위해 사용할 컴퓨터 리소스(cpu) 숫자 지정가능 : -1 (전부사용)\n",
        "\n",
        "gs = GridSearchCV(DecisionTreeClassifier(random_state=42), params, n_jobs=-1)"
      ],
      "execution_count": null,
      "outputs": []
    },
    {
      "cell_type": "code",
      "metadata": {
        "colab": {
          "base_uri": "https://localhost:8080/"
        },
        "id": "tKAlTabkU-Lz",
        "outputId": "ce2fb882-12fb-4b70-c3b0-c6be1109700e"
      },
      "source": [
        "gs.fit(train_input, train_target)"
      ],
      "execution_count": null,
      "outputs": [
        {
          "output_type": "execute_result",
          "data": {
            "text/plain": [
              "GridSearchCV(estimator=DecisionTreeClassifier(random_state=42), n_jobs=-1,\n",
              "             param_grid={'min_impurity_decrease': [0.0, 0.0005, 0.0004, 0.0006,\n",
              "                                                   0.0004]})"
            ]
          },
          "metadata": {},
          "execution_count": 23
        }
      ]
    },
    {
      "cell_type": "code",
      "metadata": {
        "colab": {
          "base_uri": "https://localhost:8080/"
        },
        "id": "q6iX3vH-VeEb",
        "outputId": "2dab16c5-f3bc-438c-d453-b41c925035a4"
      },
      "source": [
        "#가장 성능이 좋게 나오는 수치를 출력 (여기서는 테스트->검증용)\n",
        "dt = gs.best_estimator_\n",
        "print(dt.score(train_input, train_target))"
      ],
      "execution_count": null,
      "outputs": [
        {
          "output_type": "stream",
          "name": "stdout",
          "text": [
            "0.8934000384837406\n"
          ]
        }
      ]
    },
    {
      "cell_type": "code",
      "metadata": {
        "colab": {
          "base_uri": "https://localhost:8080/"
        },
        "id": "lIzod3BwVHq-",
        "outputId": "22ab24a6-b321-441e-cfdf-2c109c3e2f90"
      },
      "source": [
        "#검증용 셑에서 성능이 가장 좋았던 param값을 출력\n",
        "print(gs.best_params_)"
      ],
      "execution_count": null,
      "outputs": [
        {
          "output_type": "stream",
          "name": "stdout",
          "text": [
            "{'min_impurity_decrease': 0.0004}\n"
          ]
        }
      ]
    },
    {
      "cell_type": "code",
      "metadata": {
        "colab": {
          "base_uri": "https://localhost:8080/"
        },
        "id": "0xfQswiui4Tr",
        "outputId": "82b78410-82f0-40cd-fb2b-8352e3cbeccb"
      },
      "source": [
        "#해당하는 값을 가지고 실제 테스트 셑에 대입해서 정확도 계산\n",
        "print(gs.cv_results_['mean_test_score'])"
      ],
      "execution_count": null,
      "outputs": [
        {
          "output_type": "stream",
          "name": "stdout",
          "text": [
            "[0.85530021 0.86761605 0.86780891 0.86338306 0.86780891]\n"
          ]
        }
      ]
    },
    {
      "cell_type": "code",
      "metadata": {
        "colab": {
          "base_uri": "https://localhost:8080/"
        },
        "id": "Rwg2aSyEVO17",
        "outputId": "d4e6757f-634c-43b8-fef7-3648227dbb17"
      },
      "source": [
        "#성능이 실제 test결과 가장 좋았는 param 값을 출력 \n",
        "best_index = np.argmax(gs.cv_results_['mean_test_score'])\n",
        "print(gs.cv_results_['params'][best_index])"
      ],
      "execution_count": null,
      "outputs": [
        {
          "output_type": "stream",
          "name": "stdout",
          "text": [
            "{'min_impurity_decrease': 0.0004}\n"
          ]
        }
      ]
    },
    {
      "cell_type": "code",
      "metadata": {
        "id": "8jHxZ7XmVU11"
      },
      "source": [
        "#세부적인 조건을 지정하는 경우\n",
        "#np.arrange -> param 값을 입력한 범위\n",
        "#깊이를 5부터 20까지 1씩 증가하는 범위로 \n",
        "#샘플 숫자도 2에서 100까지 10씩 증가하는 범위로  \n",
        "params = {'min_impurity_decrease': np.arange(0.0001, 0.001, 0.0001),\n",
        "          'max_depth': range(5, 20, 1),\n",
        "          'min_samples_split': range(2, 100, 10)\n",
        "          }"
      ],
      "execution_count": null,
      "outputs": []
    },
    {
      "cell_type": "code",
      "metadata": {
        "colab": {
          "base_uri": "https://localhost:8080/"
        },
        "id": "KnP3GA6MVsVH",
        "outputId": "c7356a98-0a8d-47bc-8b3b-8ed20e03f96c"
      },
      "source": [
        "gs = GridSearchCV(DecisionTreeClassifier(random_state=42), params, n_jobs=-1)\n",
        "gs.fit(train_input, train_target)"
      ],
      "execution_count": null,
      "outputs": [
        {
          "output_type": "execute_result",
          "data": {
            "text/plain": [
              "GridSearchCV(estimator=DecisionTreeClassifier(random_state=42), n_jobs=-1,\n",
              "             param_grid={'max_depth': range(5, 20),\n",
              "                         'min_impurity_decrease': array([0.0001, 0.0002, 0.0003, 0.0004, 0.0005, 0.0006, 0.0007, 0.0008,\n",
              "       0.0009]),\n",
              "                         'min_samples_split': range(2, 100, 10)})"
            ]
          },
          "metadata": {},
          "execution_count": 33
        }
      ]
    },
    {
      "cell_type": "code",
      "metadata": {
        "colab": {
          "base_uri": "https://localhost:8080/"
        },
        "id": "qi9-O_VGV0Ho",
        "outputId": "a98c7aac-d703-4613-a8b4-2ac8b881835e"
      },
      "source": [
        "#최상의 매개변수 조합?\n",
        "print(gs.best_params_)"
      ],
      "execution_count": null,
      "outputs": [
        {
          "output_type": "stream",
          "name": "stdout",
          "text": [
            "{'max_depth': 14, 'min_impurity_decrease': 0.0004, 'min_samples_split': 12}\n"
          ]
        }
      ]
    },
    {
      "cell_type": "code",
      "metadata": {
        "colab": {
          "base_uri": "https://localhost:8080/"
        },
        "id": "ZnJjLATAV2Sq",
        "outputId": "374a7725-2c30-475d-af2c-1ece065bddee"
      },
      "source": [
        "#최상의 매개변수 조합 시 정확도 \n",
        "print(np.max(gs.cv_results_['mean_test_score']))"
      ],
      "execution_count": null,
      "outputs": [
        {
          "output_type": "stream",
          "name": "stdout",
          "text": [
            "0.8683865773302731\n"
          ]
        }
      ]
    },
    {
      "cell_type": "markdown",
      "metadata": {
        "id": "d0k9DQTNlaD6"
      },
      "source": [
        "#4. 랜덤 서치"
      ]
    },
    {
      "cell_type": "markdown",
      "metadata": {
        "id": "Snj70pUTe4EH"
      },
      "source": [
        "위 3에서의 매개변수(params) : 0.0001. 0.0002 등 범위가 간격이 일정했음\n",
        "\n",
        "만약에 실수 범위이고, param에 입력할 값도 여러개 있다면 어떻게 해야하는가?\n",
        "\n",
        "=> 랜섬서치를 사용\n"
      ]
    },
    {
      "cell_type": "code",
      "metadata": {
        "id": "_T9KTEk1GBcY"
      },
      "source": [
        "#우리가 param(매개변수) 값을 지정하지 않고 랜덤으로 쉽게 구해보고 싶다. \n",
        "from scipy.stats import uniform, randint"
      ],
      "execution_count": null,
      "outputs": []
    },
    {
      "cell_type": "code",
      "metadata": {
        "colab": {
          "base_uri": "https://localhost:8080/"
        },
        "id": "fd0UJpCGGDhz",
        "outputId": "6e7c3e35-9824-4db5-8685-4a4f771e57ef"
      },
      "source": [
        "#0부터 1까지 값을 가지는 수치를 10개 샘플링\n",
        "rgen = randint(0, 10)\n",
        "rgen.rvs(10)"
      ],
      "execution_count": null,
      "outputs": [
        {
          "output_type": "execute_result",
          "data": {
            "text/plain": [
              "array([6, 3, 0, 9, 1, 3, 0, 6, 5, 9])"
            ]
          },
          "metadata": {},
          "execution_count": 37
        }
      ]
    },
    {
      "cell_type": "code",
      "metadata": {
        "colab": {
          "base_uri": "https://localhost:8080/"
        },
        "id": "ch3zTUohIJR6",
        "outputId": "e9654161-74e3-42db-d7df-7b6192387384"
      },
      "source": [
        "#1000개를 샘플링 하는 경우\n",
        "np.unique(rgen.rvs(1000), return_counts=True)"
      ],
      "execution_count": null,
      "outputs": [
        {
          "output_type": "execute_result",
          "data": {
            "text/plain": [
              "(array([0, 1, 2, 3, 4, 5, 6, 7, 8, 9]),\n",
              " array([104,  97,  97, 107, 108, 102, 102,  88,  95, 100]))"
            ]
          },
          "metadata": {},
          "execution_count": 38
        }
      ]
    },
    {
      "cell_type": "code",
      "metadata": {
        "colab": {
          "base_uri": "https://localhost:8080/"
        },
        "id": "bGhshTn0IjkI",
        "outputId": "8464f638-d6ce-4449-935d-f7ae1a623201"
      },
      "source": [
        "#숫자가 아니라 수를 랜덤으로 10개 뽑는 경우\n",
        "ugen = uniform(0, 1)\n",
        "ugen.rvs(10)"
      ],
      "execution_count": null,
      "outputs": [
        {
          "output_type": "execute_result",
          "data": {
            "text/plain": [
              "array([0.34464812, 0.9990448 , 0.3763808 , 0.81185382, 0.58685623,\n",
              "       0.8127684 , 0.3034759 , 0.93761473, 0.76003273, 0.61794493])"
            ]
          },
          "metadata": {},
          "execution_count": 39
        }
      ]
    },
    {
      "cell_type": "code",
      "metadata": {
        "id": "irDX9e6WYTIH"
      },
      "source": [
        "#매개변수(papram)의 범위를 설정하는 조건식\n",
        "\n",
        "params = {'min_impurity_decrease': uniform(0.0001, 0.001),\n",
        "          'max_depth': randint(20, 50),\n",
        "          'min_samples_split': randint(2, 25),\n",
        "          'min_samples_leaf': randint(1, 25),\n",
        "          }"
      ],
      "execution_count": null,
      "outputs": []
    },
    {
      "cell_type": "code",
      "metadata": {
        "colab": {
          "base_uri": "https://localhost:8080/"
        },
        "id": "Wc4OIingWQCK",
        "outputId": "e7fa15ff-3b21-4986-d371-c27d4942fb70"
      },
      "source": [
        "#조건식 중에 최적값을 어떻게 고르는가?\n",
        "#위 과정을 100번 반복(n_iter)해서 교차 검증을 통해 매개변수(param) 조합을 찾아냄 \n",
        "\n",
        "from sklearn.model_selection import RandomizedSearchCV\n",
        "\n",
        "gs = RandomizedSearchCV(DecisionTreeClassifier(random_state=42), params, \n",
        "                        n_iter=100, n_jobs=-1, random_state=42)\n",
        "gs.fit(train_input, train_target)"
      ],
      "execution_count": null,
      "outputs": [
        {
          "output_type": "execute_result",
          "data": {
            "text/plain": [
              "RandomizedSearchCV(estimator=DecisionTreeClassifier(random_state=42),\n",
              "                   n_iter=100, n_jobs=-1,\n",
              "                   param_distributions={'max_depth': <scipy.stats._distn_infrastructure.rv_frozen object at 0x7f06059a5c90>,\n",
              "                                        'min_impurity_decrease': <scipy.stats._distn_infrastructure.rv_frozen object at 0x7f06059a5950>,\n",
              "                                        'min_samples_leaf': <scipy.stats._distn_infrastructure.rv_frozen object at 0x7f06059a5610>,\n",
              "                                        'min_samples_split': <scipy.stats._distn_infrastructure.rv_frozen object at 0x7f06059a5a50>},\n",
              "                   random_state=42)"
            ]
          },
          "metadata": {},
          "execution_count": 41
        }
      ]
    },
    {
      "cell_type": "code",
      "metadata": {
        "colab": {
          "base_uri": "https://localhost:8080/"
        },
        "id": "p7IbsGH3ZSv-",
        "outputId": "cff9c9de-20f7-42cd-f215-16e588e6db9d"
      },
      "source": [
        "#최적의 조합을 출력 \n",
        "print(gs.best_params_)"
      ],
      "execution_count": null,
      "outputs": [
        {
          "output_type": "stream",
          "name": "stdout",
          "text": [
            "{'max_depth': 39, 'min_impurity_decrease': 0.00034102546602601173, 'min_samples_leaf': 7, 'min_samples_split': 13}\n"
          ]
        }
      ]
    },
    {
      "cell_type": "code",
      "metadata": {
        "colab": {
          "base_uri": "https://localhost:8080/"
        },
        "id": "dYI3HwMQbtnr",
        "outputId": "0b3914f2-e6c8-4510-d6bb-899b3fdda9e1"
      },
      "source": [
        "#최적의 조합 -> 검증세트 \n",
        "print(np.max(gs.cv_results_['mean_test_score']))"
      ],
      "execution_count": null,
      "outputs": [
        {
          "output_type": "stream",
          "name": "stdout",
          "text": [
            "0.8695428296438884\n"
          ]
        }
      ]
    },
    {
      "cell_type": "code",
      "metadata": {
        "colab": {
          "base_uri": "https://localhost:8080/"
        },
        "id": "3QV7yRpidByf",
        "outputId": "c70d5b5e-eaa7-4f17-b6ca-a49f9fe5e8ad"
      },
      "source": [
        "#최적의 조합 -> 테스트 세트 \n",
        "dt = gs.best_estimator_\n",
        "\n",
        "print(dt.score(test_input, test_target))"
      ],
      "execution_count": null,
      "outputs": [
        {
          "output_type": "stream",
          "name": "stdout",
          "text": [
            "0.86\n"
          ]
        }
      ]
    },
    {
      "cell_type": "markdown",
      "metadata": {
        "id": "cA42IsMdhgE7"
      },
      "source": [
        "## 확인문제"
      ]
    },
    {
      "cell_type": "code",
      "metadata": {
        "colab": {
          "base_uri": "https://localhost:8080/"
        },
        "id": "8qxg36iThiUm",
        "outputId": "3064bc62-c72a-452f-f035-d8d3a2d73ef1"
      },
      "source": [
        "#분류기준을 random으로 해서 계산 \n",
        "\n",
        "gs = RandomizedSearchCV(DecisionTreeClassifier(splitter='random', random_state=42), params, \n",
        "                        n_iter=100, n_jobs=-1, random_state=42)\n",
        "gs.fit(train_input, train_target)"
      ],
      "execution_count": null,
      "outputs": [
        {
          "output_type": "execute_result",
          "data": {
            "text/plain": [
              "RandomizedSearchCV(estimator=DecisionTreeClassifier(random_state=42,\n",
              "                                                    splitter='random'),\n",
              "                   n_iter=100, n_jobs=-1,\n",
              "                   param_distributions={'max_depth': <scipy.stats._distn_infrastructure.rv_frozen object at 0x7f06059a5c90>,\n",
              "                                        'min_impurity_decrease': <scipy.stats._distn_infrastructure.rv_frozen object at 0x7f06059a5950>,\n",
              "                                        'min_samples_leaf': <scipy.stats._distn_infrastructure.rv_frozen object at 0x7f06059a5610>,\n",
              "                                        'min_samples_split': <scipy.stats._distn_infrastructure.rv_frozen object at 0x7f06059a5a50>},\n",
              "                   random_state=42)"
            ]
          },
          "metadata": {},
          "execution_count": 45
        }
      ]
    },
    {
      "cell_type": "code",
      "metadata": {
        "colab": {
          "base_uri": "https://localhost:8080/"
        },
        "id": "CMZ4UE8ihqwg",
        "outputId": "23e4476d-77fb-4e24-9d1a-742f3eac52b5"
      },
      "source": [
        "print(gs.best_params_)\n",
        "print(np.max(gs.cv_results_['mean_test_score']))\n",
        "\n",
        "dt = gs.best_estimator_\n",
        "print(dt.score(test_input, test_target))"
      ],
      "execution_count": null,
      "outputs": [
        {
          "output_type": "stream",
          "name": "stdout",
          "text": [
            "{'max_depth': 43, 'min_impurity_decrease': 0.00011407982271508446, 'min_samples_leaf': 19, 'min_samples_split': 18}\n",
            "0.8458726956392981\n",
            "0.786923076923077\n"
          ]
        }
      ]
    }
  ]
}