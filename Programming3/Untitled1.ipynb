{
 "cells": [
  {
   "cell_type": "code",
   "execution_count": null,
   "id": "5f0922a7-91f6-4593-be70-1b459449ef81",
   "metadata": {},
   "outputs": [],
   "source": [
    "import pandas as pd\n",
    "import numpy as np"
   ]
  },
  {
   "cell_type": "code",
   "execution_count": null,
   "id": "d050fc85-9f25-4802-ab51-37f666223a7a",
   "metadata": {},
   "outputs": [],
   "source": [
    "movie = pd.read_csv('/Users/1eeseo/Desktop/data/Apart_Deal.csv', index_col='movie_title')\n",
    "movie[['duration']].head(10)    #duration : 상영시간\n",
    "#[] -> 시리즈 형태로 출력\n",
    "#[[]] -> 데이터 프레임 형태로 출력"
   ]
  }
 ],
 "metadata": {
  "kernelspec": {
   "display_name": "",
   "name": ""
  },
  "language_info": {
   "name": ""
  }
 },
 "nbformat": 4,
 "nbformat_minor": 5
}
